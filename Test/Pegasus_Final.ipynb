{
  "nbformat": 4,
  "nbformat_minor": 0,
  "metadata": {
    "accelerator": "GPU",
    "colab": {
      "name": "Pegasus_FT.ipynb",
      "provenance": [],
      "collapsed_sections": []
    },
    "kernelspec": {
      "display_name": "Python 3",
      "name": "python3"
    },
    "widgets": {
      "application/vnd.jupyter.widget-state+json": {
        "5167085e83c24d33adeab7b66647fc2f": {
          "model_module": "@jupyter-widgets/controls",
          "model_name": "HBoxModel",
          "model_module_version": "1.5.0",
          "state": {
            "_dom_classes": [],
            "_model_module": "@jupyter-widgets/controls",
            "_model_module_version": "1.5.0",
            "_model_name": "HBoxModel",
            "_view_count": null,
            "_view_module": "@jupyter-widgets/controls",
            "_view_module_version": "1.5.0",
            "_view_name": "HBoxView",
            "box_style": "",
            "children": [
              "IPY_MODEL_c1e3d6b965bc412abcb897c540232d64",
              "IPY_MODEL_a406ab4cef824f1f894bbe4b830e3b18",
              "IPY_MODEL_ca98c7e8cad149ceb047203241608e91"
            ],
            "layout": "IPY_MODEL_7635eccb3faa4c8ebf2dd34dabe20bb5"
          }
        },
        "c1e3d6b965bc412abcb897c540232d64": {
          "model_module": "@jupyter-widgets/controls",
          "model_name": "HTMLModel",
          "model_module_version": "1.5.0",
          "state": {
            "_dom_classes": [],
            "_model_module": "@jupyter-widgets/controls",
            "_model_module_version": "1.5.0",
            "_model_name": "HTMLModel",
            "_view_count": null,
            "_view_module": "@jupyter-widgets/controls",
            "_view_module_version": "1.5.0",
            "_view_name": "HTMLView",
            "description": "",
            "description_tooltip": null,
            "layout": "IPY_MODEL_4eed4636f9b74ceebbc3633f1d733317",
            "placeholder": "​",
            "style": "IPY_MODEL_210ed4e2b1a94199be432270777ffe5b",
            "value": "100%"
          }
        },
        "a406ab4cef824f1f894bbe4b830e3b18": {
          "model_module": "@jupyter-widgets/controls",
          "model_name": "FloatProgressModel",
          "model_module_version": "1.5.0",
          "state": {
            "_dom_classes": [],
            "_model_module": "@jupyter-widgets/controls",
            "_model_module_version": "1.5.0",
            "_model_name": "FloatProgressModel",
            "_view_count": null,
            "_view_module": "@jupyter-widgets/controls",
            "_view_module_version": "1.5.0",
            "_view_name": "ProgressView",
            "bar_style": "success",
            "description": "",
            "description_tooltip": null,
            "layout": "IPY_MODEL_72915fca8c0844feaccba18c89635f7f",
            "max": 1,
            "min": 0,
            "orientation": "horizontal",
            "style": "IPY_MODEL_58ed1e982e7c412abd8c3d3dc8ae7a52",
            "value": 1
          }
        },
        "ca98c7e8cad149ceb047203241608e91": {
          "model_module": "@jupyter-widgets/controls",
          "model_name": "HTMLModel",
          "model_module_version": "1.5.0",
          "state": {
            "_dom_classes": [],
            "_model_module": "@jupyter-widgets/controls",
            "_model_module_version": "1.5.0",
            "_model_name": "HTMLModel",
            "_view_count": null,
            "_view_module": "@jupyter-widgets/controls",
            "_view_module_version": "1.5.0",
            "_view_name": "HTMLView",
            "description": "",
            "description_tooltip": null,
            "layout": "IPY_MODEL_3b7440ec642646bd8545588a54ab135c",
            "placeholder": "​",
            "style": "IPY_MODEL_a32b261069554689a85b7262e4daf0e7",
            "value": " 1/1 [00:00&lt;00:00,  4.18ba/s]"
          }
        },
        "7635eccb3faa4c8ebf2dd34dabe20bb5": {
          "model_module": "@jupyter-widgets/base",
          "model_name": "LayoutModel",
          "model_module_version": "1.2.0",
          "state": {
            "_model_module": "@jupyter-widgets/base",
            "_model_module_version": "1.2.0",
            "_model_name": "LayoutModel",
            "_view_count": null,
            "_view_module": "@jupyter-widgets/base",
            "_view_module_version": "1.2.0",
            "_view_name": "LayoutView",
            "align_content": null,
            "align_items": null,
            "align_self": null,
            "border": null,
            "bottom": null,
            "display": null,
            "flex": null,
            "flex_flow": null,
            "grid_area": null,
            "grid_auto_columns": null,
            "grid_auto_flow": null,
            "grid_auto_rows": null,
            "grid_column": null,
            "grid_gap": null,
            "grid_row": null,
            "grid_template_areas": null,
            "grid_template_columns": null,
            "grid_template_rows": null,
            "height": null,
            "justify_content": null,
            "justify_items": null,
            "left": null,
            "margin": null,
            "max_height": null,
            "max_width": null,
            "min_height": null,
            "min_width": null,
            "object_fit": null,
            "object_position": null,
            "order": null,
            "overflow": null,
            "overflow_x": null,
            "overflow_y": null,
            "padding": null,
            "right": null,
            "top": null,
            "visibility": null,
            "width": null
          }
        },
        "4eed4636f9b74ceebbc3633f1d733317": {
          "model_module": "@jupyter-widgets/base",
          "model_name": "LayoutModel",
          "model_module_version": "1.2.0",
          "state": {
            "_model_module": "@jupyter-widgets/base",
            "_model_module_version": "1.2.0",
            "_model_name": "LayoutModel",
            "_view_count": null,
            "_view_module": "@jupyter-widgets/base",
            "_view_module_version": "1.2.0",
            "_view_name": "LayoutView",
            "align_content": null,
            "align_items": null,
            "align_self": null,
            "border": null,
            "bottom": null,
            "display": null,
            "flex": null,
            "flex_flow": null,
            "grid_area": null,
            "grid_auto_columns": null,
            "grid_auto_flow": null,
            "grid_auto_rows": null,
            "grid_column": null,
            "grid_gap": null,
            "grid_row": null,
            "grid_template_areas": null,
            "grid_template_columns": null,
            "grid_template_rows": null,
            "height": null,
            "justify_content": null,
            "justify_items": null,
            "left": null,
            "margin": null,
            "max_height": null,
            "max_width": null,
            "min_height": null,
            "min_width": null,
            "object_fit": null,
            "object_position": null,
            "order": null,
            "overflow": null,
            "overflow_x": null,
            "overflow_y": null,
            "padding": null,
            "right": null,
            "top": null,
            "visibility": null,
            "width": null
          }
        },
        "210ed4e2b1a94199be432270777ffe5b": {
          "model_module": "@jupyter-widgets/controls",
          "model_name": "DescriptionStyleModel",
          "model_module_version": "1.5.0",
          "state": {
            "_model_module": "@jupyter-widgets/controls",
            "_model_module_version": "1.5.0",
            "_model_name": "DescriptionStyleModel",
            "_view_count": null,
            "_view_module": "@jupyter-widgets/base",
            "_view_module_version": "1.2.0",
            "_view_name": "StyleView",
            "description_width": ""
          }
        },
        "72915fca8c0844feaccba18c89635f7f": {
          "model_module": "@jupyter-widgets/base",
          "model_name": "LayoutModel",
          "model_module_version": "1.2.0",
          "state": {
            "_model_module": "@jupyter-widgets/base",
            "_model_module_version": "1.2.0",
            "_model_name": "LayoutModel",
            "_view_count": null,
            "_view_module": "@jupyter-widgets/base",
            "_view_module_version": "1.2.0",
            "_view_name": "LayoutView",
            "align_content": null,
            "align_items": null,
            "align_self": null,
            "border": null,
            "bottom": null,
            "display": null,
            "flex": null,
            "flex_flow": null,
            "grid_area": null,
            "grid_auto_columns": null,
            "grid_auto_flow": null,
            "grid_auto_rows": null,
            "grid_column": null,
            "grid_gap": null,
            "grid_row": null,
            "grid_template_areas": null,
            "grid_template_columns": null,
            "grid_template_rows": null,
            "height": null,
            "justify_content": null,
            "justify_items": null,
            "left": null,
            "margin": null,
            "max_height": null,
            "max_width": null,
            "min_height": null,
            "min_width": null,
            "object_fit": null,
            "object_position": null,
            "order": null,
            "overflow": null,
            "overflow_x": null,
            "overflow_y": null,
            "padding": null,
            "right": null,
            "top": null,
            "visibility": null,
            "width": null
          }
        },
        "58ed1e982e7c412abd8c3d3dc8ae7a52": {
          "model_module": "@jupyter-widgets/controls",
          "model_name": "ProgressStyleModel",
          "model_module_version": "1.5.0",
          "state": {
            "_model_module": "@jupyter-widgets/controls",
            "_model_module_version": "1.5.0",
            "_model_name": "ProgressStyleModel",
            "_view_count": null,
            "_view_module": "@jupyter-widgets/base",
            "_view_module_version": "1.2.0",
            "_view_name": "StyleView",
            "bar_color": null,
            "description_width": ""
          }
        },
        "3b7440ec642646bd8545588a54ab135c": {
          "model_module": "@jupyter-widgets/base",
          "model_name": "LayoutModel",
          "model_module_version": "1.2.0",
          "state": {
            "_model_module": "@jupyter-widgets/base",
            "_model_module_version": "1.2.0",
            "_model_name": "LayoutModel",
            "_view_count": null,
            "_view_module": "@jupyter-widgets/base",
            "_view_module_version": "1.2.0",
            "_view_name": "LayoutView",
            "align_content": null,
            "align_items": null,
            "align_self": null,
            "border": null,
            "bottom": null,
            "display": null,
            "flex": null,
            "flex_flow": null,
            "grid_area": null,
            "grid_auto_columns": null,
            "grid_auto_flow": null,
            "grid_auto_rows": null,
            "grid_column": null,
            "grid_gap": null,
            "grid_row": null,
            "grid_template_areas": null,
            "grid_template_columns": null,
            "grid_template_rows": null,
            "height": null,
            "justify_content": null,
            "justify_items": null,
            "left": null,
            "margin": null,
            "max_height": null,
            "max_width": null,
            "min_height": null,
            "min_width": null,
            "object_fit": null,
            "object_position": null,
            "order": null,
            "overflow": null,
            "overflow_x": null,
            "overflow_y": null,
            "padding": null,
            "right": null,
            "top": null,
            "visibility": null,
            "width": null
          }
        },
        "a32b261069554689a85b7262e4daf0e7": {
          "model_module": "@jupyter-widgets/controls",
          "model_name": "DescriptionStyleModel",
          "model_module_version": "1.5.0",
          "state": {
            "_model_module": "@jupyter-widgets/controls",
            "_model_module_version": "1.5.0",
            "_model_name": "DescriptionStyleModel",
            "_view_count": null,
            "_view_module": "@jupyter-widgets/base",
            "_view_module_version": "1.2.0",
            "_view_name": "StyleView",
            "description_width": ""
          }
        },
        "d08ad609d7444d109433067a3dfa09e2": {
          "model_module": "@jupyter-widgets/controls",
          "model_name": "VBoxModel",
          "model_module_version": "1.5.0",
          "state": {
            "_dom_classes": [],
            "_model_module": "@jupyter-widgets/controls",
            "_model_module_version": "1.5.0",
            "_model_name": "VBoxModel",
            "_view_count": null,
            "_view_module": "@jupyter-widgets/controls",
            "_view_module_version": "1.5.0",
            "_view_name": "VBoxView",
            "box_style": "",
            "children": [
              "IPY_MODEL_f0f1890e22124970ab771e890bed0072",
              "IPY_MODEL_bc54336e5af0473aadba90115a0369f9"
            ],
            "layout": "IPY_MODEL_0f3e0818270e4cf399bfe6610a5c4fa5"
          }
        },
        "f0f1890e22124970ab771e890bed0072": {
          "model_module": "@jupyter-widgets/controls",
          "model_name": "LabelModel",
          "model_module_version": "1.5.0",
          "state": {
            "_dom_classes": [],
            "_model_module": "@jupyter-widgets/controls",
            "_model_module_version": "1.5.0",
            "_model_name": "LabelModel",
            "_view_count": null,
            "_view_module": "@jupyter-widgets/controls",
            "_view_module_version": "1.5.0",
            "_view_name": "LabelView",
            "description": "",
            "description_tooltip": null,
            "layout": "IPY_MODEL_f96aedce50e240b59b5aa23b887bc7cb",
            "placeholder": "​",
            "style": "IPY_MODEL_731b8f077a404b93834c803c415354c2",
            "value": "1.032 MB of 1.032 MB uploaded (0.000 MB deduped)\r"
          }
        },
        "bc54336e5af0473aadba90115a0369f9": {
          "model_module": "@jupyter-widgets/controls",
          "model_name": "FloatProgressModel",
          "model_module_version": "1.5.0",
          "state": {
            "_dom_classes": [],
            "_model_module": "@jupyter-widgets/controls",
            "_model_module_version": "1.5.0",
            "_model_name": "FloatProgressModel",
            "_view_count": null,
            "_view_module": "@jupyter-widgets/controls",
            "_view_module_version": "1.5.0",
            "_view_name": "ProgressView",
            "bar_style": "",
            "description": "",
            "description_tooltip": null,
            "layout": "IPY_MODEL_c6d83ed52b554d48b7d3a917bb58f40a",
            "max": 1,
            "min": 0,
            "orientation": "horizontal",
            "style": "IPY_MODEL_7aceb503b3834f65ae1c9d78201c4dd1",
            "value": 1
          }
        },
        "0f3e0818270e4cf399bfe6610a5c4fa5": {
          "model_module": "@jupyter-widgets/base",
          "model_name": "LayoutModel",
          "model_module_version": "1.2.0",
          "state": {
            "_model_module": "@jupyter-widgets/base",
            "_model_module_version": "1.2.0",
            "_model_name": "LayoutModel",
            "_view_count": null,
            "_view_module": "@jupyter-widgets/base",
            "_view_module_version": "1.2.0",
            "_view_name": "LayoutView",
            "align_content": null,
            "align_items": null,
            "align_self": null,
            "border": null,
            "bottom": null,
            "display": null,
            "flex": null,
            "flex_flow": null,
            "grid_area": null,
            "grid_auto_columns": null,
            "grid_auto_flow": null,
            "grid_auto_rows": null,
            "grid_column": null,
            "grid_gap": null,
            "grid_row": null,
            "grid_template_areas": null,
            "grid_template_columns": null,
            "grid_template_rows": null,
            "height": null,
            "justify_content": null,
            "justify_items": null,
            "left": null,
            "margin": null,
            "max_height": null,
            "max_width": null,
            "min_height": null,
            "min_width": null,
            "object_fit": null,
            "object_position": null,
            "order": null,
            "overflow": null,
            "overflow_x": null,
            "overflow_y": null,
            "padding": null,
            "right": null,
            "top": null,
            "visibility": null,
            "width": null
          }
        },
        "f96aedce50e240b59b5aa23b887bc7cb": {
          "model_module": "@jupyter-widgets/base",
          "model_name": "LayoutModel",
          "model_module_version": "1.2.0",
          "state": {
            "_model_module": "@jupyter-widgets/base",
            "_model_module_version": "1.2.0",
            "_model_name": "LayoutModel",
            "_view_count": null,
            "_view_module": "@jupyter-widgets/base",
            "_view_module_version": "1.2.0",
            "_view_name": "LayoutView",
            "align_content": null,
            "align_items": null,
            "align_self": null,
            "border": null,
            "bottom": null,
            "display": null,
            "flex": null,
            "flex_flow": null,
            "grid_area": null,
            "grid_auto_columns": null,
            "grid_auto_flow": null,
            "grid_auto_rows": null,
            "grid_column": null,
            "grid_gap": null,
            "grid_row": null,
            "grid_template_areas": null,
            "grid_template_columns": null,
            "grid_template_rows": null,
            "height": null,
            "justify_content": null,
            "justify_items": null,
            "left": null,
            "margin": null,
            "max_height": null,
            "max_width": null,
            "min_height": null,
            "min_width": null,
            "object_fit": null,
            "object_position": null,
            "order": null,
            "overflow": null,
            "overflow_x": null,
            "overflow_y": null,
            "padding": null,
            "right": null,
            "top": null,
            "visibility": null,
            "width": null
          }
        },
        "731b8f077a404b93834c803c415354c2": {
          "model_module": "@jupyter-widgets/controls",
          "model_name": "DescriptionStyleModel",
          "model_module_version": "1.5.0",
          "state": {
            "_model_module": "@jupyter-widgets/controls",
            "_model_module_version": "1.5.0",
            "_model_name": "DescriptionStyleModel",
            "_view_count": null,
            "_view_module": "@jupyter-widgets/base",
            "_view_module_version": "1.2.0",
            "_view_name": "StyleView",
            "description_width": ""
          }
        },
        "c6d83ed52b554d48b7d3a917bb58f40a": {
          "model_module": "@jupyter-widgets/base",
          "model_name": "LayoutModel",
          "model_module_version": "1.2.0",
          "state": {
            "_model_module": "@jupyter-widgets/base",
            "_model_module_version": "1.2.0",
            "_model_name": "LayoutModel",
            "_view_count": null,
            "_view_module": "@jupyter-widgets/base",
            "_view_module_version": "1.2.0",
            "_view_name": "LayoutView",
            "align_content": null,
            "align_items": null,
            "align_self": null,
            "border": null,
            "bottom": null,
            "display": null,
            "flex": null,
            "flex_flow": null,
            "grid_area": null,
            "grid_auto_columns": null,
            "grid_auto_flow": null,
            "grid_auto_rows": null,
            "grid_column": null,
            "grid_gap": null,
            "grid_row": null,
            "grid_template_areas": null,
            "grid_template_columns": null,
            "grid_template_rows": null,
            "height": null,
            "justify_content": null,
            "justify_items": null,
            "left": null,
            "margin": null,
            "max_height": null,
            "max_width": null,
            "min_height": null,
            "min_width": null,
            "object_fit": null,
            "object_position": null,
            "order": null,
            "overflow": null,
            "overflow_x": null,
            "overflow_y": null,
            "padding": null,
            "right": null,
            "top": null,
            "visibility": null,
            "width": null
          }
        },
        "7aceb503b3834f65ae1c9d78201c4dd1": {
          "model_module": "@jupyter-widgets/controls",
          "model_name": "ProgressStyleModel",
          "model_module_version": "1.5.0",
          "state": {
            "_model_module": "@jupyter-widgets/controls",
            "_model_module_version": "1.5.0",
            "_model_name": "ProgressStyleModel",
            "_view_count": null,
            "_view_module": "@jupyter-widgets/base",
            "_view_module_version": "1.2.0",
            "_view_name": "StyleView",
            "bar_color": null,
            "description_width": ""
          }
        }
      }
    }
  },
  "cells": [
    {
      "cell_type": "markdown",
      "metadata": {
        "id": "X8VR8kd4ipPN"
      },
      "source": [
        "\n",
        "# Fine-tuning Pegasus Summarization\n",
        "\n",
        "---"
      ]
    },
    {
      "cell_type": "code",
      "metadata": {
        "colab": {
          "base_uri": "https://localhost:8080/"
        },
        "id": "zImELPsbXADJ",
        "outputId": "146c37fc-be28-42c3-ee1d-a7163532cee7"
      },
      "source": [
        "!nvidia-smi"
      ],
      "execution_count": null,
      "outputs": [
        {
          "output_type": "stream",
          "name": "stdout",
          "text": [
            "Sat Mar 12 22:32:16 2022       \n",
            "+-----------------------------------------------------------------------------+\n",
            "| NVIDIA-SMI 460.32.03    Driver Version: 460.32.03    CUDA Version: 11.2     |\n",
            "|-------------------------------+----------------------+----------------------+\n",
            "| GPU  Name        Persistence-M| Bus-Id        Disp.A | Volatile Uncorr. ECC |\n",
            "| Fan  Temp  Perf  Pwr:Usage/Cap|         Memory-Usage | GPU-Util  Compute M. |\n",
            "|                               |                      |               MIG M. |\n",
            "|===============================+======================+======================|\n",
            "|   0  Tesla K80           Off  | 00000000:00:04.0 Off |                    0 |\n",
            "| N/A   51C    P8    28W / 149W |      0MiB / 11441MiB |      0%      Default |\n",
            "|                               |                      |                  N/A |\n",
            "+-------------------------------+----------------------+----------------------+\n",
            "                                                                               \n",
            "+-----------------------------------------------------------------------------+\n",
            "| Processes:                                                                  |\n",
            "|  GPU   GI   CI        PID   Type   Process name                  GPU Memory |\n",
            "|        ID   ID                                                   Usage      |\n",
            "|=============================================================================|\n",
            "|  No running processes found                                                 |\n",
            "+-----------------------------------------------------------------------------+\n"
          ]
        }
      ]
    },
    {
      "cell_type": "markdown",
      "metadata": {
        "id": "yUn2OqI9oPQb"
      },
      "source": [
        "## Setup\n",
        "\n",
        "---"
      ]
    },
    {
      "cell_type": "code",
      "metadata": {
        "id": "pkzypz9I1O6H",
        "colab": {
          "base_uri": "https://localhost:8080/"
        },
        "outputId": "e2ace3ab-52df-48c6-a10d-b69f8c51f838"
      },
      "source": [
        "!pip install ipywidgets\n",
        "!jupyter nbextension enable --py widgetsnbextension"
      ],
      "execution_count": null,
      "outputs": [
        {
          "output_type": "stream",
          "name": "stdout",
          "text": [
            "Requirement already satisfied: ipywidgets in /usr/local/lib/python3.7/dist-packages (7.6.5)\n",
            "Requirement already satisfied: ipython>=4.0.0 in /usr/local/lib/python3.7/dist-packages (from ipywidgets) (5.5.0)\n",
            "Requirement already satisfied: widgetsnbextension~=3.5.0 in /usr/local/lib/python3.7/dist-packages (from ipywidgets) (3.5.2)\n",
            "Requirement already satisfied: nbformat>=4.2.0 in /usr/local/lib/python3.7/dist-packages (from ipywidgets) (5.1.3)\n",
            "Requirement already satisfied: traitlets>=4.3.1 in /usr/local/lib/python3.7/dist-packages (from ipywidgets) (5.1.1)\n",
            "Requirement already satisfied: ipython-genutils~=0.2.0 in /usr/local/lib/python3.7/dist-packages (from ipywidgets) (0.2.0)\n",
            "Requirement already satisfied: ipykernel>=4.5.1 in /usr/local/lib/python3.7/dist-packages (from ipywidgets) (4.10.1)\n",
            "Requirement already satisfied: jupyterlab-widgets>=1.0.0 in /usr/local/lib/python3.7/dist-packages (from ipywidgets) (1.0.2)\n",
            "Requirement already satisfied: tornado>=4.0 in /usr/local/lib/python3.7/dist-packages (from ipykernel>=4.5.1->ipywidgets) (5.1.1)\n",
            "Requirement already satisfied: jupyter-client in /usr/local/lib/python3.7/dist-packages (from ipykernel>=4.5.1->ipywidgets) (5.3.5)\n",
            "Requirement already satisfied: simplegeneric>0.8 in /usr/local/lib/python3.7/dist-packages (from ipython>=4.0.0->ipywidgets) (0.8.1)\n",
            "Requirement already satisfied: pickleshare in /usr/local/lib/python3.7/dist-packages (from ipython>=4.0.0->ipywidgets) (0.7.5)\n",
            "Requirement already satisfied: decorator in /usr/local/lib/python3.7/dist-packages (from ipython>=4.0.0->ipywidgets) (4.4.2)\n",
            "Requirement already satisfied: pygments in /usr/local/lib/python3.7/dist-packages (from ipython>=4.0.0->ipywidgets) (2.6.1)\n",
            "Requirement already satisfied: prompt-toolkit<2.0.0,>=1.0.4 in /usr/local/lib/python3.7/dist-packages (from ipython>=4.0.0->ipywidgets) (1.0.18)\n",
            "Requirement already satisfied: pexpect in /usr/local/lib/python3.7/dist-packages (from ipython>=4.0.0->ipywidgets) (4.8.0)\n",
            "Requirement already satisfied: setuptools>=18.5 in /usr/local/lib/python3.7/dist-packages (from ipython>=4.0.0->ipywidgets) (57.4.0)\n",
            "Requirement already satisfied: jupyter-core in /usr/local/lib/python3.7/dist-packages (from nbformat>=4.2.0->ipywidgets) (4.9.2)\n",
            "Requirement already satisfied: jsonschema!=2.5.0,>=2.4 in /usr/local/lib/python3.7/dist-packages (from nbformat>=4.2.0->ipywidgets) (4.3.3)\n",
            "Requirement already satisfied: pyrsistent!=0.17.0,!=0.17.1,!=0.17.2,>=0.14.0 in /usr/local/lib/python3.7/dist-packages (from jsonschema!=2.5.0,>=2.4->nbformat>=4.2.0->ipywidgets) (0.18.1)\n",
            "Requirement already satisfied: importlib-metadata in /usr/local/lib/python3.7/dist-packages (from jsonschema!=2.5.0,>=2.4->nbformat>=4.2.0->ipywidgets) (4.11.2)\n",
            "Requirement already satisfied: typing-extensions in /usr/local/lib/python3.7/dist-packages (from jsonschema!=2.5.0,>=2.4->nbformat>=4.2.0->ipywidgets) (3.10.0.2)\n",
            "Requirement already satisfied: importlib-resources>=1.4.0 in /usr/local/lib/python3.7/dist-packages (from jsonschema!=2.5.0,>=2.4->nbformat>=4.2.0->ipywidgets) (5.4.0)\n",
            "Requirement already satisfied: attrs>=17.4.0 in /usr/local/lib/python3.7/dist-packages (from jsonschema!=2.5.0,>=2.4->nbformat>=4.2.0->ipywidgets) (21.4.0)\n",
            "Requirement already satisfied: zipp>=3.1.0 in /usr/local/lib/python3.7/dist-packages (from importlib-resources>=1.4.0->jsonschema!=2.5.0,>=2.4->nbformat>=4.2.0->ipywidgets) (3.7.0)\n",
            "Requirement already satisfied: wcwidth in /usr/local/lib/python3.7/dist-packages (from prompt-toolkit<2.0.0,>=1.0.4->ipython>=4.0.0->ipywidgets) (0.2.5)\n",
            "Requirement already satisfied: six>=1.9.0 in /usr/local/lib/python3.7/dist-packages (from prompt-toolkit<2.0.0,>=1.0.4->ipython>=4.0.0->ipywidgets) (1.15.0)\n",
            "Requirement already satisfied: notebook>=4.4.1 in /usr/local/lib/python3.7/dist-packages (from widgetsnbextension~=3.5.0->ipywidgets) (5.3.1)\n",
            "Requirement already satisfied: terminado>=0.8.1 in /usr/local/lib/python3.7/dist-packages (from notebook>=4.4.1->widgetsnbextension~=3.5.0->ipywidgets) (0.13.3)\n",
            "Requirement already satisfied: Send2Trash in /usr/local/lib/python3.7/dist-packages (from notebook>=4.4.1->widgetsnbextension~=3.5.0->ipywidgets) (1.8.0)\n",
            "Requirement already satisfied: jinja2 in /usr/local/lib/python3.7/dist-packages (from notebook>=4.4.1->widgetsnbextension~=3.5.0->ipywidgets) (2.11.3)\n",
            "Requirement already satisfied: nbconvert in /usr/local/lib/python3.7/dist-packages (from notebook>=4.4.1->widgetsnbextension~=3.5.0->ipywidgets) (5.6.1)\n",
            "Requirement already satisfied: pyzmq>=13 in /usr/local/lib/python3.7/dist-packages (from jupyter-client->ipykernel>=4.5.1->ipywidgets) (22.3.0)\n",
            "Requirement already satisfied: python-dateutil>=2.1 in /usr/local/lib/python3.7/dist-packages (from jupyter-client->ipykernel>=4.5.1->ipywidgets) (2.8.2)\n",
            "Requirement already satisfied: ptyprocess in /usr/local/lib/python3.7/dist-packages (from terminado>=0.8.1->notebook>=4.4.1->widgetsnbextension~=3.5.0->ipywidgets) (0.7.0)\n",
            "Requirement already satisfied: MarkupSafe>=0.23 in /usr/local/lib/python3.7/dist-packages (from jinja2->notebook>=4.4.1->widgetsnbextension~=3.5.0->ipywidgets) (2.0.1)\n",
            "Requirement already satisfied: bleach in /usr/local/lib/python3.7/dist-packages (from nbconvert->notebook>=4.4.1->widgetsnbextension~=3.5.0->ipywidgets) (4.1.0)\n",
            "Requirement already satisfied: defusedxml in /usr/local/lib/python3.7/dist-packages (from nbconvert->notebook>=4.4.1->widgetsnbextension~=3.5.0->ipywidgets) (0.7.1)\n",
            "Requirement already satisfied: mistune<2,>=0.8.1 in /usr/local/lib/python3.7/dist-packages (from nbconvert->notebook>=4.4.1->widgetsnbextension~=3.5.0->ipywidgets) (0.8.4)\n",
            "Requirement already satisfied: entrypoints>=0.2.2 in /usr/local/lib/python3.7/dist-packages (from nbconvert->notebook>=4.4.1->widgetsnbextension~=3.5.0->ipywidgets) (0.4)\n",
            "Requirement already satisfied: testpath in /usr/local/lib/python3.7/dist-packages (from nbconvert->notebook>=4.4.1->widgetsnbextension~=3.5.0->ipywidgets) (0.6.0)\n",
            "Requirement already satisfied: pandocfilters>=1.4.1 in /usr/local/lib/python3.7/dist-packages (from nbconvert->notebook>=4.4.1->widgetsnbextension~=3.5.0->ipywidgets) (1.5.0)\n",
            "Requirement already satisfied: packaging in /usr/local/lib/python3.7/dist-packages (from bleach->nbconvert->notebook>=4.4.1->widgetsnbextension~=3.5.0->ipywidgets) (21.3)\n",
            "Requirement already satisfied: webencodings in /usr/local/lib/python3.7/dist-packages (from bleach->nbconvert->notebook>=4.4.1->widgetsnbextension~=3.5.0->ipywidgets) (0.5.1)\n",
            "Requirement already satisfied: pyparsing!=3.0.5,>=2.0.2 in /usr/local/lib/python3.7/dist-packages (from packaging->bleach->nbconvert->notebook>=4.4.1->widgetsnbextension~=3.5.0->ipywidgets) (3.0.7)\n",
            "Enabling notebook extension jupyter-js-widgets/extension...\n",
            "Paths used for configuration of notebook: \n",
            "    \t/root/.jupyter/nbconfig/notebook.json\n",
            "      - Validating: \u001b[32mOK\u001b[0m\n",
            "Paths used for configuration of notebook: \n",
            "    \t/root/.jupyter/nbconfig/notebook.json\n"
          ]
        }
      ]
    },
    {
      "cell_type": "code",
      "metadata": {
        "id": "_gaaojSBoQ5f",
        "colab": {
          "base_uri": "https://localhost:8080/"
        },
        "outputId": "269d988f-9a1e-4db2-9d26-575758c950dd"
      },
      "source": [
        "! pip install transformers\n",
        "! pip install datasets\n",
        "! pip install sentencepiece\n",
        "! pip install rouge_score\n",
        "! pip install wandb"
      ],
      "execution_count": null,
      "outputs": [
        {
          "output_type": "stream",
          "name": "stdout",
          "text": [
            "Requirement already satisfied: transformers in /usr/local/lib/python3.7/dist-packages (4.17.0)\n",
            "Requirement already satisfied: packaging>=20.0 in /usr/local/lib/python3.7/dist-packages (from transformers) (21.3)\n",
            "Requirement already satisfied: pyyaml>=5.1 in /usr/local/lib/python3.7/dist-packages (from transformers) (6.0)\n",
            "Requirement already satisfied: requests in /usr/local/lib/python3.7/dist-packages (from transformers) (2.23.0)\n",
            "Requirement already satisfied: tokenizers!=0.11.3,>=0.11.1 in /usr/local/lib/python3.7/dist-packages (from transformers) (0.11.6)\n",
            "Requirement already satisfied: huggingface-hub<1.0,>=0.1.0 in /usr/local/lib/python3.7/dist-packages (from transformers) (0.4.0)\n",
            "Requirement already satisfied: tqdm>=4.27 in /usr/local/lib/python3.7/dist-packages (from transformers) (4.63.0)\n",
            "Requirement already satisfied: sacremoses in /usr/local/lib/python3.7/dist-packages (from transformers) (0.0.47)\n",
            "Requirement already satisfied: numpy>=1.17 in /usr/local/lib/python3.7/dist-packages (from transformers) (1.21.5)\n",
            "Requirement already satisfied: filelock in /usr/local/lib/python3.7/dist-packages (from transformers) (3.6.0)\n",
            "Requirement already satisfied: regex!=2019.12.17 in /usr/local/lib/python3.7/dist-packages (from transformers) (2019.12.20)\n",
            "Requirement already satisfied: importlib-metadata in /usr/local/lib/python3.7/dist-packages (from transformers) (4.11.2)\n",
            "Requirement already satisfied: typing-extensions>=3.7.4.3 in /usr/local/lib/python3.7/dist-packages (from huggingface-hub<1.0,>=0.1.0->transformers) (3.10.0.2)\n",
            "Requirement already satisfied: pyparsing!=3.0.5,>=2.0.2 in /usr/local/lib/python3.7/dist-packages (from packaging>=20.0->transformers) (3.0.7)\n",
            "Requirement already satisfied: zipp>=0.5 in /usr/local/lib/python3.7/dist-packages (from importlib-metadata->transformers) (3.7.0)\n",
            "Requirement already satisfied: chardet<4,>=3.0.2 in /usr/local/lib/python3.7/dist-packages (from requests->transformers) (3.0.4)\n",
            "Requirement already satisfied: certifi>=2017.4.17 in /usr/local/lib/python3.7/dist-packages (from requests->transformers) (2021.10.8)\n",
            "Requirement already satisfied: idna<3,>=2.5 in /usr/local/lib/python3.7/dist-packages (from requests->transformers) (2.10)\n",
            "Requirement already satisfied: urllib3!=1.25.0,!=1.25.1,<1.26,>=1.21.1 in /usr/local/lib/python3.7/dist-packages (from requests->transformers) (1.25.11)\n",
            "Requirement already satisfied: joblib in /usr/local/lib/python3.7/dist-packages (from sacremoses->transformers) (1.1.0)\n",
            "Requirement already satisfied: click in /usr/local/lib/python3.7/dist-packages (from sacremoses->transformers) (7.1.2)\n",
            "Requirement already satisfied: six in /usr/local/lib/python3.7/dist-packages (from sacremoses->transformers) (1.15.0)\n",
            "Requirement already satisfied: datasets in /usr/local/lib/python3.7/dist-packages (1.18.4)\n",
            "Requirement already satisfied: pyarrow!=4.0.0,>=3.0.0 in /usr/local/lib/python3.7/dist-packages (from datasets) (6.0.1)\n",
            "Requirement already satisfied: multiprocess in /usr/local/lib/python3.7/dist-packages (from datasets) (0.70.12.2)\n",
            "Requirement already satisfied: numpy>=1.17 in /usr/local/lib/python3.7/dist-packages (from datasets) (1.21.5)\n",
            "Requirement already satisfied: dill in /usr/local/lib/python3.7/dist-packages (from datasets) (0.3.4)\n",
            "Requirement already satisfied: fsspec[http]>=2021.05.0 in /usr/local/lib/python3.7/dist-packages (from datasets) (2022.2.0)\n",
            "Requirement already satisfied: pandas in /usr/local/lib/python3.7/dist-packages (from datasets) (1.3.5)\n",
            "Requirement already satisfied: requests>=2.19.0 in /usr/local/lib/python3.7/dist-packages (from datasets) (2.23.0)\n",
            "Requirement already satisfied: huggingface-hub<1.0.0,>=0.1.0 in /usr/local/lib/python3.7/dist-packages (from datasets) (0.4.0)\n",
            "Requirement already satisfied: xxhash in /usr/local/lib/python3.7/dist-packages (from datasets) (3.0.0)\n",
            "Requirement already satisfied: packaging in /usr/local/lib/python3.7/dist-packages (from datasets) (21.3)\n",
            "Requirement already satisfied: importlib-metadata in /usr/local/lib/python3.7/dist-packages (from datasets) (4.11.2)\n",
            "Requirement already satisfied: responses<0.19 in /usr/local/lib/python3.7/dist-packages (from datasets) (0.18.0)\n",
            "Requirement already satisfied: tqdm>=4.62.1 in /usr/local/lib/python3.7/dist-packages (from datasets) (4.63.0)\n",
            "Requirement already satisfied: aiohttp in /usr/local/lib/python3.7/dist-packages (from datasets) (3.8.1)\n",
            "Requirement already satisfied: typing-extensions>=3.7.4.3 in /usr/local/lib/python3.7/dist-packages (from huggingface-hub<1.0.0,>=0.1.0->datasets) (3.10.0.2)\n",
            "Requirement already satisfied: pyyaml in /usr/local/lib/python3.7/dist-packages (from huggingface-hub<1.0.0,>=0.1.0->datasets) (6.0)\n",
            "Requirement already satisfied: filelock in /usr/local/lib/python3.7/dist-packages (from huggingface-hub<1.0.0,>=0.1.0->datasets) (3.6.0)\n",
            "Requirement already satisfied: pyparsing!=3.0.5,>=2.0.2 in /usr/local/lib/python3.7/dist-packages (from packaging->datasets) (3.0.7)\n",
            "Requirement already satisfied: idna<3,>=2.5 in /usr/local/lib/python3.7/dist-packages (from requests>=2.19.0->datasets) (2.10)\n",
            "Requirement already satisfied: urllib3!=1.25.0,!=1.25.1,<1.26,>=1.21.1 in /usr/local/lib/python3.7/dist-packages (from requests>=2.19.0->datasets) (1.25.11)\n",
            "Requirement already satisfied: chardet<4,>=3.0.2 in /usr/local/lib/python3.7/dist-packages (from requests>=2.19.0->datasets) (3.0.4)\n",
            "Requirement already satisfied: certifi>=2017.4.17 in /usr/local/lib/python3.7/dist-packages (from requests>=2.19.0->datasets) (2021.10.8)\n",
            "Requirement already satisfied: charset-normalizer<3.0,>=2.0 in /usr/local/lib/python3.7/dist-packages (from aiohttp->datasets) (2.0.12)\n",
            "Requirement already satisfied: yarl<2.0,>=1.0 in /usr/local/lib/python3.7/dist-packages (from aiohttp->datasets) (1.7.2)\n",
            "Requirement already satisfied: frozenlist>=1.1.1 in /usr/local/lib/python3.7/dist-packages (from aiohttp->datasets) (1.3.0)\n",
            "Requirement already satisfied: attrs>=17.3.0 in /usr/local/lib/python3.7/dist-packages (from aiohttp->datasets) (21.4.0)\n",
            "Requirement already satisfied: async-timeout<5.0,>=4.0.0a3 in /usr/local/lib/python3.7/dist-packages (from aiohttp->datasets) (4.0.2)\n",
            "Requirement already satisfied: aiosignal>=1.1.2 in /usr/local/lib/python3.7/dist-packages (from aiohttp->datasets) (1.2.0)\n",
            "Requirement already satisfied: multidict<7.0,>=4.5 in /usr/local/lib/python3.7/dist-packages (from aiohttp->datasets) (6.0.2)\n",
            "Requirement already satisfied: asynctest==0.13.0 in /usr/local/lib/python3.7/dist-packages (from aiohttp->datasets) (0.13.0)\n",
            "Requirement already satisfied: zipp>=0.5 in /usr/local/lib/python3.7/dist-packages (from importlib-metadata->datasets) (3.7.0)\n",
            "Requirement already satisfied: pytz>=2017.3 in /usr/local/lib/python3.7/dist-packages (from pandas->datasets) (2018.9)\n",
            "Requirement already satisfied: python-dateutil>=2.7.3 in /usr/local/lib/python3.7/dist-packages (from pandas->datasets) (2.8.2)\n",
            "Requirement already satisfied: six>=1.5 in /usr/local/lib/python3.7/dist-packages (from python-dateutil>=2.7.3->pandas->datasets) (1.15.0)\n",
            "Requirement already satisfied: sentencepiece in /usr/local/lib/python3.7/dist-packages (0.1.96)\n",
            "Requirement already satisfied: rouge_score in /usr/local/lib/python3.7/dist-packages (0.0.4)\n",
            "Requirement already satisfied: absl-py in /usr/local/lib/python3.7/dist-packages (from rouge_score) (1.0.0)\n",
            "Requirement already satisfied: nltk in /usr/local/lib/python3.7/dist-packages (from rouge_score) (3.2.5)\n",
            "Requirement already satisfied: numpy in /usr/local/lib/python3.7/dist-packages (from rouge_score) (1.21.5)\n",
            "Requirement already satisfied: six>=1.14.0 in /usr/local/lib/python3.7/dist-packages (from rouge_score) (1.15.0)\n",
            "Requirement already satisfied: wandb in /usr/local/lib/python3.7/dist-packages (0.12.11)\n",
            "Requirement already satisfied: GitPython>=1.0.0 in /usr/local/lib/python3.7/dist-packages (from wandb) (3.1.27)\n",
            "Requirement already satisfied: python-dateutil>=2.6.1 in /usr/local/lib/python3.7/dist-packages (from wandb) (2.8.2)\n",
            "Requirement already satisfied: docker-pycreds>=0.4.0 in /usr/local/lib/python3.7/dist-packages (from wandb) (0.4.0)\n",
            "Requirement already satisfied: protobuf>=3.12.0 in /usr/local/lib/python3.7/dist-packages (from wandb) (3.17.3)\n",
            "Requirement already satisfied: yaspin>=1.0.0 in /usr/local/lib/python3.7/dist-packages (from wandb) (2.1.0)\n",
            "Requirement already satisfied: shortuuid>=0.5.0 in /usr/local/lib/python3.7/dist-packages (from wandb) (1.0.8)\n",
            "Requirement already satisfied: promise<3,>=2.0 in /usr/local/lib/python3.7/dist-packages (from wandb) (2.3)\n",
            "Requirement already satisfied: requests<3,>=2.0.0 in /usr/local/lib/python3.7/dist-packages (from wandb) (2.23.0)\n",
            "Requirement already satisfied: Click!=8.0.0,>=7.0 in /usr/local/lib/python3.7/dist-packages (from wandb) (7.1.2)\n",
            "Requirement already satisfied: PyYAML in /usr/local/lib/python3.7/dist-packages (from wandb) (6.0)\n",
            "Requirement already satisfied: psutil>=5.0.0 in /usr/local/lib/python3.7/dist-packages (from wandb) (5.4.8)\n",
            "Requirement already satisfied: six>=1.13.0 in /usr/local/lib/python3.7/dist-packages (from wandb) (1.15.0)\n",
            "Requirement already satisfied: sentry-sdk>=1.0.0 in /usr/local/lib/python3.7/dist-packages (from wandb) (1.5.7)\n",
            "Requirement already satisfied: setproctitle in /usr/local/lib/python3.7/dist-packages (from wandb) (1.2.2)\n",
            "Requirement already satisfied: pathtools in /usr/local/lib/python3.7/dist-packages (from wandb) (0.1.2)\n",
            "Requirement already satisfied: gitdb<5,>=4.0.1 in /usr/local/lib/python3.7/dist-packages (from GitPython>=1.0.0->wandb) (4.0.9)\n",
            "Requirement already satisfied: typing-extensions>=3.7.4.3 in /usr/local/lib/python3.7/dist-packages (from GitPython>=1.0.0->wandb) (3.10.0.2)\n",
            "Requirement already satisfied: smmap<6,>=3.0.1 in /usr/local/lib/python3.7/dist-packages (from gitdb<5,>=4.0.1->GitPython>=1.0.0->wandb) (5.0.0)\n",
            "Requirement already satisfied: certifi>=2017.4.17 in /usr/local/lib/python3.7/dist-packages (from requests<3,>=2.0.0->wandb) (2021.10.8)\n",
            "Requirement already satisfied: urllib3!=1.25.0,!=1.25.1,<1.26,>=1.21.1 in /usr/local/lib/python3.7/dist-packages (from requests<3,>=2.0.0->wandb) (1.25.11)\n",
            "Requirement already satisfied: idna<3,>=2.5 in /usr/local/lib/python3.7/dist-packages (from requests<3,>=2.0.0->wandb) (2.10)\n",
            "Requirement already satisfied: chardet<4,>=3.0.2 in /usr/local/lib/python3.7/dist-packages (from requests<3,>=2.0.0->wandb) (3.0.4)\n",
            "Requirement already satisfied: termcolor<2.0.0,>=1.1.0 in /usr/local/lib/python3.7/dist-packages (from yaspin>=1.0.0->wandb) (1.1.0)\n"
          ]
        }
      ]
    },
    {
      "cell_type": "code",
      "metadata": {
        "id": "rimUDCQGoTAJ"
      },
      "source": [
        "import torch\n",
        "import numpy as np\n",
        "import datasets\n",
        "\n",
        "from transformers import (\n",
        "    AutoModelForSeq2SeqLM,\n",
        "    AutoTokenizer,\n",
        "    Seq2SeqTrainingArguments,\n",
        "    Seq2SeqTrainer,\n",
        "    DataCollatorForSeq2Seq,\n",
        ")\n",
        "\n",
        "from tabulate import tabulate\n",
        "import nltk\n",
        "from datetime import datetime"
      ],
      "execution_count": null,
      "outputs": []
    },
    {
      "cell_type": "code",
      "metadata": {
        "id": "8zpflBQbzrvC",
        "colab": {
          "base_uri": "https://localhost:8080/"
        },
        "outputId": "ce99acf7-a6ca-4e4f-8cf3-9982c5d96324"
      },
      "source": [
        "WANDB_INTEGRATION = True\n",
        "if WANDB_INTEGRATION:\n",
        "    import wandb\n",
        "\n",
        "    wandb.login()"
      ],
      "execution_count": null,
      "outputs": [
        {
          "output_type": "stream",
          "name": "stderr",
          "text": [
            "\u001b[34m\u001b[1mwandb\u001b[0m: Currently logged in as: \u001b[33mbigbam\u001b[0m (use `wandb login --relogin` to force relogin)\n"
          ]
        }
      ]
    },
    {
      "cell_type": "markdown",
      "metadata": {
        "id": "aX-q_O-hoe3g"
      },
      "source": [
        "## Model and tokenizer\n",
        "\n",
        "---"
      ]
    },
    {
      "cell_type": "markdown",
      "metadata": {
        "id": "yb21WY-9mavn"
      },
      "source": [
        "Hiperparámetros: \n",
        "\n",
        "[HF Bart configuration](https://huggingface.co/transformers/_modules/transformers/configuration_bart.html)\n",
        "\n",
        "[Fairseq Bart](https://github.com/pytorch/fairseq/tree/master/examples/bart)"
      ]
    },
    {
      "cell_type": "code",
      "metadata": {
        "colab": {
          "base_uri": "https://localhost:8080/"
        },
        "id": "VtEDrBTfwcEC",
        "outputId": "dbdf7be9-4080-4e1c-c060-ce55ed0f49a0"
      },
      "source": [
        "import tensorflow as tf\n",
        "print(tf.test.is_built_with_cuda())"
      ],
      "execution_count": null,
      "outputs": [
        {
          "output_type": "stream",
          "name": "stdout",
          "text": [
            "True\n"
          ]
        }
      ]
    },
    {
      "cell_type": "code",
      "metadata": {
        "id": "7vMhyyIPobyx",
        "colab": {
          "base_uri": "https://localhost:8080/"
        },
        "outputId": "7f4f5a61-deb3-45a3-bd7d-7b6c09520c1b"
      },
      "source": [
        "#Llamado del modelo\n",
        "model_name = \"sshleifer/distill-pegasus-xsum-16-8\"\n",
        "#Definición de modelo y tokenizador\n",
        "model = AutoModelForSeq2SeqLM.from_pretrained(model_name)\n",
        "tokenizer = AutoTokenizer.from_pretrained(model_name)\n",
        "\n",
        "# Se fijan los parámetros del modelo\n",
        "model.config.activation_dropout = 0.0\n",
        "print(model.config)\n",
        "\n",
        "# tokenización\n",
        "encoder_max_length = 256 \n",
        "decoder_max_length = 64"
      ],
      "execution_count": null,
      "outputs": [
        {
          "output_type": "stream",
          "name": "stdout",
          "text": [
            "PegasusConfig {\n",
            "  \"_name_or_path\": \"sshleifer/distill-pegasus-xsum-16-8\",\n",
            "  \"activation_dropout\": 0.0,\n",
            "  \"activation_function\": \"relu\",\n",
            "  \"add_bias_logits\": false,\n",
            "  \"add_final_layer_norm\": true,\n",
            "  \"architectures\": [\n",
            "    \"PegasusForConditionalGeneration\"\n",
            "  ],\n",
            "  \"attention_dropout\": 0.1,\n",
            "  \"bos_token_id\": 0,\n",
            "  \"classif_dropout\": 0.0,\n",
            "  \"classifier_dropout\": 0.0,\n",
            "  \"d_model\": 1024,\n",
            "  \"decoder_attention_heads\": 16,\n",
            "  \"decoder_ffn_dim\": 4096,\n",
            "  \"decoder_layerdrop\": 0.0,\n",
            "  \"decoder_layers\": 8,\n",
            "  \"decoder_start_token_id\": 0,\n",
            "  \"dropout\": 0.1,\n",
            "  \"encoder_attention_heads\": 16,\n",
            "  \"encoder_ffn_dim\": 4096,\n",
            "  \"encoder_layerdrop\": 0.0,\n",
            "  \"encoder_layers\": 16,\n",
            "  \"eos_token_id\": 1,\n",
            "  \"extra_pos_embeddings\": 1,\n",
            "  \"force_bos_token_to_be_generated\": false,\n",
            "  \"forced_eos_token_id\": 1,\n",
            "  \"id2label\": {\n",
            "    \"0\": \"LABEL_0\",\n",
            "    \"1\": \"LABEL_1\",\n",
            "    \"2\": \"LABEL_2\"\n",
            "  },\n",
            "  \"init_std\": 0.02,\n",
            "  \"is_encoder_decoder\": true,\n",
            "  \"label2id\": {\n",
            "    \"LABEL_0\": 0,\n",
            "    \"LABEL_1\": 1,\n",
            "    \"LABEL_2\": 2\n",
            "  },\n",
            "  \"length_penalty\": 0.8,\n",
            "  \"max_length\": 65,\n",
            "  \"max_position_embeddings\": 512,\n",
            "  \"model_type\": \"pegasus\",\n",
            "  \"normalize_before\": true,\n",
            "  \"normalize_embedding\": false,\n",
            "  \"num_beams\": 8,\n",
            "  \"num_hidden_layers\": 16,\n",
            "  \"pad_token_id\": 0,\n",
            "  \"save_step\": 7,\n",
            "  \"scale_embedding\": true,\n",
            "  \"static_position_embeddings\": true,\n",
            "  \"transformers_version\": \"4.17.0\",\n",
            "  \"use_cache\": true,\n",
            "  \"vocab_size\": 96103\n",
            "}\n",
            "\n"
          ]
        }
      ]
    },
    {
      "cell_type": "markdown",
      "metadata": {
        "id": "wwtSPRJgomBS"
      },
      "source": [
        "## Data\n",
        "\n",
        "---"
      ]
    },
    {
      "cell_type": "code",
      "metadata": {
        "colab": {
          "base_uri": "https://localhost:8080/"
        },
        "id": "49xSw_O0tPcx",
        "outputId": "1d2a3f91-405f-4358-eae4-c40d7c9b0ce8"
      },
      "source": [
        "#Lista de datasets compatibles con la biblioteca\n",
        "datasets.list_datasets()"
      ],
      "execution_count": null,
      "outputs": [
        {
          "output_type": "execute_result",
          "data": {
            "text/plain": [
              "['acronym_identification',\n",
              " 'ade_corpus_v2',\n",
              " 'adversarial_qa',\n",
              " 'aeslc',\n",
              " 'afrikaans_ner_corpus',\n",
              " 'ag_news',\n",
              " 'ai2_arc',\n",
              " 'air_dialogue',\n",
              " 'ajgt_twitter_ar',\n",
              " 'allegro_reviews',\n",
              " 'allocine',\n",
              " 'alt',\n",
              " 'amazon_polarity',\n",
              " 'amazon_reviews_multi',\n",
              " 'amazon_us_reviews',\n",
              " 'ambig_qa',\n",
              " 'americas_nli',\n",
              " 'ami',\n",
              " 'amttl',\n",
              " 'anli',\n",
              " 'app_reviews',\n",
              " 'aqua_rat',\n",
              " 'aquamuse',\n",
              " 'ar_cov19',\n",
              " 'ar_res_reviews',\n",
              " 'ar_sarcasm',\n",
              " 'arabic_billion_words',\n",
              " 'arabic_pos_dialect',\n",
              " 'arabic_speech_corpus',\n",
              " 'arcd',\n",
              " 'arsentd_lev',\n",
              " 'art',\n",
              " 'arxiv_dataset',\n",
              " 'ascent_kb',\n",
              " 'aslg_pc12',\n",
              " 'asnq',\n",
              " 'asset',\n",
              " 'assin',\n",
              " 'assin2',\n",
              " 'atomic',\n",
              " 'autshumato',\n",
              " 'babi_qa',\n",
              " 'banking77',\n",
              " 'bbaw_egyptian',\n",
              " 'bbc_hindi_nli',\n",
              " 'bc2gm_corpus',\n",
              " 'beans',\n",
              " 'best2009',\n",
              " 'bianet',\n",
              " 'bible_para',\n",
              " 'big_patent',\n",
              " 'billsum',\n",
              " 'bing_coronavirus_query_set',\n",
              " 'biomrc',\n",
              " 'biosses',\n",
              " 'blbooks',\n",
              " 'blbooksgenre',\n",
              " 'blended_skill_talk',\n",
              " 'blimp',\n",
              " 'blog_authorship_corpus',\n",
              " 'bn_hate_speech',\n",
              " 'bnl_newspapers',\n",
              " 'bookcorpus',\n",
              " 'bookcorpusopen',\n",
              " 'boolq',\n",
              " 'bprec',\n",
              " 'break_data',\n",
              " 'brwac',\n",
              " 'bsd_ja_en',\n",
              " 'bswac',\n",
              " 'c3',\n",
              " 'c4',\n",
              " 'cail2018',\n",
              " 'caner',\n",
              " 'capes',\n",
              " 'casino',\n",
              " 'catalonia_independence',\n",
              " 'cats_vs_dogs',\n",
              " 'cawac',\n",
              " 'cbt',\n",
              " 'cc100',\n",
              " 'cc_news',\n",
              " 'ccaligned_multilingual',\n",
              " 'cdsc',\n",
              " 'cdt',\n",
              " 'cedr',\n",
              " 'cfq',\n",
              " 'chr_en',\n",
              " 'cifar10',\n",
              " 'cifar100',\n",
              " 'circa',\n",
              " 'civil_comments',\n",
              " 'clickbait_news_bg',\n",
              " 'climate_fever',\n",
              " 'clinc_oos',\n",
              " 'clue',\n",
              " 'cmrc2018',\n",
              " 'cmu_hinglish_dog',\n",
              " 'cnn_dailymail',\n",
              " 'coached_conv_pref',\n",
              " 'coarse_discourse',\n",
              " 'codah',\n",
              " 'code_search_net',\n",
              " 'code_x_glue_cc_clone_detection_big_clone_bench',\n",
              " 'code_x_glue_cc_clone_detection_poj104',\n",
              " 'code_x_glue_cc_cloze_testing_all',\n",
              " 'code_x_glue_cc_cloze_testing_maxmin',\n",
              " 'code_x_glue_cc_code_completion_line',\n",
              " 'code_x_glue_cc_code_completion_token',\n",
              " 'code_x_glue_cc_code_refinement',\n",
              " 'code_x_glue_cc_code_to_code_trans',\n",
              " 'code_x_glue_cc_defect_detection',\n",
              " 'code_x_glue_ct_code_to_text',\n",
              " 'code_x_glue_tc_nl_code_search_adv',\n",
              " 'code_x_glue_tc_text_to_code',\n",
              " 'code_x_glue_tt_text_to_text',\n",
              " 'com_qa',\n",
              " 'common_gen',\n",
              " 'common_language',\n",
              " 'common_voice',\n",
              " 'commonsense_qa',\n",
              " 'competition_math',\n",
              " 'compguesswhat',\n",
              " 'conceptnet5',\n",
              " 'conll2000',\n",
              " 'conll2002',\n",
              " 'conll2003',\n",
              " 'conllpp',\n",
              " 'consumer-finance-complaints',\n",
              " 'conv_ai',\n",
              " 'conv_ai_2',\n",
              " 'conv_ai_3',\n",
              " 'conv_questions',\n",
              " 'coqa',\n",
              " 'cord19',\n",
              " 'cornell_movie_dialog',\n",
              " 'cos_e',\n",
              " 'cosmos_qa',\n",
              " 'counter',\n",
              " 'covid_qa_castorini',\n",
              " 'covid_qa_deepset',\n",
              " 'covid_qa_ucsd',\n",
              " 'covid_tweets_japanese',\n",
              " 'covost2',\n",
              " 'cppe-5',\n",
              " 'craigslist_bargains',\n",
              " 'crawl_domain',\n",
              " 'crd3',\n",
              " 'crime_and_punish',\n",
              " 'crows_pairs',\n",
              " 'cryptonite',\n",
              " 'cs_restaurants',\n",
              " 'cuad',\n",
              " 'curiosity_dialogs',\n",
              " 'daily_dialog',\n",
              " 'dane',\n",
              " 'danish_political_comments',\n",
              " 'dart',\n",
              " 'datacommons_factcheck',\n",
              " 'dbpedia_14',\n",
              " 'dbrd',\n",
              " 'deal_or_no_dialog',\n",
              " 'definite_pronoun_resolution',\n",
              " 'dengue_filipino',\n",
              " 'dialog_re',\n",
              " 'diplomacy_detection',\n",
              " 'disaster_response_messages',\n",
              " 'discofuse',\n",
              " 'discovery',\n",
              " 'disfl_qa',\n",
              " 'doc2dial',\n",
              " 'docred',\n",
              " 'doqa',\n",
              " 'dream',\n",
              " 'drop',\n",
              " 'duorc',\n",
              " 'dutch_social',\n",
              " 'dyk',\n",
              " 'e2e_nlg',\n",
              " 'e2e_nlg_cleaned',\n",
              " 'ecb',\n",
              " 'ecthr_cases',\n",
              " 'eduge',\n",
              " 'ehealth_kd',\n",
              " 'eitb_parcc',\n",
              " 'electricity_load_diagrams',\n",
              " 'eli5',\n",
              " 'eli5_category',\n",
              " 'emea',\n",
              " 'emo',\n",
              " 'emotion',\n",
              " 'emotone_ar',\n",
              " 'empathetic_dialogues',\n",
              " 'enriched_web_nlg',\n",
              " 'eraser_multi_rc',\n",
              " 'esnli',\n",
              " 'eth_py150_open',\n",
              " 'ethos',\n",
              " 'eu_regulatory_ir',\n",
              " 'eurlex',\n",
              " 'euronews',\n",
              " 'europa_eac_tm',\n",
              " 'europa_ecdc_tm',\n",
              " 'europarl_bilingual',\n",
              " 'event2Mind',\n",
              " 'evidence_infer_treatment',\n",
              " 'exams',\n",
              " 'factckbr',\n",
              " 'fake_news_english',\n",
              " 'fake_news_filipino',\n",
              " 'farsi_news',\n",
              " 'fashion_mnist',\n",
              " 'fever',\n",
              " 'few_rel',\n",
              " 'financial_phrasebank',\n",
              " 'finer',\n",
              " 'flores',\n",
              " 'flue',\n",
              " 'food101',\n",
              " 'fquad',\n",
              " 'freebase_qa',\n",
              " 'gap',\n",
              " 'gem',\n",
              " 'generated_reviews_enth',\n",
              " 'generics_kb',\n",
              " 'german_legal_entity_recognition',\n",
              " 'germaner',\n",
              " 'germeval_14',\n",
              " 'giga_fren',\n",
              " 'gigaword',\n",
              " 'glucose',\n",
              " 'glue',\n",
              " 'gnad10',\n",
              " 'go_emotions',\n",
              " 'gooaq',\n",
              " 'google_wellformed_query',\n",
              " 'grail_qa',\n",
              " 'great_code',\n",
              " 'greek_legal_code',\n",
              " 'guardian_authorship',\n",
              " 'gutenberg_time',\n",
              " 'hans',\n",
              " 'hansards',\n",
              " 'hard',\n",
              " 'harem',\n",
              " 'has_part',\n",
              " 'hate_offensive',\n",
              " 'hate_speech18',\n",
              " 'hate_speech_filipino',\n",
              " 'hate_speech_offensive',\n",
              " 'hate_speech_pl',\n",
              " 'hate_speech_portuguese',\n",
              " 'hatexplain',\n",
              " 'hausa_voa_ner',\n",
              " 'hausa_voa_topics',\n",
              " 'hda_nli_hindi',\n",
              " 'head_qa',\n",
              " 'health_fact',\n",
              " 'hebrew_projectbenyehuda',\n",
              " 'hebrew_sentiment',\n",
              " 'hebrew_this_world',\n",
              " 'hellaswag',\n",
              " 'hendrycks_test',\n",
              " 'hind_encorp',\n",
              " 'hindi_discourse',\n",
              " 'hippocorpus',\n",
              " 'hkcancor',\n",
              " 'hlgd',\n",
              " 'hope_edi',\n",
              " 'hotpot_qa',\n",
              " 'hover',\n",
              " 'hrenwac_para',\n",
              " 'hrwac',\n",
              " 'humicroedit',\n",
              " 'hybrid_qa',\n",
              " 'hyperpartisan_news_detection',\n",
              " 'iapp_wiki_qa_squad',\n",
              " 'id_clickbait',\n",
              " 'id_liputan6',\n",
              " 'id_nergrit_corpus',\n",
              " 'id_newspapers_2018',\n",
              " 'id_panl_bppt',\n",
              " 'id_puisi',\n",
              " 'igbo_english_machine_translation',\n",
              " 'igbo_monolingual',\n",
              " 'igbo_ner',\n",
              " 'ilist',\n",
              " 'imdb',\n",
              " 'imdb_urdu_reviews',\n",
              " 'imppres',\n",
              " 'indic_glue',\n",
              " 'indonli',\n",
              " 'indonlu',\n",
              " 'inquisitive_qg',\n",
              " 'interpress_news_category_tr',\n",
              " 'interpress_news_category_tr_lite',\n",
              " 'irc_disentangle',\n",
              " 'isixhosa_ner_corpus',\n",
              " 'isizulu_ner_corpus',\n",
              " 'iwslt2017',\n",
              " 'jeopardy',\n",
              " 'jfleg',\n",
              " 'jigsaw_toxicity_pred',\n",
              " 'jigsaw_unintended_bias',\n",
              " 'jnlpba',\n",
              " 'journalists_questions',\n",
              " 'kan_hope',\n",
              " 'kannada_news',\n",
              " 'kd_conv',\n",
              " 'kde4',\n",
              " 'kelm',\n",
              " 'kilt_tasks',\n",
              " 'kilt_wikipedia',\n",
              " 'kinnews_kirnews',\n",
              " 'klue',\n",
              " 'kor_3i4k',\n",
              " 'kor_hate',\n",
              " 'kor_ner',\n",
              " 'kor_nli',\n",
              " 'kor_nlu',\n",
              " 'kor_qpair',\n",
              " 'kor_sae',\n",
              " 'kor_sarcasm',\n",
              " 'labr',\n",
              " 'lama',\n",
              " 'lambada',\n",
              " 'large_spanish_corpus',\n",
              " 'laroseda',\n",
              " 'lc_quad',\n",
              " 'lener_br',\n",
              " 'lex_glue',\n",
              " 'liar',\n",
              " 'librispeech_asr',\n",
              " 'librispeech_lm',\n",
              " 'limit',\n",
              " 'lince',\n",
              " 'linnaeus',\n",
              " 'liveqa',\n",
              " 'lj_speech',\n",
              " 'lm1b',\n",
              " 'lst20',\n",
              " 'm_lama',\n",
              " 'mac_morpho',\n",
              " 'makhzan',\n",
              " 'masakhaner',\n",
              " 'math_dataset',\n",
              " 'math_qa',\n",
              " 'matinf',\n",
              " 'mbpp',\n",
              " 'mc4',\n",
              " 'mc_taco',\n",
              " 'md_gender_bias',\n",
              " 'mdd',\n",
              " 'med_hop',\n",
              " 'medal',\n",
              " 'medical_dialog',\n",
              " 'medical_questions_pairs',\n",
              " 'menyo20k_mt',\n",
              " 'meta_woz',\n",
              " 'metooma',\n",
              " 'metrec',\n",
              " 'miam',\n",
              " 'mkb',\n",
              " 'mkqa',\n",
              " 'mlqa',\n",
              " 'mlsum',\n",
              " 'mnist',\n",
              " 'mocha',\n",
              " 'moroco',\n",
              " 'movie_rationales',\n",
              " 'mrqa',\n",
              " 'ms_marco',\n",
              " 'ms_terms',\n",
              " 'msr_genomics_kbcomp',\n",
              " 'msr_sqa',\n",
              " 'msr_text_compression',\n",
              " 'msr_zhen_translation_parity',\n",
              " 'msra_ner',\n",
              " 'mt_eng_vietnamese',\n",
              " 'muchocine',\n",
              " 'multi_booked',\n",
              " 'multi_eurlex',\n",
              " 'multi_news',\n",
              " 'multi_nli',\n",
              " 'multi_nli_mismatch',\n",
              " 'multi_para_crawl',\n",
              " 'multi_re_qa',\n",
              " 'multi_woz_v22',\n",
              " 'multi_x_science_sum',\n",
              " 'multidoc2dial',\n",
              " 'multilingual_librispeech',\n",
              " 'mutual_friends',\n",
              " 'mwsc',\n",
              " 'myanmar_news',\n",
              " 'narrativeqa',\n",
              " 'narrativeqa_manual',\n",
              " 'natural_questions',\n",
              " 'ncbi_disease',\n",
              " 'nchlt',\n",
              " 'ncslgr',\n",
              " 'nell',\n",
              " 'neural_code_search',\n",
              " 'news_commentary',\n",
              " 'newsgroup',\n",
              " 'newsph',\n",
              " 'newsph_nli',\n",
              " 'newspop',\n",
              " 'newsqa',\n",
              " 'newsroom',\n",
              " 'nkjp-ner',\n",
              " 'nli_tr',\n",
              " 'nlu_evaluation_data',\n",
              " 'norec',\n",
              " 'norne',\n",
              " 'norwegian_ner',\n",
              " 'nq_open',\n",
              " 'nsmc',\n",
              " 'numer_sense',\n",
              " 'numeric_fused_head',\n",
              " 'oclar',\n",
              " 'offcombr',\n",
              " 'offenseval2020_tr',\n",
              " 'offenseval_dravidian',\n",
              " 'ofis_publik',\n",
              " 'ohsumed',\n",
              " 'ollie',\n",
              " 'omp',\n",
              " 'onestop_english',\n",
              " 'onestop_qa',\n",
              " 'open_subtitles',\n",
              " 'openai_humaneval',\n",
              " 'openbookqa',\n",
              " 'openslr',\n",
              " 'openwebtext',\n",
              " 'opinosis',\n",
              " 'opus100',\n",
              " 'opus_books',\n",
              " 'opus_dgt',\n",
              " 'opus_dogc',\n",
              " 'opus_elhuyar',\n",
              " 'opus_euconst',\n",
              " 'opus_finlex',\n",
              " 'opus_fiskmo',\n",
              " 'opus_gnome',\n",
              " 'opus_infopankki',\n",
              " 'opus_memat',\n",
              " 'opus_montenegrinsubs',\n",
              " 'opus_openoffice',\n",
              " 'opus_paracrawl',\n",
              " 'opus_rf',\n",
              " 'opus_tedtalks',\n",
              " 'opus_ubuntu',\n",
              " 'opus_wikipedia',\n",
              " 'opus_xhosanavy',\n",
              " 'orange_sum',\n",
              " 'oscar',\n",
              " 'para_crawl',\n",
              " 'para_pat',\n",
              " 'parsinlu_reading_comprehension',\n",
              " 'pass',\n",
              " 'paws-x',\n",
              " 'paws',\n",
              " 'pec',\n",
              " 'peer_read',\n",
              " 'peoples_daily_ner',\n",
              " 'per_sent',\n",
              " 'persian_ner',\n",
              " 'pg19',\n",
              " 'php',\n",
              " 'piaf',\n",
              " 'pib',\n",
              " 'piqa',\n",
              " 'pn_summary',\n",
              " 'poem_sentiment',\n",
              " 'polemo2',\n",
              " 'poleval2019_cyberbullying',\n",
              " 'poleval2019_mt',\n",
              " 'polsum',\n",
              " 'polyglot_ner',\n",
              " 'prachathai67k',\n",
              " 'pragmeval',\n",
              " 'proto_qa',\n",
              " 'psc',\n",
              " 'ptb_text_only',\n",
              " 'pubmed',\n",
              " 'pubmed_qa',\n",
              " 'py_ast',\n",
              " 'qa4mre',\n",
              " 'qa_srl',\n",
              " 'qa_zre',\n",
              " 'qangaroo',\n",
              " 'qanta',\n",
              " 'qasc',\n",
              " 'qasper',\n",
              " 'qed',\n",
              " 'qed_amara',\n",
              " 'quac',\n",
              " 'quail',\n",
              " 'quarel',\n",
              " 'quartz',\n",
              " 'quora',\n",
              " 'quoref',\n",
              " 'race',\n",
              " 're_dial',\n",
              " 'reasoning_bg',\n",
              " 'recipe_nlg',\n",
              " 'reclor',\n",
              " 'red_caps',\n",
              " 'reddit',\n",
              " 'reddit_tifu',\n",
              " 'refresd',\n",
              " 'reuters21578',\n",
              " 'riddle_sense',\n",
              " 'ro_sent',\n",
              " 'ro_sts',\n",
              " 'ro_sts_parallel',\n",
              " 'roman_urdu',\n",
              " 'ronec',\n",
              " 'ropes',\n",
              " 'rotten_tomatoes',\n",
              " 'russian_super_glue',\n",
              " 's2orc',\n",
              " 'samsum',\n",
              " 'sanskrit_classic',\n",
              " 'saudinewsnet',\n",
              " 'sberquad',\n",
              " 'scan',\n",
              " 'scb_mt_enth_2020',\n",
              " 'scene_parse_150',\n",
              " 'schema_guided_dstc8',\n",
              " 'scicite',\n",
              " 'scielo',\n",
              " 'scientific_papers',\n",
              " 'scifact',\n",
              " 'sciq',\n",
              " 'scitail',\n",
              " 'scitldr',\n",
              " 'search_qa',\n",
              " 'sede',\n",
              " 'selqa',\n",
              " 'sem_eval_2010_task_8',\n",
              " 'sem_eval_2014_task_1',\n",
              " 'sem_eval_2018_task_1',\n",
              " 'sem_eval_2020_task_11',\n",
              " 'sent_comp',\n",
              " 'senti_lex',\n",
              " 'senti_ws',\n",
              " 'sentiment140',\n",
              " 'sepedi_ner',\n",
              " 'sesotho_ner_corpus',\n",
              " 'setimes',\n",
              " 'setswana_ner_corpus',\n",
              " 'sharc',\n",
              " 'sharc_modified',\n",
              " 'sick',\n",
              " 'silicone',\n",
              " 'simple_questions_v2',\n",
              " 'siswati_ner_corpus',\n",
              " 'smartdata',\n",
              " 'sms_spam',\n",
              " 'snips_built_in_intents',\n",
              " 'snli',\n",
              " 'snow_simplified_japanese_corpus',\n",
              " 'so_stacksample',\n",
              " 'social_bias_frames',\n",
              " 'social_i_qa',\n",
              " 'sofc_materials_articles',\n",
              " 'sogou_news',\n",
              " 'spanish_billion_words',\n",
              " 'spc',\n",
              " 'species_800',\n",
              " 'speech_commands',\n",
              " 'spider',\n",
              " 'squad',\n",
              " 'squad_adversarial',\n",
              " 'squad_es',\n",
              " 'squad_it',\n",
              " 'squad_kor_v1',\n",
              " 'squad_kor_v2',\n",
              " 'squad_v1_pt',\n",
              " 'squad_v2',\n",
              " 'squadshifts',\n",
              " 'srwac',\n",
              " 'sst',\n",
              " 'stereoset',\n",
              " 'story_cloze',\n",
              " 'stsb_mt_sv',\n",
              " 'stsb_multi_mt',\n",
              " 'style_change_detection',\n",
              " 'subjqa',\n",
              " 'super_glue',\n",
              " 'superb',\n",
              " 'svhn',\n",
              " 'swag',\n",
              " 'swahili',\n",
              " 'swahili_news',\n",
              " 'swda',\n",
              " 'swedish_medical_ner',\n",
              " 'swedish_ner_corpus',\n",
              " 'swedish_reviews',\n",
              " 'swiss_judgment_prediction',\n",
              " 'tab_fact',\n",
              " 'tamilmixsentiment',\n",
              " 'tanzil',\n",
              " 'tapaco',\n",
              " 'tashkeela',\n",
              " 'taskmaster1',\n",
              " 'taskmaster2',\n",
              " 'taskmaster3',\n",
              " 'tatoeba',\n",
              " 'ted_hrlr',\n",
              " 'ted_iwlst2013',\n",
              " 'ted_multi',\n",
              " 'ted_talks_iwslt',\n",
              " 'telugu_books',\n",
              " 'telugu_news',\n",
              " 'tep_en_fa_para',\n",
              " 'text2log',\n",
              " 'thai_toxicity_tweet',\n",
              " 'thainer',\n",
              " 'thaiqa_squad',\n",
              " 'thaisum',\n",
              " 'the_pile',\n",
              " 'the_pile_books3',\n",
              " 'the_pile_openwebtext2',\n",
              " 'the_pile_stack_exchange',\n",
              " 'tilde_model',\n",
              " 'time_dial',\n",
              " 'times_of_india_news_headlines',\n",
              " 'timit_asr',\n",
              " 'tiny_shakespeare',\n",
              " 'tlc',\n",
              " 'tmu_gfm_dataset',\n",
              " 'told-br',\n",
              " 'totto',\n",
              " 'trec',\n",
              " 'trivia_qa',\n",
              " 'tsac',\n",
              " 'ttc4900',\n",
              " 'tunizi',\n",
              " 'tuple_ie',\n",
              " 'turk',\n",
              " 'turkic_xwmt',\n",
              " 'turkish_movie_sentiment',\n",
              " 'turkish_ner',\n",
              " 'turkish_product_reviews',\n",
              " 'turkish_shrinked_ner',\n",
              " 'turku_ner_corpus',\n",
              " 'tweet_eval',\n",
              " 'tweet_qa',\n",
              " 'tweets_ar_en_parallel',\n",
              " 'tweets_hate_speech_detection',\n",
              " 'twi_text_c3',\n",
              " 'twi_wordsim353',\n",
              " 'tydiqa',\n",
              " 'ubuntu_dialogs_corpus',\n",
              " 'udhr',\n",
              " 'um005',\n",
              " 'un_ga',\n",
              " 'un_multi',\n",
              " 'un_pc',\n",
              " 'universal_dependencies',\n",
              " 'universal_morphologies',\n",
              " 'urdu_fake_news',\n",
              " 'urdu_sentiment_corpus',\n",
              " 'vctk',\n",
              " 'vivos',\n",
              " 'web_nlg',\n",
              " 'web_of_science',\n",
              " 'web_questions',\n",
              " 'weibo_ner',\n",
              " 'wi_locness',\n",
              " 'wider_face',\n",
              " 'wiki40b',\n",
              " 'wiki_asp',\n",
              " 'wiki_atomic_edits',\n",
              " 'wiki_auto',\n",
              " 'wiki_bio',\n",
              " 'wiki_dpr',\n",
              " 'wiki_hop',\n",
              " 'wiki_lingua',\n",
              " 'wiki_movies',\n",
              " 'wiki_qa',\n",
              " 'wiki_qa_ar',\n",
              " 'wiki_snippets',\n",
              " 'wiki_source',\n",
              " 'wiki_split',\n",
              " 'wiki_summary',\n",
              " 'wikiann',\n",
              " 'wikicorpus',\n",
              " 'wikihow',\n",
              " 'wikipedia',\n",
              " 'wikisql',\n",
              " 'wikitext',\n",
              " 'wikitext_tl39',\n",
              " 'wili_2018',\n",
              " 'wino_bias',\n",
              " 'winograd_wsc',\n",
              " 'winogrande',\n",
              " 'wiqa',\n",
              " 'wisesight1000',\n",
              " 'wisesight_sentiment',\n",
              " 'wmt14',\n",
              " 'wmt15',\n",
              " 'wmt16',\n",
              " 'wmt17',\n",
              " 'wmt18',\n",
              " 'wmt19',\n",
              " 'wmt20_mlqe_task1',\n",
              " 'wmt20_mlqe_task2',\n",
              " 'wmt20_mlqe_task3',\n",
              " 'wmt_t2t',\n",
              " 'wnut_17',\n",
              " 'wongnai_reviews',\n",
              " 'woz_dialogue',\n",
              " 'wrbsc',\n",
              " 'x_stance',\n",
              " 'xcopa',\n",
              " 'xcsr',\n",
              " 'xed_en_fi',\n",
              " 'xglue',\n",
              " 'xnli',\n",
              " 'xor_tydi_qa',\n",
              " 'xquad',\n",
              " 'xquad_r',\n",
              " 'xsum',\n",
              " 'xsum_factuality',\n",
              " 'xtreme',\n",
              " 'yahoo_answers_qa',\n",
              " 'yahoo_answers_topics',\n",
              " 'yelp_polarity',\n",
              " 'yelp_review_full',\n",
              " 'yoruba_bbc_topics',\n",
              " 'yoruba_gv_ner',\n",
              " 'yoruba_text_c3',\n",
              " 'yoruba_wordsim353',\n",
              " 'youtube_caption_corrections',\n",
              " 'zest',\n",
              " '0n1xus/codexglue',\n",
              " '0n1xus/pytorrent-standalone',\n",
              " 'AConsApart/anime_subtitles_DialoGPT',\n",
              " 'AHussain0418/day2_data',\n",
              " 'AHussain0418/day4data',\n",
              " 'AHussain0418/demo_data',\n",
              " 'AI-Sweden/SuperLim',\n",
              " 'AI-it/khs_service_test',\n",
              " 'AI-it/korean-hate-speech',\n",
              " 'ARKseal/YFCC14M_subset_webdataset',\n",
              " 'ARTeLab/fanpage',\n",
              " 'ARTeLab/ilpost',\n",
              " 'ARTeLab/mlsum-it',\n",
              " 'ASCCCCCCCC/amazon_zh',\n",
              " 'ASCCCCCCCC/amazon_zh_simple',\n",
              " 'Abdo1Kamr/Arabic_Hadith',\n",
              " 'Abirate/code_net_dataset',\n",
              " 'Abirate/code_net_dev_dataset',\n",
              " 'Abirate/code_net_test_final_dataset',\n",
              " 'Abirate/english_quotes',\n",
              " 'Abirate/french_book_reviews',\n",
              " 'AdWeeb/DravidianMT',\n",
              " 'Adnan/Urdu_News_Headlines',\n",
              " 'AhmadSawal/qa',\n",
              " 'AhmedSSoliman/CoNaLa',\n",
              " 'Aisha/BAAD16',\n",
              " 'Aisha/BAAD6',\n",
              " 'Akila/ForgottenRealmsWikiDataset',\n",
              " 'Akshith/aa',\n",
              " 'Akshith/g_rock',\n",
              " 'Akshith/test',\n",
              " 'AlekseyDorkin/extended_tweet_emojis',\n",
              " 'AlekseyKorshuk/comedy-scripts',\n",
              " 'AlekseyKorshuk/horror-scripts',\n",
              " 'AlexMaclean/all-deletion-compressions',\n",
              " 'AlexMaclean/wikipedia-deletion-compressions',\n",
              " 'AlexZapolskii/zapolskii-amazon',\n",
              " 'AlgoveraAI/CryptoPunks',\n",
              " 'Aliseyfi/event_token_type',\n",
              " 'Alvenir/nst-da-16khz',\n",
              " 'AndrewMcDowell/de_corpora_parliament_processed',\n",
              " 'Annabelleabbott/real-fake-news-workshop',\n",
              " 'Annielytics/DoctorsNotes',\n",
              " 'Anurag-Singh-creator/task',\n",
              " 'Anurag-Singh-creator/tasks',\n",
              " 'ApiInferenceTest/asr_dummy',\n",
              " 'Arnold/hausa_common_voice',\n",
              " 'AryanLala/autonlp-data-Scientific_Title_Generator',\n",
              " 'Atsushi/fungi_diagnostic_chars_comparison_japanese',\n",
              " 'Atsushi/fungi_indexed_mycological_papers_japanese',\n",
              " 'Atsushi/fungi_trait_circus_database',\n",
              " 'Avishekavi/Avi',\n",
              " 'BSC-TeMU/SQAC',\n",
              " 'BSC-TeMU/ancora-ca-ner',\n",
              " 'BSC-TeMU/sts-ca',\n",
              " 'BSC-TeMU/tecla',\n",
              " 'BSC-TeMU/viquiquad',\n",
              " 'BSC-TeMU/xquad-ca',\n",
              " 'Babelscape/rebel-dataset',\n",
              " 'Babelscape/wikineural',\n",
              " 'BatuhanYilmaz/github-issues',\n",
              " 'Baybars/parla_text_corpus',\n",
              " 'BeIR/beir-corpus',\n",
              " 'BeIR/beir',\n",
              " 'BenjaminGalliot/pangloss',\n",
              " 'Binbin/my_dataset',\n",
              " 'BlakesOrb6/Fred-Flintstone',\n",
              " 'Bosio/pacman',\n",
              " 'Bosio/pacman_descriptions',\n",
              " 'BritishLibraryLabs/EThOS-PhD-metadata',\n",
              " 'CAGER/rick',\n",
              " 'CALM/arwiki',\n",
              " 'CAiRE/ASCEND',\n",
              " 'CShorten/KerasBERT',\n",
              " 'CShorten/ZillowPrize',\n",
              " 'ChadxxxxHall/Inter-vision',\n",
              " 'Champion/vpc2020_clear_anon_speech',\n",
              " 'Check/a_re_gi',\n",
              " 'Check/region_1',\n",
              " 'Check/region_2',\n",
              " 'Check/region_3',\n",
              " 'Check/region_4',\n",
              " 'Check/region_5',\n",
              " 'Check/region_6',\n",
              " 'Check/region_7',\n",
              " 'Check/region_8',\n",
              " 'Check/region_9',\n",
              " 'Check/regions',\n",
              " 'Check/vverify',\n",
              " 'Cheranga/test',\n",
              " 'ChristophSchuhmann/MS_COCO_2017_URL_TEXT',\n",
              " 'Chun/dataset',\n",
              " 'Chuu/Vhh',\n",
              " 'CodedotAI/code-clippy-tfrecords',\n",
              " 'CodedotAI/code_clippy',\n",
              " 'Crives/haha',\n",
              " 'Cropinky/flatearther',\n",
              " 'Cropinky/rap_lyrics_english',\n",
              " 'Cropinky/wow_fishing_bobber',\n",
              " 'Cyberfish/pos_tagger',\n",
              " 'Cyberfish/text_error_correction',\n",
              " 'CyranoB/polarity',\n",
              " 'DDSC/angry-tweets',\n",
              " 'DDSC/dkhate',\n",
              " 'DDSC/europarl',\n",
              " 'DDSC/lcc',\n",
              " 'DDSC/partial-danish-gigaword-no-twitter',\n",
              " 'DDSC/reddit-da-asr-preprocessed',\n",
              " 'DDSC/reddit-da',\n",
              " 'DDSC/twitter-sent',\n",
              " 'DELith/github-issues',\n",
              " 'DSCI511G1/COP26_Energy_Transition_Tweets',\n",
              " 'DanL/scientific-challenges-and-directions-dataset',\n",
              " 'Daniele/dante-corpus',\n",
              " 'Darren/data',\n",
              " 'Datatang/accented_english',\n",
              " 'Datatang/accented_mandarin',\n",
              " 'Datatang/chinese_dialect',\n",
              " 'Datatang/mandarin_chinese',\n",
              " 'Datatang/mixed_speech_chinese_english',\n",
              " 'Datatang/multi_language',\n",
              " 'Datatang/multi_language_conversation',\n",
              " 'Davlan/conll2003_de_noMISC',\n",
              " 'Davlan/conll2003_noMISC',\n",
              " 'Davlan/masakhanerV1',\n",
              " 'DelgadoPanadero/Pokemon',\n",
              " 'DeskDown/ALTDataset',\n",
              " 'DeskDown/ALTDataset_en-to-fil-vi-id-ms-ja-khm',\n",
              " 'DiFronzo/Human_Activity_Recognition',\n",
              " 'Dmitriy612/1',\n",
              " 'DoctorSlimm/yipee',\n",
              " 'Doohae/klue-mrc-bm25',\n",
              " 'Doohae/modern_music_re',\n",
              " 'DoyyingFace/github-embeddings-doy',\n",
              " 'DoyyingFace/github-issues-doy',\n",
              " 'DrishtiSharma/as_opus100_processed',\n",
              " 'DrishtiSharma/bg_opus100_processed',\n",
              " 'DrishtiSharma/br_opus100_processed',\n",
              " 'DrishtiSharma/hi_opus100_processed',\n",
              " 'DrishtiSharma/kk_opus100_processed',\n",
              " 'DrishtiSharma/mr_opus100_processed',\n",
              " 'DrishtiSharma/or_opus100_processed',\n",
              " 'DrishtiSharma/sl_opus100_processed',\n",
              " 'DrishtiSharma/sr_opus100_processed',\n",
              " 'Dumiiii/common-voice-romaniarss',\n",
              " 'EMBO/biolang',\n",
              " 'EMBO/sd-nlp',\n",
              " 'ESZER/H',\n",
              " 'Emanuel/UD_Portuguese-Bosque',\n",
              " 'Emma121/testtest',\n",
              " 'Emon/sobuj',\n",
              " 'Enes3774/data',\n",
              " 'Exr0n/wiki-entity-similarity',\n",
              " 'Eymen3455/xsum_tr',\n",
              " 'FIG-Loneliness/FIG-Loneliness',\n",
              " 'FL33TW00D/test-dataset',\n",
              " 'FRTNX/cosuju',\n",
              " 'FRTNX/worldbank-projects',\n",
              " 'Felix-ML/quoteli3',\n",
              " 'Fhrozen/JTubeSpeech',\n",
              " 'Finnish-NLP/mc4_fi_cleaned',\n",
              " 'Firoj/CrisisBench',\n",
              " 'Francois/futures_es',\n",
              " 'Fraser/mnist-text-default',\n",
              " 'Fraser/mnist-text-no-spaces',\n",
              " 'Fraser/mnist-text-small',\n",
              " 'Fraser/news-category-dataset',\n",
              " 'Fraser/program-synthesis',\n",
              " 'Fraser/python-lines',\n",
              " 'Fraser/python-state-changes',\n",
              " 'Fraser/short-jokes',\n",
              " 'Fraser/wiki_sentences',\n",
              " 'GEM/ART',\n",
              " 'GEM/BiSECT',\n",
              " 'GEM/CrossWOZ',\n",
              " 'GEM/OrangeSum',\n",
              " 'GEM/RiSAWOZ',\n",
              " 'GEM/RotoWire_English-German',\n",
              " 'GEM/SIMPITIKI',\n",
              " 'GEM/SciDuet',\n",
              " 'GEM/Taskmaster',\n",
              " 'GEM/cochrane-simplification',\n",
              " 'GEM/common_gen',\n",
              " 'GEM/conversational_weather',\n",
              " 'GEM/cs_restaurants',\n",
              " 'GEM/dart',\n",
              " 'GEM/dstc10_track2_task2',\n",
              " 'GEM/e2e_nlg',\n",
              " 'GEM/indonlg',\n",
              " 'GEM/mlb_data_to_text',\n",
              " 'GEM/mlsum',\n",
              " 'GEM/opusparcus',\n",
              " 'GEM/references',\n",
              " 'GEM/schema_guided_dialog',\n",
              " 'GEM/sportsett_basketball',\n",
              " 'GEM/squad_v2',\n",
              " 'GEM/surface_realisation_st_2020',\n",
              " 'GEM/totto',\n",
              " 'GEM/turku_hockey_data2text',\n",
              " 'GEM/turku_paraphrase_corpus',\n",
              " 'GEM/viggo',\n",
              " 'GEM/web_nlg',\n",
              " 'GEM/wiki_auto_asset_turk',\n",
              " 'GEM/wiki_cat_sum',\n",
              " 'GEM/wiki_lingua',\n",
              " 'GEM/xlsum',\n",
              " 'GEM/xsum',\n",
              " 'GEM-submissions/GEM__bart_base_schema_guided_dialog__1645547915',\n",
              " 'GEM-submissions/lewtun__hugging-face-test-t5-base.outputs.json-36bf2a59__1645558682',\n",
              " 'GEM-submissions/lewtun__hugging-face-test-t5-base.outputs.json-36bf2a59__1645559101',\n",
              " 'GEM-submissions/ratishsp',\n",
              " 'GEM-submissions/submission-scores',\n",
              " 'GV05/shlomit_speech',\n",
              " 'Gabriel/quora_swe',\n",
              " 'Gabriel/squad_v2_sv',\n",
              " 'GalacticAI/Noirset',\n",
              " 'Gauravadlakha1509/new_one',\n",
              " 'GeoffVdr/cv8_trainval_processed',\n",
              " 'GonzaloA/fake_news',\n",
              " 'Graphcore/gqa-lxmert',\n",
              " 'Graphcore/gqa',\n",
              " 'Graphcore/vqa-lxmert',\n",
              " 'Graphcore/vqa',\n",
              " 'Graphcore/wikipedia-bert-128',\n",
              " 'Graphcore/wikipedia-bert-512',\n",
              " 'GroNLP/ik-nlp-22_pestyle',\n",
              " 'GroNLP/ik-nlp-22_slp',\n",
              " 'GroNLP/ik-nlp-22_transqe',\n",
              " 'GroNLP/ik-nlp-22_winemag',\n",
              " 'Gwangho/NCBI-Sars-Cov-2',\n",
              " 'HHousen/ParaSCI',\n",
              " 'HHousen/msrp',\n",
              " 'HHousen/quora',\n",
              " 'HUPD/hupd',\n",
              " 'Halilyesilceng/autonlp-data-nameEntityRecognition',\n",
              " 'HarleyQ/WitcherDialogue',\n",
              " 'HarrisDePerceptron/sv_corpora_parliament_processed',\n",
              " 'HarrisDePerceptron/ur_corpora_pib',\n",
              " 'Harveenchadha/bol-models',\n",
              " 'HarveyBWest/mybot',\n",
              " 'Hellisotherpeople/DebateSum',\n",
              " 'Helsinki-NLP/tatoeba_mt',\n",
              " 'HenryAI/KerasAPIReference.txt',\n",
              " 'HenryAI/KerasBERTv1-Data',\n",
              " 'HenryAI/KerasCodeExamples.txt',\n",
              " 'HenryAI/KerasDeveloperGuides.txt',\n",
              " 'Husain/intent-classification-en-fr',\n",
              " 'IFSTalfredoswald/MBTI',\n",
              " 'IGESML/pubmed_neg',\n",
              " 'Iftoo95/Arabic_Sentiment_and_Topics',\n",
              " 'IlyaGusev/gazeta',\n",
              " 'IlyaGusev/headline_cause',\n",
              " 'Intel/WEC-Eng',\n",
              " 'IsaacBot/GP-Sentiment',\n",
              " 'Ishwar/Senti',\n",
              " 'Iskaj/dutch_corpora_parliament_processed',\n",
              " 'JIWON/nil_dataset',\n",
              " 'JIsanan/war-ceb-wikipedia',\n",
              " 'Jack0508/TED2020_kor',\n",
              " 'Jack0508/TED2020_vi',\n",
              " 'Jack0508/TED2020vi_kor',\n",
              " 'Jack0508/demo',\n",
              " ...]"
            ]
          },
          "metadata": {},
          "execution_count": 8
        }
      ]
    },
    {
      "cell_type": "markdown",
      "metadata": {
        "id": "OZfrIK8fW9DU"
      },
      "source": [
        "### Descarga y Preparación de los Datos"
      ]
    },
    {
      "cell_type": "markdown",
      "metadata": {
        "id": "t4MZ_LiNwI_T"
      },
      "source": [
        "### Cargado de Dataset"
      ]
    },
    {
      "cell_type": "code",
      "metadata": {
        "colab": {
          "base_uri": "https://localhost:8080/"
        },
        "id": "N0TPG-bEk-uU",
        "outputId": "221fdaac-1416-4bbc-dbd4-29627859e10f"
      },
      "source": [
        "train_data_txt = datasets.load_dataset(\"cnn_dailymail\", '3.0.0', split=\"train[:100]\")\n",
        "validation_data_txt = datasets.load_dataset(\"cnn_dailymail\", '3.0.0', split=\"validation[:50]\")"
      ],
      "execution_count": null,
      "outputs": [
        {
          "output_type": "stream",
          "name": "stderr",
          "text": [
            "Reusing dataset cnn_dailymail (/root/.cache/huggingface/datasets/cnn_dailymail/3.0.0/3.0.0/3cb851bf7cf5826e45d49db2863f627cba583cbc32342df7349dfe6c38060234)\n",
            "Reusing dataset cnn_dailymail (/root/.cache/huggingface/datasets/cnn_dailymail/3.0.0/3.0.0/3cb851bf7cf5826e45d49db2863f627cba583cbc32342df7349dfe6c38060234)\n"
          ]
        }
      ]
    },
    {
      "cell_type": "markdown",
      "metadata": {
        "id": "5pbe750YpMfD"
      },
      "source": [
        "**Preprocess and tokenize**"
      ]
    },
    {
      "cell_type": "code",
      "metadata": {
        "id": "PyksYNwxA4OM",
        "colab": {
          "base_uri": "https://localhost:8080/",
          "height": 87,
          "referenced_widgets": [
            "5167085e83c24d33adeab7b66647fc2f",
            "c1e3d6b965bc412abcb897c540232d64",
            "a406ab4cef824f1f894bbe4b830e3b18",
            "ca98c7e8cad149ceb047203241608e91",
            "7635eccb3faa4c8ebf2dd34dabe20bb5",
            "4eed4636f9b74ceebbc3633f1d733317",
            "210ed4e2b1a94199be432270777ffe5b",
            "72915fca8c0844feaccba18c89635f7f",
            "58ed1e982e7c412abd8c3d3dc8ae7a52",
            "3b7440ec642646bd8545588a54ab135c",
            "a32b261069554689a85b7262e4daf0e7"
          ]
        },
        "outputId": "582b8956-c318-4fa7-bb8c-d53e7a747535"
      },
      "source": [
        "def batch_tokenize_preprocess(batch, tokenizer, max_source_length, max_target_length):\n",
        "    source, target = batch[\"article\"], batch[\"highlights\"]\n",
        "    source_tokenized = tokenizer(\n",
        "        source, padding=\"max_length\", truncation=True, max_length=max_source_length\n",
        "    )\n",
        "    target_tokenized = tokenizer(\n",
        "        target, padding=\"max_length\", truncation=True, max_length=max_target_length\n",
        "    )\n",
        "\n",
        "    batch = {k: v for k, v in source_tokenized.items()}\n",
        "    # Ignore padding in the loss\n",
        "    batch[\"labels\"] = [\n",
        "        [-100 if token == tokenizer.pad_token_id else token for token in l]\n",
        "        for l in target_tokenized[\"input_ids\"]\n",
        "    ]\n",
        "    return batch\n",
        "\n",
        "\n",
        "train_data = train_data_txt.map(\n",
        "    lambda batch: batch_tokenize_preprocess(\n",
        "        batch, tokenizer, encoder_max_length, decoder_max_length\n",
        "    ),\n",
        "    batched=True,\n",
        "    remove_columns=train_data_txt.column_names,\n",
        ")\n",
        "\n",
        "validation_data = validation_data_txt.map(\n",
        "    lambda batch: batch_tokenize_preprocess(\n",
        "        batch, tokenizer, encoder_max_length, decoder_max_length\n",
        "    ),\n",
        "    batched=True,\n",
        "    remove_columns=validation_data_txt.column_names,\n",
        ")"
      ],
      "execution_count": null,
      "outputs": [
        {
          "output_type": "stream",
          "name": "stderr",
          "text": [
            "Loading cached processed dataset at /root/.cache/huggingface/datasets/cnn_dailymail/3.0.0/3.0.0/3cb851bf7cf5826e45d49db2863f627cba583cbc32342df7349dfe6c38060234/cache-232fe22ec8f32207.arrow\n"
          ]
        },
        {
          "output_type": "display_data",
          "data": {
            "text/plain": [
              "  0%|          | 0/1 [00:00<?, ?ba/s]"
            ],
            "application/vnd.jupyter.widget-view+json": {
              "version_major": 2,
              "version_minor": 0,
              "model_id": "5167085e83c24d33adeab7b66647fc2f"
            }
          },
          "metadata": {}
        }
      ]
    },
    {
      "cell_type": "markdown",
      "metadata": {
        "id": "h7ViBmMopWfb"
      },
      "source": [
        "## Training\n",
        "\n",
        "---"
      ]
    },
    {
      "cell_type": "markdown",
      "metadata": {
        "id": "9EfTztMPv2vG"
      },
      "source": [
        "### Metrics"
      ]
    },
    {
      "cell_type": "code",
      "metadata": {
        "id": "rpNCGl2sYl2p"
      },
      "source": [
        "# Borrowed from https://github.com/huggingface/transformers/blob/master/examples/seq2seq/run_summarization.py\n",
        "\n",
        "nltk.download(\"punkt\", quiet=True)\n",
        "\n",
        "metric = datasets.load_metric(\"rouge\")\n",
        "\n",
        "\n",
        "def postprocess_text(preds, labels):\n",
        "    preds = [pred.strip() for pred in preds]\n",
        "    labels = [label.strip() for label in labels]\n",
        "\n",
        "    # rougeLSum expects newline after each sentence\n",
        "    preds = [\"\\n\".join(nltk.sent_tokenize(pred)) for pred in preds]\n",
        "    labels = [\"\\n\".join(nltk.sent_tokenize(label)) for label in labels]\n",
        "\n",
        "    return preds, labels\n",
        "\n",
        "\n",
        "def compute_metrics(eval_preds):\n",
        "    preds, labels = eval_preds\n",
        "    if isinstance(preds, tuple):\n",
        "        preds = preds[0]\n",
        "    decoded_preds = tokenizer.batch_decode(preds, skip_special_tokens=True)\n",
        "    # Replace -100 in the labels as we can't decode them.\n",
        "    labels = np.where(labels != -100, labels, tokenizer.pad_token_id)\n",
        "    decoded_labels = tokenizer.batch_decode(labels, skip_special_tokens=True)\n",
        "\n",
        "    # Some simple post-processing\n",
        "    decoded_preds, decoded_labels = postprocess_text(decoded_preds, decoded_labels)\n",
        "\n",
        "    result = metric.compute(\n",
        "        predictions=decoded_preds, references=decoded_labels, use_stemmer=True\n",
        "    )\n",
        "    # Extract a few results from ROUGE\n",
        "    result = {key: value.mid.fmeasure * 100 for key, value in result.items()}\n",
        "\n",
        "    prediction_lens = [\n",
        "        np.count_nonzero(pred != tokenizer.pad_token_id) for pred in preds\n",
        "    ]\n",
        "    result[\"gen_len\"] = np.mean(prediction_lens)\n",
        "    result = {k: round(v, 4) for k, v in result.items()}\n",
        "    return result"
      ],
      "execution_count": null,
      "outputs": []
    },
    {
      "cell_type": "markdown",
      "metadata": {
        "id": "8O1EeUi-pbPA"
      },
      "source": [
        "### Training arguments"
      ]
    },
    {
      "cell_type": "code",
      "metadata": {
        "id": "6R9d7ELIpX9F"
      },
      "source": [
        "training_args = Seq2SeqTrainingArguments(\n",
        "    output_dir=\"results\",\n",
        "    num_train_epochs=8,  # demo\n",
        "    do_train=True,\n",
        "    do_eval=True,\n",
        "    per_device_train_batch_size=4,  # demo\n",
        "    per_device_eval_batch_size=4,\n",
        "    learning_rate=3e-04,\n",
        "    warmup_steps=500,\n",
        "    weight_decay=0.1,\n",
        "    label_smoothing_factor=0.1,\n",
        "    predict_with_generate=True, #Para métricas ROUGE\n",
        "    logging_dir=\"logs\",\n",
        "    logging_steps=50,\n",
        "    save_total_limit=3,\n",
        ")\n",
        "\n",
        "data_collator = DataCollatorForSeq2Seq(tokenizer, model=model)\n",
        "\n",
        "trainer = Seq2SeqTrainer(\n",
        "    model=model,\n",
        "    args=training_args,\n",
        "    data_collator=data_collator,\n",
        "    train_dataset=train_data,\n",
        "    eval_dataset=validation_data,\n",
        "    tokenizer=tokenizer,\n",
        "    compute_metrics=compute_metrics,\n",
        ")"
      ],
      "execution_count": null,
      "outputs": []
    },
    {
      "cell_type": "markdown",
      "metadata": {
        "id": "Qzcsz3gKplPO"
      },
      "source": [
        "### Train"
      ]
    },
    {
      "cell_type": "markdown",
      "metadata": {
        "id": "Rpg2a0mfoD-l"
      },
      "source": [
        "Wandb integration"
      ]
    },
    {
      "cell_type": "code",
      "metadata": {
        "colab": {
          "base_uri": "https://localhost:8080/"
        },
        "id": "Ns6c0cMuWDXp",
        "outputId": "d72ff835-ee27-4266-ae5d-01dde21d1b02"
      },
      "source": [
        "wandb"
      ],
      "execution_count": null,
      "outputs": [
        {
          "output_type": "execute_result",
          "data": {
            "text/plain": [
              "<module 'wandb' from '/usr/local/lib/python3.7/dist-packages/wandb/__init__.py'>"
            ]
          },
          "metadata": {},
          "execution_count": 15
        }
      ]
    },
    {
      "cell_type": "code",
      "metadata": {
        "id": "tdaVPp9doF1c",
        "colab": {
          "base_uri": "https://localhost:8080/",
          "height": 69
        },
        "outputId": "5919c2a1-1d15-493b-809a-f95f9ed2679f"
      },
      "source": [
        "if WANDB_INTEGRATION:\n",
        "    wandb_run = wandb.init(\n",
        "        project=\"distill-pegasus_FT\",\n",
        "        config={\n",
        "            \"per_device_train_batch_size\": training_args.per_device_train_batch_size,\n",
        "            \"learning_rate\": training_args.learning_rate,\n",
        "            \"dataset\": \"cnn_dailymail\",\n",
        "        },\n",
        "    )\n",
        "\n",
        "    now = datetime.now()\n",
        "    current_time = now.strftime(\"%H%M%S\")\n",
        "    wandb_run.name = \"run_\" + current_time"
      ],
      "execution_count": null,
      "outputs": [
        {
          "output_type": "display_data",
          "data": {
            "text/plain": [
              "<IPython.core.display.HTML object>"
            ],
            "text/html": [
              "Tracking run with wandb version 0.12.11"
            ]
          },
          "metadata": {}
        },
        {
          "output_type": "display_data",
          "data": {
            "text/plain": [
              "<IPython.core.display.HTML object>"
            ],
            "text/html": [
              "Run data is saved locally in <code>/content/wandb/run-20220312_223848-3cmivtjl</code>"
            ]
          },
          "metadata": {}
        },
        {
          "output_type": "display_data",
          "data": {
            "text/plain": [
              "<IPython.core.display.HTML object>"
            ],
            "text/html": [
              "Syncing run <strong><a href=\"https://wandb.ai/bigbam/distill-pegasus_FT/runs/3cmivtjl\" target=\"_blank\">deft-brook-2</a></strong> to <a href=\"https://wandb.ai/bigbam/distill-pegasus_FT\" target=\"_blank\">Weights & Biases</a> (<a href=\"https://wandb.me/run\" target=\"_blank\">docs</a>)<br/>"
            ]
          },
          "metadata": {}
        }
      ]
    },
    {
      "cell_type": "markdown",
      "metadata": {
        "id": "kEtd_a7TPpkd"
      },
      "source": [
        "Evaluate before fine-tuning"
      ]
    },
    {
      "cell_type": "code",
      "metadata": {
        "id": "5yveDiz7pm3i",
        "colab": {
          "base_uri": "https://localhost:8080/",
          "height": 291
        },
        "outputId": "d36ef004-2f3d-4ba3-ac67-c8b1aed0cb93"
      },
      "source": [
        "trainer.evaluate()"
      ],
      "execution_count": null,
      "outputs": [
        {
          "output_type": "stream",
          "name": "stderr",
          "text": [
            "***** Running Evaluation *****\n",
            "  Num examples = 50\n",
            "  Batch size = 4\n"
          ]
        },
        {
          "output_type": "display_data",
          "data": {
            "text/plain": [
              "<IPython.core.display.HTML object>"
            ],
            "text/html": [
              "\n",
              "    <div>\n",
              "      \n",
              "      <progress value='13' max='13' style='width:300px; height:20px; vertical-align: middle;'></progress>\n",
              "      [13/13 00:37]\n",
              "    </div>\n",
              "    "
            ]
          },
          "metadata": {}
        },
        {
          "output_type": "stream",
          "name": "stderr",
          "text": [
            "Automatic Weights & Biases logging enabled, to disable set os.environ[\"WANDB_DISABLED\"] = \"true\"\n"
          ]
        },
        {
          "output_type": "execute_result",
          "data": {
            "text/plain": [
              "{'eval_gen_len': 17.28,\n",
              " 'eval_loss': 4.889358997344971,\n",
              " 'eval_rouge1': 13.2782,\n",
              " 'eval_rouge2': 3.0902,\n",
              " 'eval_rougeL': 9.861,\n",
              " 'eval_rougeLsum': 11.0474,\n",
              " 'eval_runtime': 40.9354,\n",
              " 'eval_samples_per_second': 1.221,\n",
              " 'eval_steps_per_second': 0.318}"
            ]
          },
          "metadata": {},
          "execution_count": 17
        }
      ]
    },
    {
      "cell_type": "markdown",
      "metadata": {
        "id": "nkRb7hvgPrf2"
      },
      "source": [
        "Train the model"
      ]
    },
    {
      "cell_type": "code",
      "metadata": {
        "id": "PZLM53u6mXyF"
      },
      "source": [
        "torch.cuda.is_available()\n",
        "import tensorflow as tf"
      ],
      "execution_count": null,
      "outputs": []
    },
    {
      "cell_type": "code",
      "metadata": {
        "colab": {
          "base_uri": "https://localhost:8080/",
          "height": 38
        },
        "id": "ZgJsTMNan2cQ",
        "outputId": "43ff0e96-8f7d-4877-82b3-af15343a4f1c"
      },
      "source": [
        "tf.test.gpu_device_name()"
      ],
      "execution_count": null,
      "outputs": [
        {
          "output_type": "execute_result",
          "data": {
            "text/plain": [
              "'/device:GPU:0'"
            ],
            "application/vnd.google.colaboratory.intrinsic+json": {
              "type": "string"
            }
          },
          "metadata": {},
          "execution_count": 19
        }
      ]
    },
    {
      "cell_type": "code",
      "metadata": {
        "id": "qYcYcbkr7ZZD",
        "colab": {
          "base_uri": "https://localhost:8080/",
          "height": 489
        },
        "outputId": "e65aeac0-e79d-4561-b607-7080a4d90aa3"
      },
      "source": [
        "#%%wandb\n",
        "# uncomment to display Wandb charts\n",
        "\n",
        "trainer.train()"
      ],
      "execution_count": null,
      "outputs": [
        {
          "output_type": "stream",
          "name": "stderr",
          "text": [
            "/usr/local/lib/python3.7/dist-packages/transformers/optimization.py:309: FutureWarning: This implementation of AdamW is deprecated and will be removed in a future version. Use the PyTorch implementation torch.optim.AdamW instead, or set `no_deprecation_warning=True` to disable this warning\n",
            "  FutureWarning,\n",
            "***** Running training *****\n",
            "  Num examples = 100\n",
            "  Num Epochs = 8\n",
            "  Instantaneous batch size per device = 4\n",
            "  Total train batch size (w. parallel, distributed & accumulation) = 4\n",
            "  Gradient Accumulation steps = 1\n",
            "  Total optimization steps = 200\n"
          ]
        },
        {
          "output_type": "display_data",
          "data": {
            "text/plain": [
              "<IPython.core.display.HTML object>"
            ],
            "text/html": [
              "\n",
              "    <div>\n",
              "      \n",
              "      <progress value='200' max='200' style='width:300px; height:20px; vertical-align: middle;'></progress>\n",
              "      [200/200 04:39, Epoch 8/8]\n",
              "    </div>\n",
              "    <table border=\"1\" class=\"dataframe\">\n",
              "  <thead>\n",
              " <tr style=\"text-align: left;\">\n",
              "      <th>Step</th>\n",
              "      <th>Training Loss</th>\n",
              "    </tr>\n",
              "  </thead>\n",
              "  <tbody>\n",
              "    <tr>\n",
              "      <td>50</td>\n",
              "      <td>4.989400</td>\n",
              "    </tr>\n",
              "    <tr>\n",
              "      <td>100</td>\n",
              "      <td>4.330500</td>\n",
              "    </tr>\n",
              "    <tr>\n",
              "      <td>150</td>\n",
              "      <td>3.757500</td>\n",
              "    </tr>\n",
              "    <tr>\n",
              "      <td>200</td>\n",
              "      <td>3.282700</td>\n",
              "    </tr>\n",
              "  </tbody>\n",
              "</table><p>"
            ]
          },
          "metadata": {}
        },
        {
          "output_type": "stream",
          "name": "stderr",
          "text": [
            "\n",
            "\n",
            "Training completed. Do not forget to share your model on huggingface.co/models =)\n",
            "\n",
            "\n"
          ]
        },
        {
          "output_type": "execute_result",
          "data": {
            "text/plain": [
              "TrainOutput(global_step=200, training_loss=4.090016021728515, metrics={'train_runtime': 280.748, 'train_samples_per_second': 2.85, 'train_steps_per_second': 0.712, 'total_flos': 412774878412800.0, 'train_loss': 4.090016021728515, 'epoch': 8.0})"
            ]
          },
          "metadata": {},
          "execution_count": 20
        }
      ]
    },
    {
      "cell_type": "markdown",
      "metadata": {
        "id": "V3C-4SfOPssY"
      },
      "source": [
        "Evaluate after fine-tuning"
      ]
    },
    {
      "cell_type": "code",
      "metadata": {
        "id": "_-QyUtCRH9DO",
        "colab": {
          "base_uri": "https://localhost:8080/",
          "height": 271
        },
        "outputId": "c818dc85-5cd8-4244-a5f4-c4d7d367dbdd"
      },
      "source": [
        "trainer.evaluate()"
      ],
      "execution_count": null,
      "outputs": [
        {
          "output_type": "stream",
          "name": "stderr",
          "text": [
            "***** Running Evaluation *****\n",
            "  Num examples = 50\n",
            "  Batch size = 4\n"
          ]
        },
        {
          "output_type": "display_data",
          "data": {
            "text/plain": [
              "<IPython.core.display.HTML object>"
            ],
            "text/html": [
              "\n",
              "    <div>\n",
              "      \n",
              "      <progress value='26' max='13' style='width:300px; height:20px; vertical-align: middle;'></progress>\n",
              "      [13/13 06:11]\n",
              "    </div>\n",
              "    "
            ]
          },
          "metadata": {}
        },
        {
          "output_type": "execute_result",
          "data": {
            "text/plain": [
              "{'epoch': 8.0,\n",
              " 'eval_gen_len': 42.68,\n",
              " 'eval_loss': 3.9354605674743652,\n",
              " 'eval_rouge1': 25.853,\n",
              " 'eval_rouge2': 8.9813,\n",
              " 'eval_rougeL': 20.3855,\n",
              " 'eval_rougeLsum': 22.7615,\n",
              " 'eval_runtime': 52.3327,\n",
              " 'eval_samples_per_second': 0.955,\n",
              " 'eval_steps_per_second': 0.248}"
            ]
          },
          "metadata": {},
          "execution_count": 21
        }
      ]
    },
    {
      "cell_type": "code",
      "metadata": {
        "id": "ClRTrG2ETUm3",
        "colab": {
          "base_uri": "https://localhost:8080/",
          "height": 577,
          "referenced_widgets": [
            "d08ad609d7444d109433067a3dfa09e2",
            "f0f1890e22124970ab771e890bed0072",
            "bc54336e5af0473aadba90115a0369f9",
            "0f3e0818270e4cf399bfe6610a5c4fa5",
            "f96aedce50e240b59b5aa23b887bc7cb",
            "731b8f077a404b93834c803c415354c2",
            "c6d83ed52b554d48b7d3a917bb58f40a",
            "7aceb503b3834f65ae1c9d78201c4dd1"
          ]
        },
        "outputId": "2924c9eb-f2e3-4907-b899-3388d22f8d86"
      },
      "source": [
        "if WANDB_INTEGRATION:\n",
        "    wandb_run.finish()"
      ],
      "execution_count": null,
      "outputs": [
        {
          "output_type": "stream",
          "name": "stdout",
          "text": [
            "\n"
          ]
        },
        {
          "output_type": "display_data",
          "data": {
            "text/plain": [
              "<IPython.core.display.HTML object>"
            ],
            "text/html": [
              "Waiting for W&B process to finish... <strong style=\"color:green\">(success).</strong>"
            ]
          },
          "metadata": {}
        },
        {
          "output_type": "display_data",
          "data": {
            "text/plain": [
              "VBox(children=(Label(value='0.001 MB of 0.001 MB uploaded (0.000 MB deduped)\\r'), FloatProgress(value=1.0, max…"
            ],
            "application/vnd.jupyter.widget-view+json": {
              "version_major": 2,
              "version_minor": 0,
              "model_id": "d08ad609d7444d109433067a3dfa09e2"
            }
          },
          "metadata": {}
        },
        {
          "output_type": "display_data",
          "data": {
            "text/plain": [
              "<IPython.core.display.HTML object>"
            ],
            "text/html": [
              "<style>\n",
              "    table.wandb td:nth-child(1) { padding: 0 10px; text-align: right }\n",
              "    .wandb-row { display: flex; flex-direction: row; flex-wrap: wrap; width: 100% }\n",
              "    .wandb-col { display: flex; flex-direction: column; flex-basis: 100%; flex: 1; padding: 10px; }\n",
              "    </style>\n",
              "<div class=\"wandb-row\"><div class=\"wandb-col\"><h3>Run history:</h3><br/><table class=\"wandb\"><tr><td>eval/gen_len</td><td>▁█</td></tr><tr><td>eval/loss</td><td>█▁</td></tr><tr><td>eval/rouge1</td><td>▁█</td></tr><tr><td>eval/rouge2</td><td>▁█</td></tr><tr><td>eval/rougeL</td><td>▁█</td></tr><tr><td>eval/rougeLsum</td><td>▁█</td></tr><tr><td>eval/runtime</td><td>▁█</td></tr><tr><td>eval/samples_per_second</td><td>█▁</td></tr><tr><td>eval/steps_per_second</td><td>█▁</td></tr><tr><td>train/epoch</td><td>▁▃▆███</td></tr><tr><td>train/global_step</td><td>▁▃▅▆███</td></tr><tr><td>train/learning_rate</td><td>▁▃▆█</td></tr><tr><td>train/loss</td><td>█▅▃▁</td></tr><tr><td>train/total_flos</td><td>▁</td></tr><tr><td>train/train_loss</td><td>▁</td></tr><tr><td>train/train_runtime</td><td>▁</td></tr><tr><td>train/train_samples_per_second</td><td>▁</td></tr><tr><td>train/train_steps_per_second</td><td>▁</td></tr></table><br/></div><div class=\"wandb-col\"><h3>Run summary:</h3><br/><table class=\"wandb\"><tr><td>eval/gen_len</td><td>42.68</td></tr><tr><td>eval/loss</td><td>3.93546</td></tr><tr><td>eval/rouge1</td><td>25.853</td></tr><tr><td>eval/rouge2</td><td>8.9813</td></tr><tr><td>eval/rougeL</td><td>20.3855</td></tr><tr><td>eval/rougeLsum</td><td>22.7615</td></tr><tr><td>eval/runtime</td><td>52.3327</td></tr><tr><td>eval/samples_per_second</td><td>0.955</td></tr><tr><td>eval/steps_per_second</td><td>0.248</td></tr><tr><td>train/epoch</td><td>8.0</td></tr><tr><td>train/global_step</td><td>200</td></tr><tr><td>train/learning_rate</td><td>0.00012</td></tr><tr><td>train/loss</td><td>3.2827</td></tr><tr><td>train/total_flos</td><td>412774878412800.0</td></tr><tr><td>train/train_loss</td><td>4.09002</td></tr><tr><td>train/train_runtime</td><td>280.748</td></tr><tr><td>train/train_samples_per_second</td><td>2.85</td></tr><tr><td>train/train_steps_per_second</td><td>0.712</td></tr></table><br/></div></div>"
            ]
          },
          "metadata": {}
        },
        {
          "output_type": "display_data",
          "data": {
            "text/plain": [
              "<IPython.core.display.HTML object>"
            ],
            "text/html": [
              "Synced <strong style=\"color:#cdcd00\">deft-brook-2</strong>: <a href=\"https://wandb.ai/bigbam/distill-pegasus_FT/runs/3cmivtjl\" target=\"_blank\">https://wandb.ai/bigbam/distill-pegasus_FT/runs/3cmivtjl</a><br/>Synced 5 W&B file(s), 0 media file(s), 0 artifact file(s) and 0 other file(s)"
            ]
          },
          "metadata": {}
        },
        {
          "output_type": "display_data",
          "data": {
            "text/plain": [
              "<IPython.core.display.HTML object>"
            ],
            "text/html": [
              "Find logs at: <code>./wandb/run-20220312_223848-3cmivtjl/logs</code>"
            ]
          },
          "metadata": {}
        }
      ]
    },
    {
      "cell_type": "code",
      "source": [
        "!nvidia-smi"
      ],
      "metadata": {
        "colab": {
          "base_uri": "https://localhost:8080/"
        },
        "id": "xpfby90xSSiY",
        "outputId": "1cd8deae-c5a7-4147-bc4a-3e501ca8907d"
      },
      "execution_count": null,
      "outputs": [
        {
          "output_type": "stream",
          "name": "stdout",
          "text": [
            "Sat Mar 12 22:49:04 2022       \n",
            "+-----------------------------------------------------------------------------+\n",
            "| NVIDIA-SMI 460.32.03    Driver Version: 460.32.03    CUDA Version: 11.2     |\n",
            "|-------------------------------+----------------------+----------------------+\n",
            "| GPU  Name        Persistence-M| Bus-Id        Disp.A | Volatile Uncorr. ECC |\n",
            "| Fan  Temp  Perf  Pwr:Usage/Cap|         Memory-Usage | GPU-Util  Compute M. |\n",
            "|                               |                      |               MIG M. |\n",
            "|===============================+======================+======================|\n",
            "|   0  Tesla K80           Off  | 00000000:00:04.0 Off |                    0 |\n",
            "| N/A   49C    P0    58W / 149W |  10785MiB / 11441MiB |      0%      Default |\n",
            "|                               |                      |                  N/A |\n",
            "+-------------------------------+----------------------+----------------------+\n",
            "                                                                               \n",
            "+-----------------------------------------------------------------------------+\n",
            "| Processes:                                                                  |\n",
            "|  GPU   GI   CI        PID   Type   Process name                  GPU Memory |\n",
            "|        ID   ID                                                   Usage      |\n",
            "|=============================================================================|\n",
            "+-----------------------------------------------------------------------------+\n"
          ]
        }
      ]
    },
    {
      "cell_type": "code",
      "source": [
        "!ps -aux|grep python"
      ],
      "metadata": {
        "colab": {
          "base_uri": "https://localhost:8080/"
        },
        "id": "U5knobDhSgJG",
        "outputId": "5ca54f5f-87ec-4513-9634-9a2a7024fec4"
      },
      "execution_count": null,
      "outputs": [
        {
          "output_type": "stream",
          "name": "stdout",
          "text": [
            "root          27  0.2  0.0      0     0 ?        Z    22:07   0:06 [python3] <defunct>\n",
            "root          28  0.0  0.2 160408 34008 ?        S    22:07   0:00 python3 /usr/local/bin/colab-fileshim.py\n",
            "root          53  0.5  0.4 233028 56916 ?        Sl   22:07   0:14 /usr/bin/python3 /usr/local/bin/jupyter-notebook --ip=\"172.28.0.2\" --port=9000 --FileContentsManager.root_dir=\"/\" --MappingKernelManager.root_dir=\"/content\"\n",
            "root         757 51.0 70.6 55486176 9402812 ?    Ssl  22:32   9:16 /usr/bin/python3 -m ipykernel_launcher -f /root/.local/share/jupyter/runtime/kernel-be9866a5-8922-4fbc-ae32-37537c8b4808.json\n",
            "root         777  0.4  0.1 129184 15948 ?        Sl   22:32   0:04 /usr/bin/python3 /usr/local/lib/python3.7/dist-packages/debugpy/adapter --for-server 33865 --host 127.0.0.1 --port 20278 --server-access-token 9dbed6f9c7a9c9e672551ea3d0b5132b2f52d1a908c5184c357327456f295ffb\n",
            "root         996  0.0  0.1  55344 15000 ?        S    22:38   0:00 /usr/bin/python3 -Wignore:::pip._internal.cli.base_command -c from multiprocessing.semaphore_tracker import main;main(90)\n",
            "root        1182  0.0  0.0  39200  6436 ?        S    22:50   0:00 /bin/bash -c ps -aux|grep python\n",
            "root        1184  0.0  0.0  38572  5492 ?        S    22:50   0:00 grep python\n"
          ]
        }
      ]
    },
    {
      "cell_type": "code",
      "source": [
        "!kill -9 757 777"
      ],
      "metadata": {
        "id": "EsBNlpRuU6gX"
      },
      "execution_count": null,
      "outputs": []
    },
    {
      "cell_type": "markdown",
      "metadata": {
        "id": "-gSLVnGL9bol"
      },
      "source": [
        "## Evaluation\n",
        "\n",
        "---"
      ]
    },
    {
      "cell_type": "markdown",
      "metadata": {
        "id": "hDwj24cfILS6"
      },
      "source": [
        "**Generate summaries from the fine-tuned model and compare them with those generated from the original, pre-trained one.**"
      ]
    },
    {
      "cell_type": "code",
      "metadata": {
        "id": "NV64-XdA_rOM",
        "colab": {
          "base_uri": "https://localhost:8080/",
          "height": 243
        },
        "outputId": "ff1d9c0d-1045-4cf1-e919-aa518fd3a58e"
      },
      "source": [
        "def generate_summary(test_samples, model):\n",
        "    inputs = tokenizer(\n",
        "        test_samples[\"article\"],\n",
        "        padding=\"max_length\",\n",
        "        truncation=True,\n",
        "        max_length=encoder_max_length,\n",
        "        return_tensors=\"pt\",\n",
        "    )\n",
        "    input_ids = inputs.input_ids.to(model.device)\n",
        "    attention_mask = inputs.attention_mask.to(model.device)\n",
        "    outputs = model.generate(input_ids, attention_mask=attention_mask)\n",
        "    output_str = tokenizer.batch_decode(outputs, skip_special_tokens=True)\n",
        "    return outputs, output_str\n",
        "\n",
        "\n",
        "model_before_tuning = AutoModelForSeq2SeqLM.from_pretrained(model_name)\n",
        "\n",
        "test_samples = validation_data_txt.select(range(16))\n",
        "\n",
        "summaries_before_tuning = generate_summary(test_samples, model_before_tuning)[1]\n",
        "summaries_after_tuning = generate_summary(test_samples, model)[1]"
      ],
      "execution_count": null,
      "outputs": [
        {
          "output_type": "error",
          "ename": "NameError",
          "evalue": "ignored",
          "traceback": [
            "\u001b[0;31m---------------------------------------------------------------------------\u001b[0m",
            "\u001b[0;31mNameError\u001b[0m                                 Traceback (most recent call last)",
            "\u001b[0;32m<ipython-input-1-1450977e5fe8>\u001b[0m in \u001b[0;36m<module>\u001b[0;34m()\u001b[0m\n\u001b[1;32m     14\u001b[0m \u001b[0;34m\u001b[0m\u001b[0m\n\u001b[1;32m     15\u001b[0m \u001b[0;34m\u001b[0m\u001b[0m\n\u001b[0;32m---> 16\u001b[0;31m \u001b[0mmodel_before_tuning\u001b[0m \u001b[0;34m=\u001b[0m \u001b[0mAutoModelForSeq2SeqLM\u001b[0m\u001b[0;34m.\u001b[0m\u001b[0mfrom_pretrained\u001b[0m\u001b[0;34m(\u001b[0m\u001b[0mmodel_name\u001b[0m\u001b[0;34m)\u001b[0m\u001b[0;34m\u001b[0m\u001b[0;34m\u001b[0m\u001b[0m\n\u001b[0m\u001b[1;32m     17\u001b[0m \u001b[0;34m\u001b[0m\u001b[0m\n\u001b[1;32m     18\u001b[0m \u001b[0mtest_samples\u001b[0m \u001b[0;34m=\u001b[0m \u001b[0mvalidation_data_txt\u001b[0m\u001b[0;34m.\u001b[0m\u001b[0mselect\u001b[0m\u001b[0;34m(\u001b[0m\u001b[0mrange\u001b[0m\u001b[0;34m(\u001b[0m\u001b[0;36m16\u001b[0m\u001b[0;34m)\u001b[0m\u001b[0;34m)\u001b[0m\u001b[0;34m\u001b[0m\u001b[0;34m\u001b[0m\u001b[0m\n",
            "\u001b[0;31mNameError\u001b[0m: name 'AutoModelForSeq2SeqLM' is not defined"
          ]
        }
      ]
    },
    {
      "cell_type": "code",
      "metadata": {
        "id": "D7IPtJLjCcmS",
        "colab": {
          "base_uri": "https://localhost:8080/"
        },
        "outputId": "bc7dc015-3c5c-4eef-92cd-85d490d0c8ab"
      },
      "source": [
        "print(\n",
        "    tabulate(\n",
        "        zip(\n",
        "            range(len(summaries_after_tuning)),\n",
        "            summaries_after_tuning,\n",
        "            summaries_before_tuning,\n",
        "        ),\n",
        "        headers=[\"Id\", \"Summary after\", \"Summary before\"],\n",
        "    )\n",
        ")\n",
        "print(\"\\nTarget summaries:\\n\")\n",
        "print(\n",
        "    tabulate(list(enumerate(test_samples[\"highlights\"])), headers=[\"Id\", \"Target summary\"])\n",
        ")\n",
        "print(\"\\nSource documents:\\n\")\n",
        "print(tabulate(list(enumerate(test_samples[\"article\"])), headers=[\"Id\", \"Document\"]))"
      ],
      "execution_count": null,
      "outputs": [
        {
          "output_type": "stream",
          "name": "stdout",
          "text": [
            "  Id  Summary after                                                                                                                                                                                                 Summary before\n",
            "----  ------------------------------------------------------------------------------------------------------------------------------------------------------------------------------------------------------------  ------------------------------------------------------------------------------------------------------------------------------------------------------------------------------------------------------------\n",
            "   0  One of the world's most famous musicians has been involved in an accident.                                                                                                                                    One of the world's most famous musicians has been involved in an accident.\n",
            "   1  One of the world's oldest fraternities has been suspended by the University of Oklahoma.                                                                                                                      One of the world's oldest fraternities has been suspended by the University of Oklahoma.\n",
            "   2  In our series of letters from African journalists, film-maker and columnist Farai Sevenzo looks at some of the questions you have about Jesus.                                                                In our series of letters from African journalists, film-maker and columnist Farai Sevenzo looks at some of the questions you have about Jesus.\n",
            "   3  It's a city in crisis.                                                                                                                                                                                        It's a city in crisis.\n",
            "   4  \"You've got to decide when you do this work, whether it will do more good than harm if someone helps you from another country.\"                                                                               \"You've got to decide when you do this work, whether it will do more good than harm if someone helps you from another country.\"\n",
            "   5  If you've ever wondered what it's like to launch a startup, you've come to the right place.                                                                                                                   If you've ever wondered what it's like to launch a startup, you've come to the right place.\n",
            "   6  The killing of an American diplomat by a gunman at the United States embassy in Cairo has once again highlighted the dangers of diplomatic work.                                                              The killing of an American diplomat by a gunman at the United States embassy in Cairo has once again highlighted the dangers of diplomatic work.\n",
            "   7  It's been a long time coming.                                                                                                                                                                                 It's been a long time coming.\n",
            "   8  All images are copyrighted.                                                                                                                                                                                   All images are copyrighted.\n",
            "   9  Iran has reported that it is helping the Iraqi government fight the Islamic State in Iraq and the Levant (ISIS).                                                                                              Iran has reported that it is helping the Iraqi government fight the Islamic State in Iraq and the Levant (ISIS).\n",
            "  10  My job is to ask tough questions, but when it comes to faith, God, and religion, the more questions I ask in my quest for truth and understanding, the more complex answers become the more complex answers.  My job is to ask tough questions, but when it comes to faith, God, and religion, the more questions I ask in my quest for truth and understanding, the more complex answers become the more complex answers.\n",
            "  11  You may not know how many times glass can be recycled, but we'll tell you on today's edition of CNN Student News.                                                                                             You may not know how many times glass can be recycled, but we'll tell you on today's edition of CNN Student News.\n",
            "  12  All images are copyrighted.                                                                                                                                                                                   All images are copyrighted.\n",
            "  13  A record number of sea lion pups have been stranded on California beaches this year.                                                                                                                          A record number of sea lion pups have been stranded on California beaches this year.\n",
            "  14  All images are copyrighted.                                                                                                                                                                                   All images are copyrighted.\n",
            "  15  In our series of letters from African journalists, film-maker and columnist Farai Sevenzo reflects on the impact of Alzheimer's disease.                                                                      In our series of letters from African journalists, film-maker and columnist Farai Sevenzo reflects on the impact of Alzheimer's disease.\n",
            "\n",
            "Target summaries:\n",
            "\n",
            "  Id  Target summary\n",
            "----  ------------------------------------------------------------------------------------------------------------------------------------------------------------------------------------------------\n",
            "   0  Accident happens in Santa Ynez, California, near where Crosby lives .\n",
            "      The jogger suffered multiple fractures; his injuries are not believed to be life-threatening .\n",
            "   1  Sigma Alpha Epsilon is being tossed out by the University of Oklahoma .\n",
            "      It's also run afoul of officials at Yale, Stanford and Johns Hopkins in recent months .\n",
            "   2  Religion professor Candida Moss appears in each episode of the program .\n",
            "      Moss was part of the original study to determine if relics found in Bulgaria could be the bones of John the Baptist.\n",
            "   3  Two police officers were shot Wednesday in Ferguson .\n",
            "      Hank Johnson, Michael Shank: Policing style needs rethink .\n",
            "   4  Clinton Foundation has taken money from foreign governments .\n",
            "      Bill Clinton:  \"I believe we have done a lot more good than harm\"\n",
            "   5  Join Meerkat founder Ben Rubin for a live chat at 2 p.m. ET Wednesday .\n",
            "      Follow @benrbn and @lauriesegallcnn on Meerkat .\n",
            "      Use hashtag #CNNInstantStartups to join the conversation on Twitter .\n",
            "   6  Several U.S. diplomats have died after being attacked .\n",
            "      They include then-Ambassadors Christopher Stevens, John Mein and Francis Meloy .\n",
            "   7  Debra Milke was convicted of murder in her son's death, given the death penalty .\n",
            "      There was no evidence tying her to the crime, but a detective said she confessed .\n",
            "      This detective had a \"history of misconduct,\" including lying under oath .\n",
            "   8  Spokesperson: Experts are investigating how the UK military health care worker got Ebola .\n",
            "      It is being decided if the military worker infected in Sierra Leone will return to England .\n",
            "      There have been some 24,000 reported cases and 10,000 deaths in the latest Ebola outbreak .\n",
            "   9  Iraqi forces make some progress as they seek to advance toward Tikrit .\n",
            "      The city, best known to Westerners as Saddam Hussein's birthplace, was taken by ISIS in June .\n",
            "  10  Kyra Phillips became a born-again Christian as a teen .\n",
            "      She attended a Christian college, but left after her sophomore year .\n",
            "      Phillips says she now considers herself a seeker of spiritual enlightenment .\n",
            "  11  This page includes the show Transcript .\n",
            "      Use the Transcript to help students with reading comprehension and vocabulary .\n",
            "      At the bottom of the page, comment for a chance to be mentioned on CNN Student News.  You must be a teacher or a student age 13 or older to request a mention on the CNN Student News Roll Call.\n",
            "  12  Incumbent President Goodluck Jonathan acknowledges defeat, says he delivered on promise of fair elections .\n",
            "      Muhammadu Buhari's party says Jonathan called to concede even before final results are announced .\n",
            "      Buhari is a 72-year-old retired major general who ruled in Nigeria in the 1980s .\n",
            "  13  \"There has been an unusually high number of sea lions stranded since January,\" NOAA representative says .\n",
            "      The speculation is mothers are having difficulty finding food, leaving pups alone too long or malnourished .\n",
            "  14  Reuters reports German newspaper says Lubitz took break in 2009 due to depression .\n",
            "      Ripped medical-leave notes found at his home indicate co-pilot hid an illness, officials say .\n",
            "      Investigators found no goodbye letter or evidence of political or religious motivation .\n",
            "  15  Maria Shriver's father was stricken by Alzheimer's, a growing scourge in U.S.\n",
            "      Women are disproportionately affected as sufferers and caregivers, she says .\n",
            "      Wipe Out Alzheimer's Challenge is launching to fill in for lagging government funding, she says .\n",
            "\n",
            "Source documents:\n",
            "\n",
            "  Id  Document\n",
            "----  -----------------------------------------------------------------------------------------------------------------------------------------------------------------------------------------------------------------------------------------------------------------------------------------------------------------------------------------------------------------------------------------------------------------------------------------------------------------------------------------------------------------------------------------------------------------------------------------------------------------------------------------------------------------------------------------------------------------------------------------------------------------------------------------------------------------------------------------------------------------------------------------------------------------------------------------------------------------------------------------------------------------------------------------------------------------------------------------------------------------------------------------------------------------------------------------------------------------------------------------------------------------------------------------------------------------------------------------------------------------------------------------------------------------------------------------------------------------------------------------------------------------------------------------------------------------------------------------------------------------------------------------------------------------------------------------------------------------------------------------------------------------------------------------------------------------------------------------------------------------------------------------------------------------------------------------------------------------------------------------------------------------------------------------------------------------------------------------------------------------------------------------------------------------------------------------------------------------------------------------------------------------------------------------------------------------------------------------------------------------------------------------------------------------------------------------------------------------------------------------------------------------------------------------------------------------------------------------------------------------------------------------------------------------------------------------------------------------------------------------------------------------------------------------------------------------------------------------------------------------------------------------------------------------------------------------------------------------------------------------------------------------------------------------------------------------------------------------------------------------------------------------------------------------------------------------------------------------------------------------------------------------------------------------------------------------------------------------------------------------------------------------------------------------------------------------------------------------------------------------------------------------------------------------------------------------------------------------------------------------------------------------------------------------------------------------------------------------------------------------------------------------------------------------------------------------------------------------------------------------------------------------------------------------------------------------------------------------------------------------------------------------------------------------------------------------------------------------------------------------------------------------------------------------------------------------------------------------------------------------------------------------------------------------------------------------------------------------------------------------------------------------------------------------------------------------------------------------------------------------------------------------------------------------------------------------------------------------------------------------------------------------------------------------------------------------------------------------------------------------------------------------------------------------------------------------------------------------------------------------------------------------------------------------------------------------------------------------------------------------------------------------------------------------------------------------------------------------------------------------------------------------------------------------------------------------------------------------------------------------------------------------------------------------------------------------------------------------------------------------------------------------------------------------------------------------------------------------------------------------------------------------------------------------------------------------------------------------------------------------------------------------------------------------------------------------------------------------------------------------------------------------------------------------------------------------------------------------------------------------------------------------------------------------------------------------------------------------------------------------------------------------------------------------------------------------------------------------------------------------------------------------------------------------------------------------------------------------------------------------------------------------------------------------------------------------------------------------------------------------------------------------------------------------------------------------------------------------------------------------------------------------------------------------------------------------------------------------------------------------------------------------------------------------------------------------------------------------------------------------------------------------------------------------------------------------------------------------------------------------------------------------------------------------------------------------------------------------------------------------------------------------------------------------\n",
            "   0  (CNN)Singer-songwriter David Crosby hit a jogger with his car Sunday evening, a spokesman said. The accident happened in Santa Ynez, California, near where Crosby lives. Crosby was driving at approximately 50 mph when he struck the jogger, according to California Highway Patrol Spokesman Don Clotworthy. The posted speed limit was 55. The jogger suffered multiple fractures, and was airlifted to a hospital in Santa Barbara, Clotworthy said. His injuries are not believed to be life threatening. \"Mr. Crosby was cooperative with authorities and he was not impaired or intoxicated in any way. Mr. Crosby did not see the jogger because of the sun,\" said Clotworthy. According to the spokesman, the jogger and Crosby were on the same side of the road. Pedestrians are supposed to be on the left side of the road walking toward traffic, Clotworthy said. Joggers are considered pedestrians. Crosby is known for weaving multilayered harmonies over sweet melodies. He belongs to the celebrated rock group Crosby, Stills & Nash. \"David Crosby is obviously very upset that he accidentally hit anyone. And, based off of initial reports, he is relieved that the injuries to the gentleman were not life threatening,\" said Michael Jensen, a Crosby spokesman. \"He wishes the jogger a very speedy recovery.\"\n",
            "   1  (CNN)Sigma Alpha Epsilon is under fire for a video showing party-bound fraternity members singing a racist chant. SAE's national chapter suspended the students, but University of Oklahoma President David Boren took it a step further, saying the university's affiliation with the fraternity is permanently done. The news is shocking, but it's not the first time SAE has faced controversy. SAE was founded March 9, 1856, at the University of Alabama, five years before the American Civil War, according to the fraternity website. When the war began, the group had fewer than 400 members, of which \"369 went to war for the Confederate States and seven for the Union Army,\" the website says. The fraternity now boasts more than 200,000 living alumni, along with about 15,000 undergraduates populating 219 chapters and 20 \"colonies\" seeking full membership at universities. SAE has had to work hard to change recently after a string of member deaths, many blamed on the hazing of new recruits, SAE national President Bradley Cohen wrote in a message on the fraternity's website. The fraternity's website lists more than 130 chapters cited or suspended for \"health and safety incidents\" since 2010. At least 30 of the incidents involved hazing, and dozens more involved alcohol. However, the list is missing numerous incidents from recent months. Among them, according to various media outlets: Yale University banned the SAEs from campus activities last month after members allegedly tried to interfere with a sexual misconduct investigation connected to an initiation rite. Stanford University in December suspended SAE housing privileges after finding sorority members attending a fraternity function were subjected to graphic sexual content. And Johns Hopkins University in November suspended the fraternity for underage drinking. \"The media has labeled us as the 'nation's deadliest fraternity,' \" Cohen said. In 2011, for example, a student died while being coerced into excessive alcohol consumption, according to a lawsuit. SAE's previous insurer dumped the fraternity. \"As a result, we are paying Lloyd's of London the highest insurance rates in the Greek-letter world,\" Cohen said. Universities have turned down SAE's attempts to open new chapters, and the fraternity had to close 12 in 18 months over hazing incidents.\n",
            "   2  (CNN)I'm Candida Moss and I am professor of New Testament and Early Christianity at the University of Notre Dame. I was an adviser on the \"True Cross\" episode and served as one of the many on-camera experts in CNN's \"Finding Jesus\" series, which currently airs on Sundays. Viewers were invited to tweet and post their questions on the \"Finding Jesus\" Facebook page during the show. Below are some of the more interesting questions and my answers to them. My apologies to everyone I didn't get to. Feel free to tweet your questions to me directly. Herb Scribner: Can anyone explain to me what the Bible's deal is with 40 days/nights? Moss: It's more an interest in the number 40. In the Hebrew Bible the people of Israel wander in the wilderness for 40 years before they reach the Holy Land. The flood lasts for 40 days and nights; Moses spends 40 days and nights on the mountain; Goliath spends 40 days encouraging the Israelites to challenge him before David steps up; 40 is a common age for people to be when they get married; in the book of Judges it is always 40 years between judges; and David and Solomon each reigned for 40 years. What we can take away from all of this is that people in the ancient world saw 40 as suggesting a full, complete period of time. It's sort of like a narrative stock number, in the way that modern jokes follow the rule of three. Yalanda M. Price: Was there any division between the followers of Jesus and the followers of John the Baptist? Moss: One of the interesting things about the relationship between Jesus and John the Baptist is that John doesn't lay down his tools and follow Jesus after he baptizes him. Nor, it seems, did John's disciples. They had separate ministries and, while there may have been contact between the two groups, they were also de facto competitors in the ancient religious marketplace. There are some hints in the New Testament that Jesus and his followers had to differentiate themselves from John by stating that Jesus' baptism was better (Acts 11:6) and countering the idea that Jesus was actually John raised from the dead (Matthew 14:2) Some scholars argue that these references are evidence of tension between followers of Jesus and followers of John. Mark Goodacre answers your questions about the Shroud of Turin. Jeffery Graff: Can the DNA tests on the bones indicate whether he is a Jew or even whether he is of the tribe of Levi? Moss: I'm so glad someone brought up DNA. The DNA tests on the Bulgarian bones yielded only mitochondrial DNA (DNA passed down by the mother), not the more reliable nuclear DNA (the kind of DNA referred to in forensic investigations). In the original study of the Bulgarian relics (of which I was a part) the mitochondrial DNA revealed that the Bulgarian relics were of \"probable Semitic origin.\" Thinking back to my time in the laboratory with the Copenhagen scientists, I recall that the lead investigator estimated that the probability was about 75%. The episode last night stated things a little too sharply when it said that the bones were from a Middle-Eastern man. As for the more specific question about the genetics of Jews and members of the tribe of Levi: Current scientific technology does not reveal this kind of information even if start-up genetic testing companies promise this kind of information. Cyndi Rosenthal: Are there any other historical references of John the Baptist outside of the Bible? Daniel José Camacho: Any extra-biblical sources that shed light on historical figure of John the Baptist? Moss: (These questions are on a similar topic, so I've chosen to answer them together.) Actually there is external attestation for the life and importance of John the Baptist. This is important because it's fairly rare to find this kind of evidence for ancient figures outside the writings of their followers. The Jewish historian Josephus mentions John the Baptist in his book, \"The Jewish Antiquities.\" Josephus describes John as a \"good man\" who possessed \"virtue\" and had \"great influence\" over the people. According to Josephus, Herod put John the Baptist to death because he was afraid that he might raise a rebellion. This gives us another -- arguably more historical -- perspective on why John was executed and provides further evidence about just how important John was in his own day. Watch the latest full episode anytime on CNNgo . Daniel José Camacho: Wait, how did Jesus get \"Our Father\" prayer from Johnny B??? Didn't catch that. Moss: I'm also really glad someone brought this up, because I wondered about it too. In the Gospel of Luke, one of Jesus' disciples says, \"Lord, teach us to pray, as John taught his disciples.\" It's an interesting request that tells us something about John the Baptist's ministry and the demanding characters of Jesus' disciples! In Luke, Jesus responds to this request by teaching them the Lord's Prayer. We don't know that the Lord's Prayer came from John, and personally I don't think it did; I think this is just how Luke shaped his version of events. But if you were just reading Luke you could come to that conclusion.\n",
            "   3  (CNN)Ferguson is crumbling. The cowardly and reprehensible shooting Wednesday night of two police officers came in a tumultuous seven days for the Missouri town, which had already seen Ferguson Police Chief Thomas Jackson announce his resignation after a damning Justice Department report on its police department. The report, which was ordered in the wake of the killing of Michael Brown last year, highlighted a predatory policing problem and a department that was biased, prejudiced and that has regularly targeted, arrested and fined African-Americans. Residents understandably want justice. But what's worse in all this is that Ferguson is illustrative of a broader problem across the country as increasingly militarized majority-white police departments demonstrate consistent racial bias toward majority-black communities. It's a combustible mix. In three-quarters of all U.S. cities with populations 50,000 or more, the police presence is \"disproportionately white relative to the local population,\" according to The Washington Post. And tensions are being exacerbated by the use among police departments of military weapons, and stipulations that these former war zone weapons must be used within a year of acquisition. All this suggests a need for a completely new mindset on how we try to understand and implement policing practices across America.  Indeed, a wholesale review of policies and approaches to law enforcement is needed, something that will likely necessitate drastic reforms in some departments so they can better represent, integrate, problem solve and liaise with the communities they are serving. First and foremost, our police departments must better reflect the diverse demographics of our increasingly diverse nation, whether it be race, creed, sexual orientation and more. America is changing fast, but police departments aren't keeping up. Training and recruitment of minorities is critical, yet far more needs to be taking place. With this in mind, amplifying community policing models that work and scaling them up immediately is essential if we are to stem the growing and sometimes overwhelming tide of frustration, anger and cynicism welling up among young African, Asian and Hispanic Americans. Second, we must radically rethink the trend toward the indiscriminate procurement and use of surplus military grade weaponry, which under the Department of Defense's 1033 program is flowing from battlefields to our local police forces.  When the weapons of war come home from Iraq and Afghanistan to help police America's cities and towns, then you know something has gone terribly wrong with this country. Mine-resistant ambush protected vehicles, tanks, drones, grenades and assault weapons should not replace the community policing of our Main Streets. Ferguson is an excellent example of how the deployment of heavy weaponry inflames rather than de-escalates a crisis situation. Having military equipment on our streets does not make citizens feel safer, which is why the Stop Militarizing Law Enforcement Act was recently reintroduced in Congress. We do not need our officers looking like \"Robocop\" when they patrol our streets. It's that simple. Yet until such a bill is passed, war weapons will continue to flood our streets; Congress must act to stem this tide. We understand that times have changed and that new security threats require new solutions and procedures.  But it doesn't justify the 150 raids per day by special weapons and tactics units for incidents that can be as benign as a Department of Education warrant. This kind of aggressive approach doesn't engender the kind of engagement necessary for identifying real risks lurking in a community.  In fact, the opposite happens.  Intelligence opportunities are dead on arrival, and potential allies who would otherwise be ready to help shut down immediately. Aggressive military-type action is quickly turning Americans against fellow citizens who they are ostensibly there to serve and protect. We therefore trust that President Barack Obama and Attorney General Eric Holder will take decisive action, working hand in hand with police departments all across this country. Yes, the White House's task force on police militarization was a start, but more concrete measures are needed if we want to reverse the rising anger in Ferguson and elsewhere. The time for a change is now. If we don't press our police departments to reflect the makeup and needs of our communities, then towns like Ferguson will unravel further.\n",
            "   4  Coral Gables, Florida (CNN)Former President Bill Clinton on Saturday defended his family foundation's practice of taking money from foreign countries, arguing that while he doesn't agree with all of the policies of countries that contributed, he feels the foundation has \"done a lot more good than harm.\" The Clinton Foundation admitted last month that a 2010 donation from the Algerian government was not properly approved under the guidelines the Obama administration put in place with the foundation when Hillary Clinton became secretary of state in 2009. Bill Clinton defended the donations as something that went to worthwhile projects. \"The UAE [United Arab Emirates] gave us money. Do we agree with everything they do? No. But they are helping us fight ISIS and they built a great university with NYU open to people around the world,\" Clinton said at a foundation event in Florida. \"Do I agree with all the foreign policy of Saudi Arabia? No.\" Saudi Arabia, the United Arab Emirates and Oman are among the countries that donated to the Clinton Foundation. Clinton continued: \"You've got to decide when you do this work, whether it will do more good than harm if someone helps you from another country. ... I believe we have done a lot more good than harm.\" The story became a controversy for the Clintons, one where even some Democrats questioned the practice. Hillary Clinton is the party's presidential frontrunner in 2016 and is expected to announce her presidential aspirations next month. Republicans jumped on board the story, too, using it to question the Clintons' ethics and whether, as president, she would give preferential treatment to countries that have donated to the foundation. Democrats that did publicly defend the Clintons noted that the foundation disclosed all of their donation on their website. On Saturday, Clinton did the same. \"My theory about all this is disclose everything. And then let people make their judgments,\" Clinton said. \"I'm going to tell you who gave us money and you can make your own decisions.\" Clinton concluded his defense of the foundation, stating that he thinks organizations should \"bring people together across great divides, around things that they can agree on and find something to do to make peoples lives better.\" The Clinton Foundation was founded by Bill Clinton after he left the presidency in 2001. To date, the foundation has raised over $2 billion that goes toward a wide variety of projects, including health and wellness, economic development and leveling the playing field for women and girls. Many of their projects focus on international issues, such as rebuilding Haiti after the 2010 earthquake and providing access to low-cost HIV and AIDS treatment. Those were primarily the projects backed by foreign countries. The former president's comments were the only moment any Clinton mentioned the foreign fundraising controversy. Neither Hillary or Chelsea Clinton mentioned the issue. At no point Saturday did any of the Clintons address the fact that Hillary Clinton exclusively used a private email account for the four years she served as America's top diplomat, a practice that skirted legal standards in place. The former secretary of state spent 18 minutes on stage Saturday and didn't mention question about her email, instead focusing on the foundation and a new report they will put out on women and girls participation. That didn't bother the over 1,000 overachieving millennials at the Clinton Global Initiative University meeting who couldn't have cared less about the swirling email and fundraising controversies that have defined the Clintons the last few weeks. Saturday's event is the university-focused branch of the Clinton Foundation. It brings philanthropic minded students from around the world together to talk about their projects and pitch the foundation for funding. This year brought together students looking to do a wide variety of things, from increasing women's inclusion in science and math fields to harvesting potable water from fog. In total, the foundation will hand out $900,000 to the different students. The general sense among the event attendees was: \"What controversies?\" \"I am here for me. I am here for learning, exploring, meeting new people and expanding my knowledge about nonprofit management and social change,\" said Armel Arnaud Nibasumba, a Middlebury College student born and raised in Burundi. \"I don't really care if they address those political issues that are going on.\" A few students, including Victoria Arild from Menlo College, said they hadn't heard of the controversies. \"I am here because my college, I had the privilege of them funding me,\" she said, before shrugging off questions about the email issues.\n",
            "   5  (CNN)If you haven't yet been asked by friends or co-workers to Meerkat, chances are you will soon. The livestreaming app took Austin by storm last week, with media outlets -- including CNNMoney -- calling it \"the new SXSW sweetheart,\" \"the coolest cat\" and the festival's \"big star.\" The San Francisco-based startup launched February 27 and has been adding users rapidly ever since. Even Jimmy Fallon is streaming his life using Meerkat. As part of our Instant Startups series (see the videos above), CNNMoney correspondent Laurie Segall reached out to Meerkat founder Ben Rubin with some questions. And he agreed to answer them -- on Meerkat, of course. What questions do you have about the app, SXSW or entrepreneurship? Do you dream of launching your own startup? Now is your chance to ask the experts how. Leave your questions in the comments below or ask them directly on Meerkat or Twitter at 2 p.m. ET Wednesday. What: Live chat with Meerkat's Rubin . When: Wednesday, from 2 to 2:45 p.m. ET . Where: On Meerkat and Twitter . Follow on Meerkat: @benrbn and @lauriesegallcnn . Follow on Twitter: @CNNTech . Hashtag: #CNNInstantStartups . Hope to see you there!\n",
            "   6  (CNN)Diplomacy can be dangerous. U.S. diplomats have come under attack in various places in the last few decades. Here's a look at U.S. diplomats who have been killed in the line of duty. The first U.S. ambassador assassinated while in office was John Gordon Mein, the U.S. ambassador to Guatemala. According to a telegram from the embassy in Guatemala City, a young man dressed in fatigues and carrying a sub-machine gun on  August 28, 1968, ordered Mein's vehicle to stop and for the ambassador to get out. He did, then ran -- prompting a cry of \"Shoot him, kill him.\" Mein was shot and fell to the ground about 12 yards behind his limousine. Cleo Noel Jr., the U.S. ambassador to Sudan, was nearing the end of a March 1973 reception in the Saudi Embassy in Khartoum when terrorists stormed in. The gunmen took Noel and another American, as well as diplomats from Saudi Arabia, Belgium and Jordan, according to a U.S. intelligence memo. The captors' demand: Free various people, mostly Palestinian guerillas, then imprisoned in Jordan, Israel and the United States. This spurred negotiations that didn't go anywhere, ending instead with the killing of Noel, fellow U.S. diplomat George Curtis Moore and Belgium's Charge d'Affaires. U.S. authorities say the assailants belonged to the Palestinian terrorist movement known as \"Black September,\" claiming that Palestinian leader Yasser Arafat signed off on the attack. Ambassador Rodger Davies, who had been in Cyprus for less than months, hunkered down in a hallway on August 19, 1974, hoping he was safe from those involved in a nearby demonstration. Instead, a bullet penetrated the embassy compound and struck his heart, killing him instantly. Antoinette Varnava, a 31-year-old local who was part of the small embassy staff for about a decade, also died in the violence. U.S. ambassador to Lebanon Francis Meloy, his economic counselor Robert O. Waring and their Lebanese driver disappeared in June 1976 as they crossed the Green Line, the division between Beirut's Christian and Muslim sectors. Their bullet-riddled bodies were found a short time later in mainly Muslim west Beirut, which was then controlled by PLO Chairman Yasser Arafat's guerrillas. Two former Muslim guerillas were convicted in the kidnapping and killings, only to be freed in 1996. About eight months after President Jimmy Carter appointed him as U.S. ambassador to Afghanistan, Adolph Dubs was taken from his car while heading home from the embassy. His captors took the Foreign Service veteran to the Hotel Kabul, where Dubs died in a shootout between captors and Afghan police -- a violent death that, whomever fired the fatal bullets, the U.S. State Department considers an assassination. A former eight-story hotel facing the sea transformed into America's embassy in Beirut turned into a war zone in April 1983, when a truck loaded with explosives was rammed into its entrance. The result was horrific. Offices were pancaked on top of each other, the elevator shaft and stairwell destroyed, the cafeteria full of bodies and rubble, recalled the then U.S. ambassador Robert Dillon, who himself was dug out of the rubble. While 44 people inside the embassy survived the blast, 17 Americans, 25 Foreign Service nationals, 10 contract workers and 10 visa applicants and passerby did not. In 2008, Dillon said the attack was believed to have been carried out by a family \"under the direction of members of Iran's Revolutionary Guards.\" On August 7, 1998 -- around the exact same time a bomb went off at the U.S. Embassy in Dar es Salaam, Tanzania, killing 11 -- a huge explosion tore through the U.S. Embassy in Nairobi, Kenya. The American Foreign Service Association (AFSA) lists eight people as having died in the attack on its memorial remembering Americans who died while serving the U.S. government abroad in a foreign affairs capacity.  Twelve Americans total were killed. Those are both jarring numbers, but they're still a fraction of the more than 200 people total killed in the attack, in addition to more than 4,000 wounded. In May 2001, a U.S. jury found four purported al Qaeda members guilty on all charges stemming from the embassy bombings in Kenya and Tanzania. As his wife of 34 years looked on, Laurence Foley was shot dead outside his home in Amman, Jordan, by a lone gunman in December 2002. A public servant for close to 40 years, the Boston-born Foley was serving as executive officer of the USAID mission in Amman at the time. U.S. officials were quick to label Foley's killing a murder, with the head of the AFSA calling it a \"brutal terrorist attack.\" They later implicated Iraqi-based terrorist leader Abu Musab al-Zarqawi for providing \"financial and other support to the terrorists who assassinated\" Foley. Exactly 11 years after the September 11 attacks in New York, Washington and rural Pennsylvania, terrorists struck at Americans again -- this time some 5,000 miles away in the Libyan city of Benghazi. That's where Ambassador Christopher Stevens was when mortar and rocket fire struck a U.S. diplomatic annex there. Stevens didn't survive, nor did State Department computer expert Sean Smith or Tyrone Woods and Glen Doherty, two former U.S. Navy SEALs then acting as security contractors. The attack was first portrayed as violence by an angry mob responding to a video made in the U.S. that mocked Islam and the Prophet Mohammed. But officials later determined that it was a terrorist attack. Anne Smedinghoff, a 25-year-old public diplomacy officer at the U.S. Embassy in Kabul, was delivering books to a school in southern Afghanistan when a suicide bomber smashed into her convoy. She died in that April 2013 attack, as did four others. \"We thought she was relatively safe in the embassy compound,\" her father Tom Smedinghoff told CNN. \"But as it turned out, Anne really wanted to do a lot more.\"\n",
            "   7  (CNN)Debra Milke spent 22 years on death row, convicted of conspiring with two other men to kill her son allegedly for an insurance payout. On Monday, a judge ruled that the Arizona woman is innocent and dismissed all charges against her. This makes Milke only the second woman exonerated from death row in the United States. More importantly, the judge's decision finally clears Milke after years of legal back-and-forth in a case where she steadfastly maintained her innocence. Key to the case's dismissal was prosecutorial misconduct, mainly that of a detective, Armando Saldate, who said Milke confessed to the crime to him -- even though there was no witness or recording. Prosecutors withheld from the jury Saldate's personnel record which showed instances of misconduct in other cases, including lying under oath. The two men with whom Milke was accused of conspiring were tried separately and are still on death row. A day after seeing Santa Claus at a mall on December 1, 1989, young Christopher Milke asked his mother if he could go again. Milke's roomate, James Styers, took the boy; then called Milke saying Christopher had disappeared. Instead, Styers and a friend drove the boy out of town to a secluded ravine where Styers shot Christopher three times in the head, prosecutors said. Styers and the friend were convicted of murder and sentenced to death. Milke was implicated based on alleged testimony from Styer's friend, Roger Scott. The detective, Saldate, said Scott told him that Milke was involved in a plot to kill her son. And during her trial, prosecutors floated a likely motive: A $5,000 life insurance policy she had taken out on the child. But neither Scott nor Styers testified to a plot in court. No other witnesses or direct evidence linked Milke to the crime other than Saldate's testimony. Saldate further said that Milke confessed to her role in the murder plot during interrogation and said it was a \"bad judgment call.\" There was no recording of the interrogation, no one else was in the room or watching from a two-way mirror, and Saldate said he threw away his notes shortly after completing his report. Milke offered a vastly different view of the interrogation and denied that she had confessed to any role. The trial became a he-said/she-said contest between the two. Ultimately, the jury believed the detective and convicted Milke of murder. What prosecutors didn't tell the court was the detective's long history of lying under oath and misconduct. Saldate had been suspended five days for taking \"liberties\" with a female motorist and lying about it to his supervisors. Four confessions or indictments had been tossed out because Saldate had lied under oath. Judges suppressed or vacated four other confessions because Saldate had violated a person's constitutional rights. In 2013, after more than 20 years in jail, an appeals court overturned Milke's conviction. \"The Constitution requires a fair trial,\" Chief Judge Alex Kozinski of the federal 9th Circuit Court of Appeals wrote. \"This never happened in Milke's case.\" \"The state knew of the evidence in the personnel file and had an obligation to produce the documents,\" Kozinski said. \"... There can be no doubt that the state failed in its constitutional obligation.\" Milke was released on bail, and the court said she couldn't be tried again. The state appealed the decision to the Arizona Supreme Court. Last week, the Arizona Supreme Court refused to hear the appeal. And on Monday, all charges against Milke were finally dropped. The ankle bracelet she had been wearing while on bail was removed. And Milke left the court room, sobbing in relief. The case is now closed. Debra Milke is finally a free woman.\n",
            "   8  (CNN)A British military health care worker in Sierra Leone has tested positive for Ebola, a UK health agency said. Medical experts are assessing what to do next, including whether or not the evacuate the infected individual to the United Kingdom for treatment, according to a Public Health England spokesperson. An Ebola outbreak has devastated parts of West Africa, with Sierra Leone, Guinea and Liberia being the hardest hit nations. The vast majority of the more than 24,000 confirmed, reportable and suspected cases, as well as the nearly 10,000 reported deaths, have been in those three countries, the World Health Organization reports. In some cases, citizens of other nations have come down with the deadly disease while working there -- as, apparently, is true for the UK military heath care worker whose diagnosis was announced Wednesday. Authorities are investigating how this person was exposed to the virus and tracing individuals in recent contact with the diagnosed worker, said the Public Health England spokesperson. \"Any individuals identified as having had close contact will be assessed and a clinical decision made regarding bringing them to the UK,\" the spokesperson said. Pauline Cafferkey, the first person diagnosed with Ebola in the United Kingdom, was discharged from London's Royal Free Hospital in January after battling the virus. She is a public health nurse in Scotland's South Lanarkshire area who was part of a 30-strong team of medical volunteers deployed to West Africa by the UK government last month in a joint endeavor with Save the Children, according to British media outlets.\n",
            "   9  Baghdad, Iraq (CNN)Iraqi forces appeared Wednesday to be making progress on the third day of a major offensive intended to push ISIS fighters out of the city of Tikrit. The Iraqi soldiers are reportedly approaching the city from five directions, as they seek to prevent ISIS militants from either escaping from Tikrit or sending in reinforcements to bolster its defense. The operation is part of a wide-scale offensive to retake Tikrit and Salahuddin province ordered by Iraqi Prime Minister Haider al-Abadi on Sunday. It has highlighted the role played by neighboring Iran in the fight against ISIS, at a time when the United States and five other world powers are negotiating with Tehran on a controversial deal to curb its nuclear program. The semiofficial Iranian FARS news agency reports that Qassim Sulaimani, the commander of the elite Iranian Al-Quds Brigade, is helping oversee the operation to retake Tikrit. Iran has provided advisers, weapons and ammunition to the Iraqi government. According to the Pentagon, there may be Iranians operating heavy artillery and rocket launchers as well. Despite the reported Iranian assistance, the Iraqi forces face no easy task as they seek to advance on Tikrit. Besides the direct threat posed by ISIS fighters, they must also avoid the large numbers of homemade bombs that litter the approaches to the city. Iraq has not asked the U.S.-led coalition against ISIS to provide air cover for the operation to retake Tikrit. ISIS released a number of propaganda images Wednesday, showing several vehicles and dozens of ISIS militants with their weapons, which it said were part of a military reinforcement of Salahuddin province. CNN cannot independently confirm the authenticity of the photographs. How the U.S. and Iran found common interests . Why battle for Tikrit will defeat ISIS . Tikrit fell to ISIS in June of 2014, after the group's capture of Iraq's second-largest city, Mosul. Tikrit is best known to Westerners as the birthplace of former Iraqi dictator Saddam Hussein. ISIS, the radical Sunni militant group, has been on a murderous campaign to establish a caliphate across swaths of Iraq and Syria. On Monday, Iraqi forces approached Tikrit from several fronts, Iraqiya TV reported, engaging with ISIS north of the city at al-Alam and south of the city at al-Dour. The element of surprise probably was not a factor, as reports of Iraqi troops amassing near Tikrit were widely shared. What awaits the Iraqi army is most likely a long, hard slog and not a quick rout. Tikrit is a big city, and the army and its associated militias have had problems recapturing much smaller towns from ISIS. There have been several failed attempts to recapture Tikrit since the second half of 2014. While Iraqi forces have gained some territory in the area, it has generally been under ISIS control for the last eight months or so. Prime Minister al-Abadi, who is also commander in chief of the armed forces, said on Twitter that he would \"oversee the operation to liberate Tikrit\" from ISIS. The joint Iraqi forces fighting to retake Tikrit include Iraqi troops, members of the Shia al-Hashed al-Shaabi militia, members of the Sunni Sons of Salahuddin brigades and other Sunni tribal fighters. The offensive involves around 30,000 fighters in all. Rights group Human Rights Watch on Wednesday urged government forces to protect civilians from revenge attacks by pro-government militias as they fight to retake Tikrit. The rights group said it had documented \"numerous atrocities against Sunni civilians by pro-government militias and security forces\" after they recaptured other towns. Human Rights Watch also warned that ISIS could seek to use civilians as human shields. \"All commanders in Tikrit need to make sure that their forces protect civilians and allow them to flee the combat zone,\" said Joe Stork, the group's deputy Middle East and North Africa director. \"Past fighting raises grave concerns that Tikrit's civilians are at serious risk from both ISIS and government forces, and both sides need to protect civilians from more sectarian slaughter.\" CNN's Ben Wedeman reported from Baghdad and Laura Smith-Spark wrote in London. CNN's Mariano Castillo and Mohammed Tawfeeq contributed to this report.\n",
            "  10  (CNN)The gift of an inquiring mind can be both exhilarating and torturous. My job is to ask tough questions, but when it comes to faith, God, and religion, the more questions I ask in my quest for truth and understanding, the more complex the answers become. I was a bit of a rebellious child. My mom might tell you differently, but I never saw that as a bad trait. I felt that if I questioned authority, fought for the underdog, battled for the things that people told me were impossible, I would be different. Change the world maybe. That same rebellious spirit also led to things that definitely were not good for me, like hanging with the wrong crowd and getting into the type of trouble that I would rather not put in print. That's when I \"found God.\" I became a \"born-again\" Christian when I attended a Young Life camp in high school. My home life wasn't exactly going swimmingly, and this group really embraced me. I loved the Christian notion of community, giving back, praying for others and making friends that cared more about doing good than getting drunk, smoking pot and having sex. I opened my arms to Jesus and fully embraced Christian morals and principles. I decided that I was going to be \"that good girl\" and go on to do great things. I started off at Westmont, a beautiful Christian college nestled in the heart of Santa Barbara, California. What a safe place that was. It was also extremely nurturing. The professors dedicated bountiful amounts of time to our individual spiritual development, and regularly prayed with us.  My peer group was all about what ministry you signed up for, not what sorority you were rushing. We lifted each other up, had intimate sunrise Bible studies on the beach and spent hours hanging out with friends, talking about how to lead a godly life. As glorious and fulfilling as all that appeared, two years into college, the world became much larger to me. More complex, diverse, intellectually and spiritually challenging. It became the world of church, religion and faith versus the world of ideas, cultures, and philosophies. I found myself more drawn to Carl Jung than the book of Corinthians. A good friend gave me a book, The Myth of Certainty. It posed these questions: . \"Do you ever feel somewhat schizophrenic about the relationship of your faith to the rest of your life? Do you find yourself compartmentalizing different aspects so that tensions between them are minimized?\" The answer to all of these for me was: yes. I started to read a lot. I wanted to mesh with a myriad of thinkers, and religious scholars. I needed to make a change. I left Westmont after my sophomore year and transferred to USC's School of Journalism. I discovered I had too many questions about faith to pursue a life of ministry, but I felt good about this transition. To me, it made perfect sense, because like ministers, true journalists love people, listen well and want to make a difference within this universe. Meet the friendly atheists next door . The key difference is, in journalism, if we gather the \"facts,\" we can usually find the answers to what we're looking for.  When it comes to God, Jesus and the Holy Spirit, those answers rest in faith. As a journalist, I seek intellectual certainty. When it came to my faith, I felt intellectually embarrassed. There was so much I just couldn't explain. When I started working on a documentary about the growth of atheism, I found myself in a profound place of reflection.  In the days when I thought I was going to pursue a life of ministry, I experienced and felt many things that were unexplainable.  What was that?  God?  A higher power?  Energy?  Or just good karma for trying to lead such a generous and selfless life?  There is no way to know. My stepfather, who grew up in -- but later left -- the Mormon church has a perspective on religion that I find intriguing.  He doesn't believe in a God with a long white beard and flowing robes who sits upon a cloud guiding our daily lives.  That concept is too abstract. But while he may not embrace \"God-liness,\" he does believe in \"Good-liness.\"  God, he told me in one of our many colorful spiritual discussions, is the \"good\" in humankind. He and I definitely agree that the concept of God should not be dismissed as having no meaning. To the contrary, it has a very important meaning, for it refers in symbolic language to the highest dimension of human existence, our spirituality. After years of spiritual reflection and inquiry, I am at a place where I don't want to feel guilty, hypocritical, judgmental, closed-minded or arrogant.  So, where do I stand now -- 30 years after \"finding God,\" questioning my faith, committing sins, seeking hazardous adventure and trying to love life and people to the best of my ability? I am a \"seeker.\" A constant seeker within this world, among people and, of course, for spiritual enlightenment of all kind. Because if I did possess the truth -- the \"final answer\" --  I am convinced I would spend the rest of my years missing out on the enrichment and surprise of seeking it. I guess I just love my exhilarating and torturous life.\n",
            "  11  March 3, 2015 . You may not be familiar with the city of Tikrit, but what's happening there now could be a sign of things to come in the war against ISIS. You may not know the name Steve Fossett, but today marks a significant anniversary of one of the adventurer's records. And you may not know how many times glass can be recycled, but we'll tell you on today's edition of CNN Student News. On this page you will find today's show Transcript and a place for you to request to be on the CNN Student News Roll Call. TRANSCRIPT . Click here to access the transcript of today's CNN Student News program. Please note that there may be a delay between the time when the video is available and when the transcript is published. CNN Student News is created by a team of journalists who consider the Common Core State Standards, national standards in different subject areas, and state standards when producing the show. ROLL CALL . For a chance to be mentioned on the next CNN Student News, comment on the bottom of this page with your school name, mascot, city and state. We will be selecting schools from the comments of the previous show. You must be a teacher or a student age 13 or older to request a mention on the CNN Student News Roll Call! Thank you for using CNN Student News!\n",
            "  12  (CNN)Incumbent Goodluck Jonathan phoned former military leader Muhammadu Buhari on Tuesday to concede defeat in Nigeria's presidential elections, Buhari's party says. Jonathan acknowledged the phone call and his defeat in a written statement to his countrymen. \"I thank all Nigerians once again for the great opportunity I was given to lead this country and assure you that I will continue to do my best at the helm of national affairs until the end of my tenure,\" he said. The Independent National Electoral Commission is still announcing the final tally in the polls, but early numbers indicate Buhari, now the President-elect, has an overwhelming majority of votes. Buhari ruled Nigeria from late 1983 until August 1985 after ousting his predecessor in a coup. His 20-month rule was known for what he described as a \"war on indiscipline,\" a tough regime that some say was marred by human rights abuses. The 72-year-old  retired major general's experience as a military ruler has variably been viewed as a plus or minus in present-day Nigeria, where the government has been locked in a deadly battle with the militant group Boko Haram. His campaign has focused on security and ending corruption in Nigeria. Read more: Who is Nigeria's Muhammadu Buhari? Violent protests after elections Saturday sparked calls for calm from the two main candidates and a warning by the United States and Britain against political interference. Demonstrators fired gunshots and torched a local electoral office in Nigeria's oil-rich Rivers state on Sunday as they marched to protest the elections amid claims of vote-rigging and voter intimidation. After the protests in Rivers, Buhari's All Progressives Congress demanded the elections there be canceled. \"There's been so much violence in Rivers state that it's just not tenable,\" party spokesman Lai Mohammed said. But the People's Democratic Party disputed the accusation, saying the election was \"credible and the result reflects the overwhelming wish of the people of Rivers state to support President Goodluck Jonathan.\" Both candidates took to social media to call for calm. \"I want to urge all Nigerians to also wait patiently for the Independent National Electoral Commission, INEC, to collate and announce results,\" Jonathan said on his Facebook account. \"Fellow Nigerians, I urge you to exercise patience and vigilance as we wait for all results to be announced,\" Buhari said on Twitter. Jonathan and  Buhari last week issued a pledge reaffirming their commitment to \"free, fair and credible elections\" after their signing of  the Abuja Accord in January. In his statement Tuesday, Jonathan said; \"I promised the country free and fair elections. I have kept my word.\" He advised anyone upset with the results to follow due process and stay away from further violence. \"As I have always affirmed, nobody's ambition is worth the blood of any Nigerian. The unity, stability and progress of our dear country is more important than anything else,\" he said. Read more: Democracy was the real winner . More than 800 people were killed in post-election violence across Nigeria's north in 2011 after charges that those elections were illegitimate. Nigeria's vote had been scheduled for February 14, but on February 7, Nigeria's election commission announced it would be postponed for six weeks because of security concerns, with the military needing more time to secure areas controlled by Boko Haram. The controversial decision was unpopular among many Nigerians and led to widespread protests. Jonathan has been criticized for not doing enough to combat Boko Haram, which is waging a campaign of terror aimed at instituting a stricter version of Sharia law in Nigeria. On Saturday, residents in the northeastern state of Gombe said at least 11 people were killed and two more injured in attacks at polling stations, apparently by Boko Haram extremists. CNN's Christian Purefoy reported from Lagos, Nigeria, while CNN's Susannah Cullinane and Stephanie Busari wrote from London.\n",
            "  13  (CNN)Wildlife services in California are being pushed to their limits this year. Since January 2015, every month has set a record in sea lion \"strandings,\" mostly sea lion pups, according to the National Oceanic and Atmospheric Administration. \"There has been an unusually high number of sea lions stranded since January,\" said Justin Greenman, assistant stranding coordinator for NOAA on the West Coast. \"Stranding does happen, but just to give you perspective, 1,800 [sea lion] pups have been responded to this year alone. We responded to 1,600 strandings total during the entire year in 2013,\" he said. Stranding is the official term to describe marine life that \"swim or float into shore and become beached or stuck,\" according to NOAA. Strandings are taking a toll on the resources available in coastal counties from San Diego to Santa Barbara. Local care facilities have taken in more stranded sea lions this year than 2004-12 combined, and it is only mid-March. Greenman said he expects the problem to continue beyond April, when weaning normally occurs, when the pups are 10 or 11 months old. Dave Koontz, director of communications for SeaWorld San Diego, said SeaWorld has rescued nearly 500 sea lions this year. \"This is a new record for Sea World,\" Koontz said. \"In 1983 we rescued 474.\" Some of the sea lions responded to have had to be euthanized. \"They [sea lion pups] have to be able to eat and fish on their own before they can be released back into the wild, and a lot of these pups haven't even been weaned,\" Greenman said. Greenman said California has had warmer weather than usual this year, and, while NOAA is still conducting studies on the Channel Islands to get a more proven explanation, warmer water drives the food source farther out or deeper into the ocean, where the colder water is. When food is farther away, the mothers are away from the pup too long in search of food, and return with little food or too few nutrients for a growing sea lion. \"We have been seeing emaciated or dehydrated sea lions show up on beaches,\" Greenman said. However, he said, the species has made a comeback since the Marine Mammal Protection Act of 1972. California's sea lion population has grown to 300,000 from an estimated population of 10,000 in the 1950s, according to the Washington Department of Fish & Wildlife. People who observe stranded sea lions are advised not to touch them or attempt to rescue them, because it can be dangerous and it is illegal. Instead, call any of the rescue agencies listed on NOAA West Coast Region's website. If the animal has died, the local dead animal pickup service should be alerted.\n",
            "  14  (CNN)Germanwings co-pilot Andreas Lubitz was hiding an illness from his employers and had been declared \"unfit to work\" by a doctor, according to German authorities investigating what could have prompted the seemingly competent and stable pilot to steer his jetliner into a French mountain. Investigators found a letter in the waste bin of his Dusseldorf, Germany, apartment saying that Lubitz, 27, wasn't fit to do his job, city prosecutor Christoph Kumpa said Friday. The note, Kumpa said, had been \"slashed.\" Just what was ailing Lubitz hasn't been revealed. The New York Times and the Wall Street Journal, citing unnamed sources, reported Friday that Lubitz suffered from mental illness and kept his diagnosis concealed from his employer. A Dusseldorf clinic said he'd gone there twice, most recently 17 days ago, \"concerning a diagnosis.\" But the University Clinic said it had not treated Lubitz for depression. German investigators said they still have interviews and other work to do before they'll be able to reveal just what they found in the records in Lubitz's apartment in a quiet, suburban neighborhood. They found no goodbye note or confession, authorities said. But the fact that investigators found \"ripped, recent medical leave notes, including for the day of the offense, leads to the preliminary conclusion that the deceased kept his illness secret from his employer and his professional environment,\" prosecutors said. Authorities left Lubitz's apartment  Friday night with boxes of papers and evidence folders after spending about 90 minutes inside. According to authorities in Germany and France, Lubitz was a co-pilot on Germanwings Flight 9525 between Barcelona, Spain, and Dusseldorf on Tuesday when he apparently locked the captain out of the cockpit, then activated a control causing the plane to descend toward rugged terrain. Germanwings said the plane dropped for about eight minutes from its cruising altitude of 38,000 feet before crashing. The only sounds, authorities said, were those of pounding on the cockpit door, Lubitz's steady breathing and, eventually, screaming passengers. An 8-minute descent to death . Lubitz and 149 other people on board the plane died in an instant, authorities say. Mother, daughter among 3 American victims . What could have prompted Lubitz to deliberately destroy the aircraft, killing everyone on board, remained the focus of investigators in Germany. Officials said Lubitz was not known to be on any terrorism list, and his religion was not immediately known. He had passed medical and psychological testing when he was hired in 2013, said Carsten Spohr, CEO of Lufthansa, which owns Germanwings. While the ailment Lubitz had sought treatment for hasn't been revealed, that he was declared unfit for work is an important detail, aviation analysts say. Pilots are required to maintain their fitness to fly and must tell their airline if they're found unfit, CNN aviation analyst David Soucie said. Reuters reported that a German newspaper said Lubitz had been treated for depression about six years ago. Citing internal documents forwarded by Lufthansa to German authorities, Bild reported that Lubitz had suffered a \"serious depressive episode\" around the time he took a break from his pilot training in 2009, Reuters reported. The Bild report said he then spent about 18 months getting psychiatric treatment.  Lufthansa officials and German prosecutors declined to comment on the Bild story, Reuters said. Who was co-pilot Andreas Lubitz? Although authorities have recovered the cockpit voice recorder, the flight data recorder remains missing. It could shed crucial details about what happened inside the cockpit, authorities say. Rescuers have found bodies at the rugged crash site, but few of them are intact, Yves Naffrechoux, captain of rescue operations at Seyne-les-Alpes, told CNN. Dangerous and windy condition at the remote site, which covers more than a square mile, are hampering efforts to recover bodies and evidence, he said. Officials with experience traversing the French Alps are helping technicians who don't have alpine skills, he said. \"Since they don't know the mountains, you need to provide them with equipment, you need to hold them with rope, give them crampons so they can work well and as precisely as possible, so that no evidence, no body part could escape their vigilance,\" Naffrechoux said. Workers are now looking into the possibility of building a road to the site, Naffrechoux said. Recovery teams have made good progress, a French senior paramilitary police official told CNN. Gendarmerie Lt. Col. Jean-Paul Bloy, who is coordinating the helicopter operations for the crash site, said there will be two aircraft deployed over the scene Saturday. There were five on Friday, Bloy said. As that difficult work continued, relatives and friends of the victims traveled on Lufthansa flights to an area near the site where their loved ones perished. They held prayers in Le Vernet, near Seyne-les-Alpes, a village serving as a staging post for the recovery operation. Flowers and pictures sat on the ground, candles flickering in the cold air. Germanwings said it was setting up a family assistance center in Marseille, France, with family briefings to start Saturday. Another flight carrying victims' relatives was due to arrive in Marseille from Barcelona on Friday. \"Our focus in these darkest hours is to provide psychological assistance to the families and friends of the victims,\" said Thomas Winkelmann, a spokesman for the Germanwings executive board. It could be weeks before all the bodies are recovered, identified and released to the families, authorities said. Meanwhile, the European Aviation Safety Agency issued a temporary recommendation that cockpits always be staffed by at least two crew members. \"While we are still mourning the victims, all our efforts focus on improving the safety and security of passengers and crews,\" the agency's director, Patrick Ky, said in a statement. Lufthansa and other German airlines have already adopted the rule, the airline said. An official with the German Aviation Association told CNN that it was only a matter of hours, or a day at most, for this rule to be implemented across all big German airlines. A pilot aboard a Germanwings flight Friday morning spoke out at the beginning of the trip to \"reassure passengers that there will be two people present in the cockpit at all times.\" Lufthansa will now keep two crew members in cockpits . CNN's Catherine E. Shoichet, Greg Botelho, Claudia Rebaza, Frederik Pleitgen, Nic Robertson, Margot Haddad, Stephanie Halasz, Khushbu Shah, Bharati Naik, Ingrid Formanek, Sandrine Amiel, Rosie Tomkins, Will Ripley and Anna Maja Rappard contributed to this report.\n",
            "  15  (CNN)I was deeply moved watching Julianne Moore win the Oscar for \"Still Alice,\" a movie I was proud and privileged to be an executive producer on. Julianne gives a harrowing performance as a brilliant 50-year-old college professor who loses her brain and herself to early-onset Alzheimer's disease. This is a huge moment for Julianne -- and a huge moment for all of us who have been trying to focus public attention on this staggering disease. Witnessing Alzheimer's progress on the big screen is as terrifying as it is in real life. I know, because I'm a child of Alzheimer's. The mind of my father, Sargent Shriver, had always been a finely tuned instrument that left people in awe and inspired. But my family and I watched Alzheimer's erase that brain -- slowly, inexorably, completely. It was terrifying, too, because back then, the disease was surrounded by shame and silence. Alzheimer's still carries a stigma of the unknown -- even though today more than 5 million Americans have it. That's right. Every 67 seconds, another one of us develops Alzheimer's. Women in their 60s are about twice as likely to develop Alzheimer's as breast cancer. With 10,000 baby boomers turning 65 every day, there will be 13.5 million of us with Alzheimer's by 2050. And many people don't understand that Alzheimer's isn't a natural part of aging. Alzheimer's is a disease that kills. The truth is, we're right in the middle of an epidemic, but we as a nation are in denial. An Oscar for \"Still Alice\" is shining the brightest light yet on Alzheimer's, but light isn't enough anymore. Attention isn't enough. It's time to get serious. Alzheimer's is exerting a powerful impact on American families -- on our health, our finances, and our futures. And women are disproportionately affected. Why women? Back in 2010, when we published \"The Shriver Report: A Woman's Nation Takes on Alzheimer's,\" we reported that women were more than half the individuals diagnosed with Alzheimer's and nearly two-thirds of the unpaid caregivers of those who had it. Now those numbers are far worse. Today nearly two-thirds of those with Alzheimer's are women -- that's more than 3.2 million women. And more than 60% of caregivers for people with Alzheimer's and dementia are women, with many having to reduce their own workload or even drop out of the workforce altogether to care for loved ones. Opinion: Why 'Still Alice' is about you . Women are the epicenter of this crisis, which is why I believe they also have to be the solution. So, in partnership with the Alzheimer's Association and so many inspiring women already working on the front lines to fight this disease, we have launched the Wipe Out Alzheimer's Challenge, a multipronged campaign powered by women's brains. Our mission is to enlist women of all ages to get educated, engaged and empowered to instigate change.   Women around the country will go out and raise the alarm, raise awareness, raise the stakes and raise millions of dollars to fund serious research into women's brains. And there's so much research to do and so many questions to answer. Why is the incidence of Alzheimer's higher for women? Nobody knows. And why is it that women in their 60s are so much more likely to get Alzheimer's than breast cancer? Nobody knows. What's the exact role of estrogen? We don't know. Is there an Alzheimer's connection with depression or with diabetes? What about genetics? What can be done during the 20 or so years when the disease develops, before a woman even becomes symptomatic? What's the impact of diet, stress level, exercise, sleep and cardiovascular condition? It's time to find out. We have to fund this research, because for some reason it's not a priority for the government. In 2015, Washington will spend an estimated $6 billion on cancer research and $3 billion on HIV/AIDS research, but only $586 million on Alzheimer's. Yet, as the Alzheimer's Association tells us, \"the costs to all payers for the care of people living with Alzheimer's disease and other dementias will total an estimated $226 billion, with Medicare and Medicaid paying 68 percent of the costs.\" I don't get it, but I'm not going to wait anymore. So Wipe Out Alzheimer's is stepping in. We're asking women to put together their own \"brain trusts\" in their communities -- groups that will go out and do some muscular fund-raising. But equally important, these brain trusts will gather to discuss and disseminate information about what the disease is and isn't. What are the warning signs we should look for in ourselves and our parents? What's the difference between normal forgetfulness, dementia and Alzheimer's disease? Can brain games or meditation slow cognitive decline? Do dietary supplements help? Local brain trust groups will also learn about the devastatingly high cost of Alzheimer's -- how neither Medicare nor the Affordable Care Act covers long-term care, and the cost of a semiprivate nursing home room averages more than $80,000 a year. They'll reach out to help and encourage women whose loved ones have Alzheimer's. They will be politically engaged and encourage political candidates who support increased funding for Alzheimer's research. They'll push their own doctors to get better-educated about cognitive health. It's time for the narrative around Alzheimer's to change. I remember when an HIV/AIDS diagnosis was a death sentence. I remember when cancer was a dirty word, and the prognosis was always grim. But AIDS and cancer activists are helping to take these diseases from terrifying to treatable, from hopeless to hopeful. We want to do the same with Alzheimer's. We want to understand it, prevent it, treat it and beat it.  Wipe Out Alzheimer's is creating a global community of women activists, agitators and agents of change to do just that. We used to think that the mysterious condition called Alzheimer's disease happened only to folks in their 80s and 90s. \"Still Alice\" shows us that's just not true. The race for the Oscar may be over, but the race to wipe out Alzheimer's is on.\n"
          ]
        }
      ]
    },
    {
      "cell_type": "code",
      "metadata": {
        "id": "dLiP9Q5QWg-A"
      },
      "source": [
        ""
      ],
      "execution_count": null,
      "outputs": []
    }
  ]
}