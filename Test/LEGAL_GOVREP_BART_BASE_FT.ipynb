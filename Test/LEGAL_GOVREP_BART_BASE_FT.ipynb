{
  "nbformat": 4,
  "nbformat_minor": 0,
  "metadata": {
    "accelerator": "GPU",
    "colab": {
      "name": "LEGAL_GOVREP_BART_BASE_FT.ipynb",
      "provenance": [],
      "collapsed_sections": [],
      "machine_shape": "hm"
    },
    "kernelspec": {
      "display_name": "Python 3",
      "name": "python3"
    },
    "widgets": {
      "application/vnd.jupyter.widget-state+json": {
        "275400ea60d847bd98497dc103c0e851": {
          "model_module": "@jupyter-widgets/controls",
          "model_name": "HBoxModel",
          "model_module_version": "1.5.0",
          "state": {
            "_dom_classes": [],
            "_model_module": "@jupyter-widgets/controls",
            "_model_module_version": "1.5.0",
            "_model_name": "HBoxModel",
            "_view_count": null,
            "_view_module": "@jupyter-widgets/controls",
            "_view_module_version": "1.5.0",
            "_view_name": "HBoxView",
            "box_style": "",
            "children": [
              "IPY_MODEL_f43d7c6273cb4cc5928daa7286e1bb65",
              "IPY_MODEL_b176725533914c2e9457ea24d7b6bd8b",
              "IPY_MODEL_4dd68754a81242b8a9a763d1fef74824"
            ],
            "layout": "IPY_MODEL_ad6c63d885d8474d8da51e9c81fd0caa"
          }
        },
        "f43d7c6273cb4cc5928daa7286e1bb65": {
          "model_module": "@jupyter-widgets/controls",
          "model_name": "HTMLModel",
          "model_module_version": "1.5.0",
          "state": {
            "_dom_classes": [],
            "_model_module": "@jupyter-widgets/controls",
            "_model_module_version": "1.5.0",
            "_model_name": "HTMLModel",
            "_view_count": null,
            "_view_module": "@jupyter-widgets/controls",
            "_view_module_version": "1.5.0",
            "_view_name": "HTMLView",
            "description": "",
            "description_tooltip": null,
            "layout": "IPY_MODEL_f372e7ad40c24e77a8324cd6116e8bf4",
            "placeholder": "​",
            "style": "IPY_MODEL_f28a3edc9faf489b8b736df8cb6cda2a",
            "value": "100%"
          }
        },
        "b176725533914c2e9457ea24d7b6bd8b": {
          "model_module": "@jupyter-widgets/controls",
          "model_name": "FloatProgressModel",
          "model_module_version": "1.5.0",
          "state": {
            "_dom_classes": [],
            "_model_module": "@jupyter-widgets/controls",
            "_model_module_version": "1.5.0",
            "_model_name": "FloatProgressModel",
            "_view_count": null,
            "_view_module": "@jupyter-widgets/controls",
            "_view_module_version": "1.5.0",
            "_view_name": "ProgressView",
            "bar_style": "success",
            "description": "",
            "description_tooltip": null,
            "layout": "IPY_MODEL_e4ca46d59f2c45f79fb4bbf512f29d6f",
            "max": 1,
            "min": 0,
            "orientation": "horizontal",
            "style": "IPY_MODEL_38371c50784c4f6fb6b54872d9ef2bf4",
            "value": 1
          }
        },
        "4dd68754a81242b8a9a763d1fef74824": {
          "model_module": "@jupyter-widgets/controls",
          "model_name": "HTMLModel",
          "model_module_version": "1.5.0",
          "state": {
            "_dom_classes": [],
            "_model_module": "@jupyter-widgets/controls",
            "_model_module_version": "1.5.0",
            "_model_name": "HTMLModel",
            "_view_count": null,
            "_view_module": "@jupyter-widgets/controls",
            "_view_module_version": "1.5.0",
            "_view_name": "HTMLView",
            "description": "",
            "description_tooltip": null,
            "layout": "IPY_MODEL_b6afd0feeca64bf886d3740721c120ac",
            "placeholder": "​",
            "style": "IPY_MODEL_d5cbea23bfd144959b1ca8f5f0a8a259",
            "value": " 1/1 [00:14&lt;00:00, 14.91s/ba]"
          }
        },
        "ad6c63d885d8474d8da51e9c81fd0caa": {
          "model_module": "@jupyter-widgets/base",
          "model_name": "LayoutModel",
          "model_module_version": "1.2.0",
          "state": {
            "_model_module": "@jupyter-widgets/base",
            "_model_module_version": "1.2.0",
            "_model_name": "LayoutModel",
            "_view_count": null,
            "_view_module": "@jupyter-widgets/base",
            "_view_module_version": "1.2.0",
            "_view_name": "LayoutView",
            "align_content": null,
            "align_items": null,
            "align_self": null,
            "border": null,
            "bottom": null,
            "display": null,
            "flex": null,
            "flex_flow": null,
            "grid_area": null,
            "grid_auto_columns": null,
            "grid_auto_flow": null,
            "grid_auto_rows": null,
            "grid_column": null,
            "grid_gap": null,
            "grid_row": null,
            "grid_template_areas": null,
            "grid_template_columns": null,
            "grid_template_rows": null,
            "height": null,
            "justify_content": null,
            "justify_items": null,
            "left": null,
            "margin": null,
            "max_height": null,
            "max_width": null,
            "min_height": null,
            "min_width": null,
            "object_fit": null,
            "object_position": null,
            "order": null,
            "overflow": null,
            "overflow_x": null,
            "overflow_y": null,
            "padding": null,
            "right": null,
            "top": null,
            "visibility": null,
            "width": null
          }
        },
        "f372e7ad40c24e77a8324cd6116e8bf4": {
          "model_module": "@jupyter-widgets/base",
          "model_name": "LayoutModel",
          "model_module_version": "1.2.0",
          "state": {
            "_model_module": "@jupyter-widgets/base",
            "_model_module_version": "1.2.0",
            "_model_name": "LayoutModel",
            "_view_count": null,
            "_view_module": "@jupyter-widgets/base",
            "_view_module_version": "1.2.0",
            "_view_name": "LayoutView",
            "align_content": null,
            "align_items": null,
            "align_self": null,
            "border": null,
            "bottom": null,
            "display": null,
            "flex": null,
            "flex_flow": null,
            "grid_area": null,
            "grid_auto_columns": null,
            "grid_auto_flow": null,
            "grid_auto_rows": null,
            "grid_column": null,
            "grid_gap": null,
            "grid_row": null,
            "grid_template_areas": null,
            "grid_template_columns": null,
            "grid_template_rows": null,
            "height": null,
            "justify_content": null,
            "justify_items": null,
            "left": null,
            "margin": null,
            "max_height": null,
            "max_width": null,
            "min_height": null,
            "min_width": null,
            "object_fit": null,
            "object_position": null,
            "order": null,
            "overflow": null,
            "overflow_x": null,
            "overflow_y": null,
            "padding": null,
            "right": null,
            "top": null,
            "visibility": null,
            "width": null
          }
        },
        "f28a3edc9faf489b8b736df8cb6cda2a": {
          "model_module": "@jupyter-widgets/controls",
          "model_name": "DescriptionStyleModel",
          "model_module_version": "1.5.0",
          "state": {
            "_model_module": "@jupyter-widgets/controls",
            "_model_module_version": "1.5.0",
            "_model_name": "DescriptionStyleModel",
            "_view_count": null,
            "_view_module": "@jupyter-widgets/base",
            "_view_module_version": "1.2.0",
            "_view_name": "StyleView",
            "description_width": ""
          }
        },
        "e4ca46d59f2c45f79fb4bbf512f29d6f": {
          "model_module": "@jupyter-widgets/base",
          "model_name": "LayoutModel",
          "model_module_version": "1.2.0",
          "state": {
            "_model_module": "@jupyter-widgets/base",
            "_model_module_version": "1.2.0",
            "_model_name": "LayoutModel",
            "_view_count": null,
            "_view_module": "@jupyter-widgets/base",
            "_view_module_version": "1.2.0",
            "_view_name": "LayoutView",
            "align_content": null,
            "align_items": null,
            "align_self": null,
            "border": null,
            "bottom": null,
            "display": null,
            "flex": null,
            "flex_flow": null,
            "grid_area": null,
            "grid_auto_columns": null,
            "grid_auto_flow": null,
            "grid_auto_rows": null,
            "grid_column": null,
            "grid_gap": null,
            "grid_row": null,
            "grid_template_areas": null,
            "grid_template_columns": null,
            "grid_template_rows": null,
            "height": null,
            "justify_content": null,
            "justify_items": null,
            "left": null,
            "margin": null,
            "max_height": null,
            "max_width": null,
            "min_height": null,
            "min_width": null,
            "object_fit": null,
            "object_position": null,
            "order": null,
            "overflow": null,
            "overflow_x": null,
            "overflow_y": null,
            "padding": null,
            "right": null,
            "top": null,
            "visibility": null,
            "width": null
          }
        },
        "38371c50784c4f6fb6b54872d9ef2bf4": {
          "model_module": "@jupyter-widgets/controls",
          "model_name": "ProgressStyleModel",
          "model_module_version": "1.5.0",
          "state": {
            "_model_module": "@jupyter-widgets/controls",
            "_model_module_version": "1.5.0",
            "_model_name": "ProgressStyleModel",
            "_view_count": null,
            "_view_module": "@jupyter-widgets/base",
            "_view_module_version": "1.2.0",
            "_view_name": "StyleView",
            "bar_color": null,
            "description_width": ""
          }
        },
        "b6afd0feeca64bf886d3740721c120ac": {
          "model_module": "@jupyter-widgets/base",
          "model_name": "LayoutModel",
          "model_module_version": "1.2.0",
          "state": {
            "_model_module": "@jupyter-widgets/base",
            "_model_module_version": "1.2.0",
            "_model_name": "LayoutModel",
            "_view_count": null,
            "_view_module": "@jupyter-widgets/base",
            "_view_module_version": "1.2.0",
            "_view_name": "LayoutView",
            "align_content": null,
            "align_items": null,
            "align_self": null,
            "border": null,
            "bottom": null,
            "display": null,
            "flex": null,
            "flex_flow": null,
            "grid_area": null,
            "grid_auto_columns": null,
            "grid_auto_flow": null,
            "grid_auto_rows": null,
            "grid_column": null,
            "grid_gap": null,
            "grid_row": null,
            "grid_template_areas": null,
            "grid_template_columns": null,
            "grid_template_rows": null,
            "height": null,
            "justify_content": null,
            "justify_items": null,
            "left": null,
            "margin": null,
            "max_height": null,
            "max_width": null,
            "min_height": null,
            "min_width": null,
            "object_fit": null,
            "object_position": null,
            "order": null,
            "overflow": null,
            "overflow_x": null,
            "overflow_y": null,
            "padding": null,
            "right": null,
            "top": null,
            "visibility": null,
            "width": null
          }
        },
        "d5cbea23bfd144959b1ca8f5f0a8a259": {
          "model_module": "@jupyter-widgets/controls",
          "model_name": "DescriptionStyleModel",
          "model_module_version": "1.5.0",
          "state": {
            "_model_module": "@jupyter-widgets/controls",
            "_model_module_version": "1.5.0",
            "_model_name": "DescriptionStyleModel",
            "_view_count": null,
            "_view_module": "@jupyter-widgets/base",
            "_view_module_version": "1.2.0",
            "_view_name": "StyleView",
            "description_width": ""
          }
        },
        "fa5a304fb100464585b9bf0586bab291": {
          "model_module": "@jupyter-widgets/controls",
          "model_name": "VBoxModel",
          "model_module_version": "1.5.0",
          "state": {
            "_dom_classes": [],
            "_model_module": "@jupyter-widgets/controls",
            "_model_module_version": "1.5.0",
            "_model_name": "VBoxModel",
            "_view_count": null,
            "_view_module": "@jupyter-widgets/controls",
            "_view_module_version": "1.5.0",
            "_view_name": "VBoxView",
            "box_style": "",
            "children": [
              "IPY_MODEL_f381aa6f169a4a9a8b236d8bdcca6706",
              "IPY_MODEL_72cc47445ca44be5ab53b43b7f823aa7"
            ],
            "layout": "IPY_MODEL_619a6a41586a422f86079ab98fd60427"
          }
        },
        "f381aa6f169a4a9a8b236d8bdcca6706": {
          "model_module": "@jupyter-widgets/controls",
          "model_name": "LabelModel",
          "model_module_version": "1.5.0",
          "state": {
            "_dom_classes": [],
            "_model_module": "@jupyter-widgets/controls",
            "_model_module_version": "1.5.0",
            "_model_name": "LabelModel",
            "_view_count": null,
            "_view_module": "@jupyter-widgets/controls",
            "_view_module_version": "1.5.0",
            "_view_name": "LabelView",
            "description": "",
            "description_tooltip": null,
            "layout": "IPY_MODEL_8f31d19260eb44a08020d56af6533fc3",
            "placeholder": "​",
            "style": "IPY_MODEL_1af16d2b85ca4cba986631a16ab6b70c",
            "value": "0.595 MB of 0.595 MB uploaded (0.000 MB deduped)\r"
          }
        },
        "72cc47445ca44be5ab53b43b7f823aa7": {
          "model_module": "@jupyter-widgets/controls",
          "model_name": "FloatProgressModel",
          "model_module_version": "1.5.0",
          "state": {
            "_dom_classes": [],
            "_model_module": "@jupyter-widgets/controls",
            "_model_module_version": "1.5.0",
            "_model_name": "FloatProgressModel",
            "_view_count": null,
            "_view_module": "@jupyter-widgets/controls",
            "_view_module_version": "1.5.0",
            "_view_name": "ProgressView",
            "bar_style": "",
            "description": "",
            "description_tooltip": null,
            "layout": "IPY_MODEL_51341fe99d9b4c50b03476fbe6134d08",
            "max": 1,
            "min": 0,
            "orientation": "horizontal",
            "style": "IPY_MODEL_deaee26037b94e639d5186716743dab9",
            "value": 1
          }
        },
        "619a6a41586a422f86079ab98fd60427": {
          "model_module": "@jupyter-widgets/base",
          "model_name": "LayoutModel",
          "model_module_version": "1.2.0",
          "state": {
            "_model_module": "@jupyter-widgets/base",
            "_model_module_version": "1.2.0",
            "_model_name": "LayoutModel",
            "_view_count": null,
            "_view_module": "@jupyter-widgets/base",
            "_view_module_version": "1.2.0",
            "_view_name": "LayoutView",
            "align_content": null,
            "align_items": null,
            "align_self": null,
            "border": null,
            "bottom": null,
            "display": null,
            "flex": null,
            "flex_flow": null,
            "grid_area": null,
            "grid_auto_columns": null,
            "grid_auto_flow": null,
            "grid_auto_rows": null,
            "grid_column": null,
            "grid_gap": null,
            "grid_row": null,
            "grid_template_areas": null,
            "grid_template_columns": null,
            "grid_template_rows": null,
            "height": null,
            "justify_content": null,
            "justify_items": null,
            "left": null,
            "margin": null,
            "max_height": null,
            "max_width": null,
            "min_height": null,
            "min_width": null,
            "object_fit": null,
            "object_position": null,
            "order": null,
            "overflow": null,
            "overflow_x": null,
            "overflow_y": null,
            "padding": null,
            "right": null,
            "top": null,
            "visibility": null,
            "width": null
          }
        },
        "8f31d19260eb44a08020d56af6533fc3": {
          "model_module": "@jupyter-widgets/base",
          "model_name": "LayoutModel",
          "model_module_version": "1.2.0",
          "state": {
            "_model_module": "@jupyter-widgets/base",
            "_model_module_version": "1.2.0",
            "_model_name": "LayoutModel",
            "_view_count": null,
            "_view_module": "@jupyter-widgets/base",
            "_view_module_version": "1.2.0",
            "_view_name": "LayoutView",
            "align_content": null,
            "align_items": null,
            "align_self": null,
            "border": null,
            "bottom": null,
            "display": null,
            "flex": null,
            "flex_flow": null,
            "grid_area": null,
            "grid_auto_columns": null,
            "grid_auto_flow": null,
            "grid_auto_rows": null,
            "grid_column": null,
            "grid_gap": null,
            "grid_row": null,
            "grid_template_areas": null,
            "grid_template_columns": null,
            "grid_template_rows": null,
            "height": null,
            "justify_content": null,
            "justify_items": null,
            "left": null,
            "margin": null,
            "max_height": null,
            "max_width": null,
            "min_height": null,
            "min_width": null,
            "object_fit": null,
            "object_position": null,
            "order": null,
            "overflow": null,
            "overflow_x": null,
            "overflow_y": null,
            "padding": null,
            "right": null,
            "top": null,
            "visibility": null,
            "width": null
          }
        },
        "1af16d2b85ca4cba986631a16ab6b70c": {
          "model_module": "@jupyter-widgets/controls",
          "model_name": "DescriptionStyleModel",
          "model_module_version": "1.5.0",
          "state": {
            "_model_module": "@jupyter-widgets/controls",
            "_model_module_version": "1.5.0",
            "_model_name": "DescriptionStyleModel",
            "_view_count": null,
            "_view_module": "@jupyter-widgets/base",
            "_view_module_version": "1.2.0",
            "_view_name": "StyleView",
            "description_width": ""
          }
        },
        "51341fe99d9b4c50b03476fbe6134d08": {
          "model_module": "@jupyter-widgets/base",
          "model_name": "LayoutModel",
          "model_module_version": "1.2.0",
          "state": {
            "_model_module": "@jupyter-widgets/base",
            "_model_module_version": "1.2.0",
            "_model_name": "LayoutModel",
            "_view_count": null,
            "_view_module": "@jupyter-widgets/base",
            "_view_module_version": "1.2.0",
            "_view_name": "LayoutView",
            "align_content": null,
            "align_items": null,
            "align_self": null,
            "border": null,
            "bottom": null,
            "display": null,
            "flex": null,
            "flex_flow": null,
            "grid_area": null,
            "grid_auto_columns": null,
            "grid_auto_flow": null,
            "grid_auto_rows": null,
            "grid_column": null,
            "grid_gap": null,
            "grid_row": null,
            "grid_template_areas": null,
            "grid_template_columns": null,
            "grid_template_rows": null,
            "height": null,
            "justify_content": null,
            "justify_items": null,
            "left": null,
            "margin": null,
            "max_height": null,
            "max_width": null,
            "min_height": null,
            "min_width": null,
            "object_fit": null,
            "object_position": null,
            "order": null,
            "overflow": null,
            "overflow_x": null,
            "overflow_y": null,
            "padding": null,
            "right": null,
            "top": null,
            "visibility": null,
            "width": null
          }
        },
        "deaee26037b94e639d5186716743dab9": {
          "model_module": "@jupyter-widgets/controls",
          "model_name": "ProgressStyleModel",
          "model_module_version": "1.5.0",
          "state": {
            "_model_module": "@jupyter-widgets/controls",
            "_model_module_version": "1.5.0",
            "_model_name": "ProgressStyleModel",
            "_view_count": null,
            "_view_module": "@jupyter-widgets/base",
            "_view_module_version": "1.2.0",
            "_view_name": "StyleView",
            "bar_color": null,
            "description_width": ""
          }
        }
      }
    }
  },
  "cells": [
    {
      "cell_type": "markdown",
      "metadata": {
        "id": "X8VR8kd4ipPN"
      },
      "source": [
        "\n",
        "# Fine-tuning BART Summarization\n",
        "\n",
        "---"
      ]
    },
    {
      "cell_type": "code",
      "source": [
        "gpu_info = !nvidia-smi\n",
        "gpu_info = '\\n'.join(gpu_info)\n",
        "if gpu_info.find('failed') >= 0:\n",
        "  print('Not connected to a GPU')\n",
        "else:\n",
        "  print(gpu_info)"
      ],
      "metadata": {
        "id": "DX5Kz2S6q5tE"
      },
      "execution_count": null,
      "outputs": []
    },
    {
      "cell_type": "markdown",
      "metadata": {
        "id": "yUn2OqI9oPQb"
      },
      "source": [
        "## Setup\n",
        "\n",
        "---"
      ]
    },
    {
      "cell_type": "code",
      "metadata": {
        "id": "pkzypz9I1O6H"
      },
      "source": [
        "!pip install ipywidgets\n",
        "!jupyter nbextension enable --py widgetsnbextension"
      ],
      "execution_count": null,
      "outputs": []
    },
    {
      "cell_type": "code",
      "metadata": {
        "id": "_gaaojSBoQ5f"
      },
      "source": [
        "! pip install transformers\n",
        "! pip install datasets\n",
        "! pip install sentencepiece\n",
        "! pip install rouge_score\n",
        "! pip install wandb"
      ],
      "execution_count": null,
      "outputs": []
    },
    {
      "cell_type": "code",
      "metadata": {
        "id": "rimUDCQGoTAJ"
      },
      "source": [
        "import torch\n",
        "import numpy as np\n",
        "import datasets\n",
        "\n",
        "from transformers import (\n",
        "    AutoModelForSeq2SeqLM,\n",
        "    AutoTokenizer,\n",
        "    Seq2SeqTrainingArguments,\n",
        "    Seq2SeqTrainer,\n",
        "    DataCollatorForSeq2Seq,\n",
        ")\n",
        "\n",
        "from tabulate import tabulate\n",
        "import nltk\n",
        "from datetime import datetime"
      ],
      "execution_count": null,
      "outputs": []
    },
    {
      "cell_type": "code",
      "metadata": {
        "id": "8zpflBQbzrvC"
      },
      "source": [
        "WANDB_INTEGRATION = True\n",
        "if WANDB_INTEGRATION:\n",
        "    import wandb\n",
        "\n",
        "    wandb.login()"
      ],
      "execution_count": null,
      "outputs": []
    },
    {
      "cell_type": "markdown",
      "metadata": {
        "id": "aX-q_O-hoe3g"
      },
      "source": [
        "## Model and tokenizer\n",
        "\n",
        "---"
      ]
    },
    {
      "cell_type": "markdown",
      "metadata": {
        "id": "yb21WY-9mavn"
      },
      "source": [
        "Hiperparámetros: "
      ]
    },
    {
      "cell_type": "code",
      "metadata": {
        "id": "7vMhyyIPobyx",
        "colab": {
          "base_uri": "https://localhost:8080/"
        },
        "outputId": "ddc5f3ec-49f7-43b4-9665-1905b020abce"
      },
      "source": [
        "#Llamado del modelo\n",
        "model_name = \"facebook/bart-base\"\n",
        "\n",
        "#Definición de modelo y tokenizador\n",
        "model = AutoModelForSeq2SeqLM.from_pretrained(model_name)\n",
        "tokenizer = AutoTokenizer.from_pretrained(model_name)\n",
        "\n",
        "# Se fijan los parámetros del modelo\n",
        "model.config.activation_dropout = 0.0\n",
        "model.config.classif_dropout = 0.0\n",
        "model.config.max_encoder_position_embeddings = 1024\n",
        "model.config.max_decoder_position_embeddings = 16384\n",
        "model.config.min_length = 350\n",
        "model.config.max_length = 500\n",
        "print(model.config)\n",
        "\n",
        "  # \"classif_dropout\": 0.0,\n",
        "  # \"classifier_dropout\": 0.0,\n",
        "  # \"d_model\": 768,\n",
        "  # \"decoder_attention_heads\": 12,\n",
        "  # \"decoder_ffn_dim\": 3072,\n",
        "  # \"decoder_layerdrop\": 0.0,\n",
        "  # \"decoder_layers\": 6,\n",
        "  # \"decoder_start_token_id\": 2,\n",
        "  # \"dropout\": 0.1,\n",
        "  # \"encoder_attention_heads\": 12,\n",
        "  # \"encoder_ffn_dim\": 3072,\n",
        "  # \"encoder_layerdrop\": 0.0,\n",
        "  # \"encoder_layers\": 6,\n",
        "  # \"eos_token_id\": 2,\n",
        "\n",
        "# tokenización\n",
        "encoder_max_length = 256 \n",
        "decoder_max_length = 64"
      ],
      "execution_count": null,
      "outputs": [
        {
          "output_type": "stream",
          "name": "stderr",
          "text": [
            "loading configuration file https://huggingface.co/facebook/bart-base/resolve/main/config.json from cache at /root/.cache/huggingface/transformers/f5310d276a6d1648d00c32fadc8bf7b4607e0fbd5b404fc4a0045960aa2bdfdb.a243ed957122436adb0b8d8e9d20f896f45c174b6324d625ca0a20a84f72a910\n",
            "Model config BartConfig {\n",
            "  \"_name_or_path\": \"facebook/bart-base\",\n",
            "  \"activation_dropout\": 0.1,\n",
            "  \"activation_function\": \"gelu\",\n",
            "  \"add_bias_logits\": false,\n",
            "  \"add_final_layer_norm\": false,\n",
            "  \"architectures\": [\n",
            "    \"BartModel\"\n",
            "  ],\n",
            "  \"attention_dropout\": 0.1,\n",
            "  \"bos_token_id\": 0,\n",
            "  \"classif_dropout\": 0.1,\n",
            "  \"classifier_dropout\": 0.0,\n",
            "  \"d_model\": 768,\n",
            "  \"decoder_attention_heads\": 12,\n",
            "  \"decoder_ffn_dim\": 3072,\n",
            "  \"decoder_layerdrop\": 0.0,\n",
            "  \"decoder_layers\": 6,\n",
            "  \"decoder_start_token_id\": 2,\n",
            "  \"dropout\": 0.1,\n",
            "  \"early_stopping\": true,\n",
            "  \"encoder_attention_heads\": 12,\n",
            "  \"encoder_ffn_dim\": 3072,\n",
            "  \"encoder_layerdrop\": 0.0,\n",
            "  \"encoder_layers\": 6,\n",
            "  \"eos_token_id\": 2,\n",
            "  \"forced_bos_token_id\": 0,\n",
            "  \"forced_eos_token_id\": 2,\n",
            "  \"gradient_checkpointing\": false,\n",
            "  \"id2label\": {\n",
            "    \"0\": \"LABEL_0\",\n",
            "    \"1\": \"LABEL_1\",\n",
            "    \"2\": \"LABEL_2\"\n",
            "  },\n",
            "  \"init_std\": 0.02,\n",
            "  \"is_encoder_decoder\": true,\n",
            "  \"label2id\": {\n",
            "    \"LABEL_0\": 0,\n",
            "    \"LABEL_1\": 1,\n",
            "    \"LABEL_2\": 2\n",
            "  },\n",
            "  \"max_position_embeddings\": 1024,\n",
            "  \"model_type\": \"bart\",\n",
            "  \"no_repeat_ngram_size\": 3,\n",
            "  \"normalize_before\": false,\n",
            "  \"normalize_embedding\": true,\n",
            "  \"num_beams\": 4,\n",
            "  \"num_hidden_layers\": 6,\n",
            "  \"pad_token_id\": 1,\n",
            "  \"scale_embedding\": false,\n",
            "  \"task_specific_params\": {\n",
            "    \"summarization\": {\n",
            "      \"length_penalty\": 1.0,\n",
            "      \"max_length\": 128,\n",
            "      \"min_length\": 12,\n",
            "      \"num_beams\": 4\n",
            "    },\n",
            "    \"summarization_cnn\": {\n",
            "      \"length_penalty\": 2.0,\n",
            "      \"max_length\": 142,\n",
            "      \"min_length\": 56,\n",
            "      \"num_beams\": 4\n",
            "    },\n",
            "    \"summarization_xsum\": {\n",
            "      \"length_penalty\": 1.0,\n",
            "      \"max_length\": 62,\n",
            "      \"min_length\": 11,\n",
            "      \"num_beams\": 6\n",
            "    }\n",
            "  },\n",
            "  \"torch_dtype\": \"float32\",\n",
            "  \"transformers_version\": \"4.17.0\",\n",
            "  \"use_cache\": true,\n",
            "  \"vocab_size\": 50265\n",
            "}\n",
            "\n",
            "loading weights file https://huggingface.co/facebook/bart-base/resolve/main/pytorch_model.bin from cache at /root/.cache/huggingface/transformers/486355ec722ef05fd480e999d4c763be56549ae930f6a3742ee721a5d2a05647.f2f355ad2775769afc60592b43a46d72ca548375e3a1d65f381a751e711cbadd\n",
            "All model checkpoint weights were used when initializing BartForConditionalGeneration.\n",
            "\n",
            "All the weights of BartForConditionalGeneration were initialized from the model checkpoint at facebook/bart-base.\n",
            "If your task is similar to the task the model of the checkpoint was trained on, you can already use BartForConditionalGeneration for predictions without further training.\n",
            "Could not locate the tokenizer configuration file, will try to use the model config instead.\n",
            "loading configuration file https://huggingface.co/facebook/bart-base/resolve/main/config.json from cache at /root/.cache/huggingface/transformers/f5310d276a6d1648d00c32fadc8bf7b4607e0fbd5b404fc4a0045960aa2bdfdb.a243ed957122436adb0b8d8e9d20f896f45c174b6324d625ca0a20a84f72a910\n",
            "Model config BartConfig {\n",
            "  \"_name_or_path\": \"facebook/bart-base\",\n",
            "  \"activation_dropout\": 0.1,\n",
            "  \"activation_function\": \"gelu\",\n",
            "  \"add_bias_logits\": false,\n",
            "  \"add_final_layer_norm\": false,\n",
            "  \"architectures\": [\n",
            "    \"BartModel\"\n",
            "  ],\n",
            "  \"attention_dropout\": 0.1,\n",
            "  \"bos_token_id\": 0,\n",
            "  \"classif_dropout\": 0.1,\n",
            "  \"classifier_dropout\": 0.0,\n",
            "  \"d_model\": 768,\n",
            "  \"decoder_attention_heads\": 12,\n",
            "  \"decoder_ffn_dim\": 3072,\n",
            "  \"decoder_layerdrop\": 0.0,\n",
            "  \"decoder_layers\": 6,\n",
            "  \"decoder_start_token_id\": 2,\n",
            "  \"dropout\": 0.1,\n",
            "  \"early_stopping\": true,\n",
            "  \"encoder_attention_heads\": 12,\n",
            "  \"encoder_ffn_dim\": 3072,\n",
            "  \"encoder_layerdrop\": 0.0,\n",
            "  \"encoder_layers\": 6,\n",
            "  \"eos_token_id\": 2,\n",
            "  \"forced_bos_token_id\": 0,\n",
            "  \"forced_eos_token_id\": 2,\n",
            "  \"gradient_checkpointing\": false,\n",
            "  \"id2label\": {\n",
            "    \"0\": \"LABEL_0\",\n",
            "    \"1\": \"LABEL_1\",\n",
            "    \"2\": \"LABEL_2\"\n",
            "  },\n",
            "  \"init_std\": 0.02,\n",
            "  \"is_encoder_decoder\": true,\n",
            "  \"label2id\": {\n",
            "    \"LABEL_0\": 0,\n",
            "    \"LABEL_1\": 1,\n",
            "    \"LABEL_2\": 2\n",
            "  },\n",
            "  \"max_position_embeddings\": 1024,\n",
            "  \"model_type\": \"bart\",\n",
            "  \"no_repeat_ngram_size\": 3,\n",
            "  \"normalize_before\": false,\n",
            "  \"normalize_embedding\": true,\n",
            "  \"num_beams\": 4,\n",
            "  \"num_hidden_layers\": 6,\n",
            "  \"pad_token_id\": 1,\n",
            "  \"scale_embedding\": false,\n",
            "  \"task_specific_params\": {\n",
            "    \"summarization\": {\n",
            "      \"length_penalty\": 1.0,\n",
            "      \"max_length\": 128,\n",
            "      \"min_length\": 12,\n",
            "      \"num_beams\": 4\n",
            "    },\n",
            "    \"summarization_cnn\": {\n",
            "      \"length_penalty\": 2.0,\n",
            "      \"max_length\": 142,\n",
            "      \"min_length\": 56,\n",
            "      \"num_beams\": 4\n",
            "    },\n",
            "    \"summarization_xsum\": {\n",
            "      \"length_penalty\": 1.0,\n",
            "      \"max_length\": 62,\n",
            "      \"min_length\": 11,\n",
            "      \"num_beams\": 6\n",
            "    }\n",
            "  },\n",
            "  \"torch_dtype\": \"float32\",\n",
            "  \"transformers_version\": \"4.17.0\",\n",
            "  \"use_cache\": true,\n",
            "  \"vocab_size\": 50265\n",
            "}\n",
            "\n",
            "loading file https://huggingface.co/facebook/bart-base/resolve/main/vocab.json from cache at /root/.cache/huggingface/transformers/43978bdeaa326572886b44fcfed82f932f76571095ce31973e51c3da8ccade7f.d67d6b367eb24ab43b08ad55e014cf254076934f71d832bbab9ad35644a375ab\n",
            "loading file https://huggingface.co/facebook/bart-base/resolve/main/merges.txt from cache at /root/.cache/huggingface/transformers/3c167ed8af56e6605eeb794b63a79d65d85e6708c9b04408d41946337030f5cd.5d12962c5ee615a4c803841266e9c3be9a691a924f72d395d3a6c6c81157788b\n",
            "loading file https://huggingface.co/facebook/bart-base/resolve/main/tokenizer.json from cache at /root/.cache/huggingface/transformers/a878fcd69bba037c9b1b227f4213579ae43d0aaa9374e167bc6c5f41b1cfeb30.fc9576039592f026ad76a1c231b89aee8668488c671dfbe6616bab2ed298d730\n",
            "loading file https://huggingface.co/facebook/bart-base/resolve/main/added_tokens.json from cache at None\n",
            "loading file https://huggingface.co/facebook/bart-base/resolve/main/special_tokens_map.json from cache at None\n",
            "loading file https://huggingface.co/facebook/bart-base/resolve/main/tokenizer_config.json from cache at None\n",
            "loading configuration file https://huggingface.co/facebook/bart-base/resolve/main/config.json from cache at /root/.cache/huggingface/transformers/f5310d276a6d1648d00c32fadc8bf7b4607e0fbd5b404fc4a0045960aa2bdfdb.a243ed957122436adb0b8d8e9d20f896f45c174b6324d625ca0a20a84f72a910\n",
            "Model config BartConfig {\n",
            "  \"_name_or_path\": \"facebook/bart-base\",\n",
            "  \"activation_dropout\": 0.1,\n",
            "  \"activation_function\": \"gelu\",\n",
            "  \"add_bias_logits\": false,\n",
            "  \"add_final_layer_norm\": false,\n",
            "  \"architectures\": [\n",
            "    \"BartModel\"\n",
            "  ],\n",
            "  \"attention_dropout\": 0.1,\n",
            "  \"bos_token_id\": 0,\n",
            "  \"classif_dropout\": 0.1,\n",
            "  \"classifier_dropout\": 0.0,\n",
            "  \"d_model\": 768,\n",
            "  \"decoder_attention_heads\": 12,\n",
            "  \"decoder_ffn_dim\": 3072,\n",
            "  \"decoder_layerdrop\": 0.0,\n",
            "  \"decoder_layers\": 6,\n",
            "  \"decoder_start_token_id\": 2,\n",
            "  \"dropout\": 0.1,\n",
            "  \"early_stopping\": true,\n",
            "  \"encoder_attention_heads\": 12,\n",
            "  \"encoder_ffn_dim\": 3072,\n",
            "  \"encoder_layerdrop\": 0.0,\n",
            "  \"encoder_layers\": 6,\n",
            "  \"eos_token_id\": 2,\n",
            "  \"forced_bos_token_id\": 0,\n",
            "  \"forced_eos_token_id\": 2,\n",
            "  \"gradient_checkpointing\": false,\n",
            "  \"id2label\": {\n",
            "    \"0\": \"LABEL_0\",\n",
            "    \"1\": \"LABEL_1\",\n",
            "    \"2\": \"LABEL_2\"\n",
            "  },\n",
            "  \"init_std\": 0.02,\n",
            "  \"is_encoder_decoder\": true,\n",
            "  \"label2id\": {\n",
            "    \"LABEL_0\": 0,\n",
            "    \"LABEL_1\": 1,\n",
            "    \"LABEL_2\": 2\n",
            "  },\n",
            "  \"max_position_embeddings\": 1024,\n",
            "  \"model_type\": \"bart\",\n",
            "  \"no_repeat_ngram_size\": 3,\n",
            "  \"normalize_before\": false,\n",
            "  \"normalize_embedding\": true,\n",
            "  \"num_beams\": 4,\n",
            "  \"num_hidden_layers\": 6,\n",
            "  \"pad_token_id\": 1,\n",
            "  \"scale_embedding\": false,\n",
            "  \"task_specific_params\": {\n",
            "    \"summarization\": {\n",
            "      \"length_penalty\": 1.0,\n",
            "      \"max_length\": 128,\n",
            "      \"min_length\": 12,\n",
            "      \"num_beams\": 4\n",
            "    },\n",
            "    \"summarization_cnn\": {\n",
            "      \"length_penalty\": 2.0,\n",
            "      \"max_length\": 142,\n",
            "      \"min_length\": 56,\n",
            "      \"num_beams\": 4\n",
            "    },\n",
            "    \"summarization_xsum\": {\n",
            "      \"length_penalty\": 1.0,\n",
            "      \"max_length\": 62,\n",
            "      \"min_length\": 11,\n",
            "      \"num_beams\": 6\n",
            "    }\n",
            "  },\n",
            "  \"torch_dtype\": \"float32\",\n",
            "  \"transformers_version\": \"4.17.0\",\n",
            "  \"use_cache\": true,\n",
            "  \"vocab_size\": 50265\n",
            "}\n",
            "\n"
          ]
        },
        {
          "output_type": "stream",
          "name": "stdout",
          "text": [
            "BartConfig {\n",
            "  \"_name_or_path\": \"facebook/bart-base\",\n",
            "  \"activation_dropout\": 0.0,\n",
            "  \"activation_function\": \"gelu\",\n",
            "  \"add_bias_logits\": false,\n",
            "  \"add_final_layer_norm\": false,\n",
            "  \"architectures\": [\n",
            "    \"BartModel\"\n",
            "  ],\n",
            "  \"attention_dropout\": 0.1,\n",
            "  \"bos_token_id\": 0,\n",
            "  \"classif_dropout\": 0.0,\n",
            "  \"classifier_dropout\": 0.0,\n",
            "  \"d_model\": 768,\n",
            "  \"decoder_attention_heads\": 12,\n",
            "  \"decoder_ffn_dim\": 3072,\n",
            "  \"decoder_layerdrop\": 0.0,\n",
            "  \"decoder_layers\": 6,\n",
            "  \"decoder_start_token_id\": 2,\n",
            "  \"dropout\": 0.1,\n",
            "  \"early_stopping\": true,\n",
            "  \"encoder_attention_heads\": 12,\n",
            "  \"encoder_ffn_dim\": 3072,\n",
            "  \"encoder_layerdrop\": 0.0,\n",
            "  \"encoder_layers\": 6,\n",
            "  \"eos_token_id\": 2,\n",
            "  \"forced_bos_token_id\": 0,\n",
            "  \"forced_eos_token_id\": 2,\n",
            "  \"gradient_checkpointing\": false,\n",
            "  \"id2label\": {\n",
            "    \"0\": \"LABEL_0\",\n",
            "    \"1\": \"LABEL_1\",\n",
            "    \"2\": \"LABEL_2\"\n",
            "  },\n",
            "  \"init_std\": 0.02,\n",
            "  \"is_encoder_decoder\": true,\n",
            "  \"label2id\": {\n",
            "    \"LABEL_0\": 0,\n",
            "    \"LABEL_1\": 1,\n",
            "    \"LABEL_2\": 2\n",
            "  },\n",
            "  \"max_decoder_position_embeddings\": 16384,\n",
            "  \"max_encoder_position_embeddings\": 1024,\n",
            "  \"max_length\": 500,\n",
            "  \"max_position_embeddings\": 1024,\n",
            "  \"min_length\": 350,\n",
            "  \"model_type\": \"bart\",\n",
            "  \"no_repeat_ngram_size\": 3,\n",
            "  \"normalize_before\": false,\n",
            "  \"normalize_embedding\": true,\n",
            "  \"num_beams\": 4,\n",
            "  \"num_hidden_layers\": 6,\n",
            "  \"pad_token_id\": 1,\n",
            "  \"scale_embedding\": false,\n",
            "  \"task_specific_params\": {\n",
            "    \"summarization\": {\n",
            "      \"length_penalty\": 1.0,\n",
            "      \"max_length\": 128,\n",
            "      \"min_length\": 12,\n",
            "      \"num_beams\": 4\n",
            "    },\n",
            "    \"summarization_cnn\": {\n",
            "      \"length_penalty\": 2.0,\n",
            "      \"max_length\": 142,\n",
            "      \"min_length\": 56,\n",
            "      \"num_beams\": 4\n",
            "    },\n",
            "    \"summarization_xsum\": {\n",
            "      \"length_penalty\": 1.0,\n",
            "      \"max_length\": 62,\n",
            "      \"min_length\": 11,\n",
            "      \"num_beams\": 6\n",
            "    }\n",
            "  },\n",
            "  \"torch_dtype\": \"float32\",\n",
            "  \"transformers_version\": \"4.17.0\",\n",
            "  \"use_cache\": true,\n",
            "  \"vocab_size\": 50265\n",
            "}\n",
            "\n"
          ]
        }
      ]
    },
    {
      "cell_type": "markdown",
      "metadata": {
        "id": "wwtSPRJgomBS"
      },
      "source": [
        "# Data\n",
        "\n",
        "---"
      ]
    },
    {
      "cell_type": "markdown",
      "metadata": {
        "id": "OZfrIK8fW9DU"
      },
      "source": [
        "### Descarga y Preparación de los Datos"
      ]
    },
    {
      "cell_type": "markdown",
      "metadata": {
        "id": "t4MZ_LiNwI_T"
      },
      "source": [
        "### Cargado de Dataset"
      ]
    },
    {
      "cell_type": "code",
      "metadata": {
        "colab": {
          "base_uri": "https://localhost:8080/"
        },
        "id": "N0TPG-bEk-uU",
        "outputId": "9ebba295-cd7d-49b8-ab44-daaf57f6eb05"
      },
      "source": [
        "train_data_txt = datasets.load_dataset(\"ccdv/govreport-summarization\", split=\"train\")\n",
        "validation_data_txt = datasets.load_dataset(\"ccdv/govreport-summarization\", split=\"test\")"
      ],
      "execution_count": null,
      "outputs": [
        {
          "output_type": "stream",
          "name": "stderr",
          "text": [
            "No config specified, defaulting to: gov_report_summarization_dataset/document\n",
            "Reusing dataset gov_report_summarization_dataset (/root/.cache/huggingface/datasets/ccdv___gov_report_summarization_dataset/document/1.0.0/32c7f04ec577e9dc99b889eff9d64a321a3a00b7332e8733eb32d39bebbdc34f)\n",
            "No config specified, defaulting to: gov_report_summarization_dataset/document\n",
            "Reusing dataset gov_report_summarization_dataset (/root/.cache/huggingface/datasets/ccdv___gov_report_summarization_dataset/document/1.0.0/32c7f04ec577e9dc99b889eff9d64a321a3a00b7332e8733eb32d39bebbdc34f)\n"
          ]
        }
      ]
    },
    {
      "cell_type": "markdown",
      "metadata": {
        "id": "5pbe750YpMfD"
      },
      "source": [
        "**Preprocess and tokenize**"
      ]
    },
    {
      "cell_type": "code",
      "metadata": {
        "id": "PyksYNwxA4OM",
        "colab": {
          "base_uri": "https://localhost:8080/",
          "height": 86,
          "referenced_widgets": [
            "275400ea60d847bd98497dc103c0e851",
            "f43d7c6273cb4cc5928daa7286e1bb65",
            "b176725533914c2e9457ea24d7b6bd8b",
            "4dd68754a81242b8a9a763d1fef74824",
            "ad6c63d885d8474d8da51e9c81fd0caa",
            "f372e7ad40c24e77a8324cd6116e8bf4",
            "f28a3edc9faf489b8b736df8cb6cda2a",
            "e4ca46d59f2c45f79fb4bbf512f29d6f",
            "38371c50784c4f6fb6b54872d9ef2bf4",
            "b6afd0feeca64bf886d3740721c120ac",
            "d5cbea23bfd144959b1ca8f5f0a8a259"
          ]
        },
        "outputId": "4201e579-def7-4fcc-845e-c9f750c14c43"
      },
      "source": [
        "def batch_tokenize_preprocess(batch, tokenizer, max_source_length, max_target_length):\n",
        "    source, target = batch[\"report\"], batch[\"summary\"]\n",
        "    source_tokenized = tokenizer(\n",
        "        source, padding=\"max_length\", truncation=True, max_length=max_source_length\n",
        "    )\n",
        "    target_tokenized = tokenizer(\n",
        "        target, padding=\"max_length\", truncation=True, max_length=max_target_length\n",
        "    )\n",
        "\n",
        "    batch = {k: v for k, v in source_tokenized.items()}\n",
        "    # Ignore padding in the loss\n",
        "    batch[\"labels\"] = [\n",
        "        [-100 if token == tokenizer.pad_token_id else token for token in l]\n",
        "        for l in target_tokenized[\"input_ids\"]\n",
        "    ]\n",
        "    return batch\n",
        "\n",
        "\n",
        "train_data = train_data_txt.map(\n",
        "    lambda batch: batch_tokenize_preprocess(\n",
        "        batch, tokenizer, encoder_max_length, decoder_max_length\n",
        "    ),\n",
        "    batched=True,\n",
        "    remove_columns=train_data_txt.column_names,\n",
        ")\n",
        "\n",
        "validation_data = validation_data_txt.map(\n",
        "    lambda batch: batch_tokenize_preprocess(\n",
        "        batch, tokenizer, encoder_max_length, decoder_max_length\n",
        "    ),\n",
        "    batched=True,\n",
        "    remove_columns=validation_data_txt.column_names,\n",
        ")"
      ],
      "execution_count": null,
      "outputs": [
        {
          "output_type": "stream",
          "name": "stderr",
          "text": [
            "Loading cached processed dataset at /root/.cache/huggingface/datasets/ccdv___gov_report_summarization_dataset/document/1.0.0/32c7f04ec577e9dc99b889eff9d64a321a3a00b7332e8733eb32d39bebbdc34f/cache-363a195acc9fabc3.arrow\n"
          ]
        },
        {
          "output_type": "display_data",
          "data": {
            "text/plain": [
              "  0%|          | 0/1 [00:00<?, ?ba/s]"
            ],
            "application/vnd.jupyter.widget-view+json": {
              "version_major": 2,
              "version_minor": 0,
              "model_id": "275400ea60d847bd98497dc103c0e851"
            }
          },
          "metadata": {}
        }
      ]
    },
    {
      "cell_type": "markdown",
      "metadata": {
        "id": "h7ViBmMopWfb"
      },
      "source": [
        "## Training\n",
        "\n",
        "---"
      ]
    },
    {
      "cell_type": "markdown",
      "metadata": {
        "id": "9EfTztMPv2vG"
      },
      "source": [
        "### Metrics"
      ]
    },
    {
      "cell_type": "code",
      "metadata": {
        "id": "rpNCGl2sYl2p"
      },
      "source": [
        "# Borrowed from https://github.com/huggingface/transformers/blob/master/examples/seq2seq/run_summarization.py\n",
        "\n",
        "nltk.download(\"punkt\", quiet=True)\n",
        "\n",
        "metric = datasets.load_metric(\"rouge\")\n",
        "\n",
        "\n",
        "def postprocess_text(preds, labels):\n",
        "    preds = [pred.strip() for pred in preds]\n",
        "    labels = [label.strip() for label in labels]\n",
        "\n",
        "    # rougeLSum expects newline after each sentence\n",
        "    preds = [\"\\n\".join(nltk.sent_tokenize(pred)) for pred in preds]\n",
        "    labels = [\"\\n\".join(nltk.sent_tokenize(label)) for label in labels]\n",
        "\n",
        "    return preds, labels\n",
        "\n",
        "\n",
        "def compute_metrics(eval_preds):\n",
        "    preds, labels = eval_preds\n",
        "    if isinstance(preds, tuple):\n",
        "        preds = preds[0]\n",
        "    decoded_preds = tokenizer.batch_decode(preds, skip_special_tokens=True)\n",
        "    # Replace -100 in the labels as we can't decode them.\n",
        "    labels = np.where(labels != -100, labels, tokenizer.pad_token_id)\n",
        "    decoded_labels = tokenizer.batch_decode(labels, skip_special_tokens=True)\n",
        "\n",
        "    # Some simple post-processing\n",
        "    decoded_preds, decoded_labels = postprocess_text(decoded_preds, decoded_labels)\n",
        "\n",
        "    result = metric.compute(\n",
        "        predictions=decoded_preds, references=decoded_labels, use_stemmer=True\n",
        "    )\n",
        "    # Extract a few results from ROUGE\n",
        "    result = {key: value.mid.fmeasure * 100 for key, value in result.items()}\n",
        "\n",
        "    prediction_lens = [\n",
        "        np.count_nonzero(pred != tokenizer.pad_token_id) for pred in preds\n",
        "    ]\n",
        "    result[\"gen_len\"] = np.mean(prediction_lens)\n",
        "    result = {k: round(v, 4) for k, v in result.items()}\n",
        "    return result"
      ],
      "execution_count": null,
      "outputs": []
    },
    {
      "cell_type": "markdown",
      "metadata": {
        "id": "8O1EeUi-pbPA"
      },
      "source": [
        "### Training arguments"
      ]
    },
    {
      "cell_type": "code",
      "metadata": {
        "id": "6R9d7ELIpX9F",
        "colab": {
          "base_uri": "https://localhost:8080/"
        },
        "outputId": "dd2c4a9c-6d20-4cd4-a315-79f7c46dfff8"
      },
      "source": [
        "training_args = Seq2SeqTrainingArguments(\n",
        "    output_dir=\"results\",\n",
        "    num_train_epochs=20,  # Bajo por ahora\n",
        "    do_train=True,\n",
        "    do_eval=True,\n",
        "    per_device_train_batch_size=32,  # numeros al poder de 2\n",
        "    per_device_eval_batch_size=32,\n",
        "    learning_rate=3e-04, #3e-05\n",
        "    warmup_steps=500,\n",
        "    weight_decay=0.1,\n",
        "    label_smoothing_factor=0.1,\n",
        "    predict_with_generate=True, #Para métricas ROUGE\n",
        "    logging_dir=\"logs\",\n",
        "    logging_steps=500,\n",
        "    save_total_limit=3,\n",
        ")\n",
        "\n",
        "data_collator = DataCollatorForSeq2Seq(tokenizer, model=model)\n",
        "\n",
        "trainer = Seq2SeqTrainer(\n",
        "    model=model,\n",
        "    args=training_args,\n",
        "    data_collator=data_collator,\n",
        "    train_dataset=train_data,\n",
        "    eval_dataset=validation_data,\n",
        "    tokenizer=tokenizer,\n",
        "    compute_metrics=compute_metrics,\n",
        ")"
      ],
      "execution_count": null,
      "outputs": [
        {
          "output_type": "stream",
          "name": "stderr",
          "text": [
            "PyTorch: setting up devices\n",
            "The default value for the training argument `--report_to` will change in v5 (from all installed integrations to none). In v5, you will need to use `--report_to all` to get the same behavior as now. You should start updating your code and make this info disappear :-).\n"
          ]
        }
      ]
    },
    {
      "cell_type": "markdown",
      "metadata": {
        "id": "Qzcsz3gKplPO"
      },
      "source": [
        "### Train"
      ]
    },
    {
      "cell_type": "markdown",
      "metadata": {
        "id": "Rpg2a0mfoD-l"
      },
      "source": [
        "Wandb integration"
      ]
    },
    {
      "cell_type": "code",
      "metadata": {
        "colab": {
          "base_uri": "https://localhost:8080/"
        },
        "id": "Ns6c0cMuWDXp",
        "outputId": "43fdb816-a2be-42b9-883e-eced859f8f61"
      },
      "source": [
        "wandb"
      ],
      "execution_count": null,
      "outputs": [
        {
          "output_type": "execute_result",
          "data": {
            "text/plain": [
              "<module 'wandb' from '/usr/local/lib/python3.7/dist-packages/wandb/__init__.py'>"
            ]
          },
          "metadata": {},
          "execution_count": 35
        }
      ]
    },
    {
      "cell_type": "code",
      "metadata": {
        "id": "tdaVPp9doF1c",
        "colab": {
          "base_uri": "https://localhost:8080/",
          "height": 69
        },
        "outputId": "fb7e9e0a-5098-48dd-9cd7-b4ceaa03bbbd"
      },
      "source": [
        "if WANDB_INTEGRATION:\n",
        "    wandb_run = wandb.init(\n",
        "        project=\"BART_GOVREP_FT\",\n",
        "        config={\n",
        "            \"per_device_train_batch_size\": training_args.per_device_train_batch_size,\n",
        "            \"learning_rate\": training_args.learning_rate,\n",
        "            \"dataset\": \"ccdv/govreport-summarization\",\n",
        "        },\n",
        "    )\n",
        "\n",
        "    now = datetime.now()\n",
        "    current_time = now.strftime(\"%H%M%S\")\n",
        "    wandb_run.name = \"run_\" + current_time"
      ],
      "execution_count": null,
      "outputs": [
        {
          "output_type": "display_data",
          "data": {
            "text/plain": [
              "<IPython.core.display.HTML object>"
            ],
            "text/html": [
              "Tracking run with wandb version 0.12.12"
            ]
          },
          "metadata": {}
        },
        {
          "output_type": "display_data",
          "data": {
            "text/plain": [
              "<IPython.core.display.HTML object>"
            ],
            "text/html": [
              "Run data is saved locally in <code>/content/wandb/run-20220405_230239-16whxol4</code>"
            ]
          },
          "metadata": {}
        },
        {
          "output_type": "display_data",
          "data": {
            "text/plain": [
              "<IPython.core.display.HTML object>"
            ],
            "text/html": [
              "Syncing run <strong><a href=\"https://wandb.ai/zeroranger/BART_GOVREP_FT/runs/16whxol4\" target=\"_blank\">nemesis-unimatrix-2</a></strong> to <a href=\"https://wandb.ai/zeroranger/BART_GOVREP_FT\" target=\"_blank\">Weights & Biases</a> (<a href=\"https://wandb.me/run\" target=\"_blank\">docs</a>)<br/>"
            ]
          },
          "metadata": {}
        }
      ]
    },
    {
      "cell_type": "markdown",
      "metadata": {
        "id": "kEtd_a7TPpkd"
      },
      "source": [
        "Evaluate before fine-tuning"
      ]
    },
    {
      "cell_type": "code",
      "metadata": {
        "id": "5yveDiz7pm3i",
        "colab": {
          "base_uri": "https://localhost:8080/",
          "height": 263
        },
        "outputId": "0cf838ef-a680-49e4-b70f-4507a90b6bb9"
      },
      "source": [
        "trainer.evaluate()"
      ],
      "execution_count": null,
      "outputs": [
        {
          "output_type": "stream",
          "name": "stderr",
          "text": [
            "***** Running Evaluation *****\n",
            "  Num examples = 973\n",
            "  Batch size = 32\n"
          ]
        },
        {
          "output_type": "display_data",
          "data": {
            "text/plain": [
              "<IPython.core.display.HTML object>"
            ],
            "text/html": [
              "\n",
              "    <div>\n",
              "      \n",
              "      <progress value='31' max='31' style='width:300px; height:20px; vertical-align: middle;'></progress>\n",
              "      [31/31 18:13]\n",
              "    </div>\n",
              "    "
            ]
          },
          "metadata": {}
        },
        {
          "output_type": "stream",
          "name": "stderr",
          "text": [
            "Automatic Weights & Biases logging enabled, to disable set os.environ[\"WANDB_DISABLED\"] = \"true\"\n"
          ]
        },
        {
          "output_type": "execute_result",
          "data": {
            "text/plain": [
              "{'eval_gen_len': 352.5231,\n",
              " 'eval_loss': 4.9700188636779785,\n",
              " 'eval_rouge1': 20.2761,\n",
              " 'eval_rouge2': 9.3443,\n",
              " 'eval_rougeL': 14.5055,\n",
              " 'eval_rougeLsum': 18.6406,\n",
              " 'eval_runtime': 1157.6208,\n",
              " 'eval_samples_per_second': 0.841,\n",
              " 'eval_steps_per_second': 0.027}"
            ]
          },
          "metadata": {},
          "execution_count": 37
        }
      ]
    },
    {
      "cell_type": "markdown",
      "metadata": {
        "id": "nkRb7hvgPrf2"
      },
      "source": [
        "Train the model"
      ]
    },
    {
      "cell_type": "code",
      "metadata": {
        "id": "PZLM53u6mXyF"
      },
      "source": [
        "torch.cuda.is_available()\n",
        "import tensorflow as tf"
      ],
      "execution_count": null,
      "outputs": []
    },
    {
      "cell_type": "code",
      "source": [
        ""
      ],
      "metadata": {
        "id": "DlrbyYY6v-RW"
      },
      "execution_count": null,
      "outputs": []
    },
    {
      "cell_type": "code",
      "metadata": {
        "colab": {
          "base_uri": "https://localhost:8080/",
          "height": 35
        },
        "id": "ZgJsTMNan2cQ",
        "outputId": "38e8de44-7be8-4d8f-e058-748d0fa0309c"
      },
      "source": [
        "tf.test.gpu_device_name()"
      ],
      "execution_count": null,
      "outputs": [
        {
          "output_type": "execute_result",
          "data": {
            "text/plain": [
              "'/device:GPU:0'"
            ],
            "application/vnd.google.colaboratory.intrinsic+json": {
              "type": "string"
            }
          },
          "metadata": {},
          "execution_count": 39
        }
      ]
    },
    {
      "cell_type": "code",
      "metadata": {
        "id": "qYcYcbkr7ZZD",
        "colab": {
          "base_uri": "https://localhost:8080/",
          "height": 1000
        },
        "outputId": "bca913c8-c03a-483a-9aac-e374a3828f56"
      },
      "source": [
        "#%%wandb\n",
        "# uncomment to display Wandb charts\n",
        "\n",
        "trainer.train()"
      ],
      "execution_count": null,
      "outputs": [
        {
          "output_type": "stream",
          "name": "stderr",
          "text": [
            "/usr/local/lib/python3.7/dist-packages/transformers/optimization.py:309: FutureWarning: This implementation of AdamW is deprecated and will be removed in a future version. Use the PyTorch implementation torch.optim.AdamW instead, or set `no_deprecation_warning=True` to disable this warning\n",
            "  FutureWarning,\n",
            "***** Running training *****\n",
            "  Num examples = 17517\n",
            "  Num Epochs = 8\n",
            "  Instantaneous batch size per device = 32\n",
            "  Total train batch size (w. parallel, distributed & accumulation) = 32\n",
            "  Gradient Accumulation steps = 1\n",
            "  Total optimization steps = 4384\n"
          ]
        },
        {
          "output_type": "display_data",
          "data": {
            "text/plain": [
              "<IPython.core.display.HTML object>"
            ],
            "text/html": [
              "\n",
              "    <div>\n",
              "      \n",
              "      <progress value='4384' max='4384' style='width:300px; height:20px; vertical-align: middle;'></progress>\n",
              "      [4384/4384 50:09, Epoch 8/8]\n",
              "    </div>\n",
              "    <table border=\"1\" class=\"dataframe\">\n",
              "  <thead>\n",
              " <tr style=\"text-align: left;\">\n",
              "      <th>Step</th>\n",
              "      <th>Training Loss</th>\n",
              "    </tr>\n",
              "  </thead>\n",
              "  <tbody>\n",
              "    <tr>\n",
              "      <td>500</td>\n",
              "      <td>3.783800</td>\n",
              "    </tr>\n",
              "    <tr>\n",
              "      <td>1000</td>\n",
              "      <td>3.425400</td>\n",
              "    </tr>\n",
              "    <tr>\n",
              "      <td>1500</td>\n",
              "      <td>3.132100</td>\n",
              "    </tr>\n",
              "    <tr>\n",
              "      <td>2000</td>\n",
              "      <td>2.901800</td>\n",
              "    </tr>\n",
              "    <tr>\n",
              "      <td>2500</td>\n",
              "      <td>2.693100</td>\n",
              "    </tr>\n",
              "    <tr>\n",
              "      <td>3000</td>\n",
              "      <td>2.513600</td>\n",
              "    </tr>\n",
              "    <tr>\n",
              "      <td>3500</td>\n",
              "      <td>2.353100</td>\n",
              "    </tr>\n",
              "    <tr>\n",
              "      <td>4000</td>\n",
              "      <td>2.235400</td>\n",
              "    </tr>\n",
              "  </tbody>\n",
              "</table><p>"
            ]
          },
          "metadata": {}
        },
        {
          "output_type": "stream",
          "name": "stderr",
          "text": [
            "Saving model checkpoint to results/checkpoint-500\n",
            "Configuration saved in results/checkpoint-500/config.json\n",
            "Model weights saved in results/checkpoint-500/pytorch_model.bin\n",
            "tokenizer config file saved in results/checkpoint-500/tokenizer_config.json\n",
            "Special tokens file saved in results/checkpoint-500/special_tokens_map.json\n",
            "Deleting older checkpoint [results/checkpoint-3000] due to args.save_total_limit\n",
            "Saving model checkpoint to results/checkpoint-1000\n",
            "Configuration saved in results/checkpoint-1000/config.json\n",
            "Model weights saved in results/checkpoint-1000/pytorch_model.bin\n",
            "tokenizer config file saved in results/checkpoint-1000/tokenizer_config.json\n",
            "Special tokens file saved in results/checkpoint-1000/special_tokens_map.json\n",
            "Deleting older checkpoint [results/checkpoint-3500] due to args.save_total_limit\n",
            "Saving model checkpoint to results/checkpoint-1500\n",
            "Configuration saved in results/checkpoint-1500/config.json\n",
            "Model weights saved in results/checkpoint-1500/pytorch_model.bin\n",
            "tokenizer config file saved in results/checkpoint-1500/tokenizer_config.json\n",
            "Special tokens file saved in results/checkpoint-1500/special_tokens_map.json\n",
            "Deleting older checkpoint [results/checkpoint-4000] due to args.save_total_limit\n",
            "Saving model checkpoint to results/checkpoint-2000\n",
            "Configuration saved in results/checkpoint-2000/config.json\n",
            "Model weights saved in results/checkpoint-2000/pytorch_model.bin\n",
            "tokenizer config file saved in results/checkpoint-2000/tokenizer_config.json\n",
            "Special tokens file saved in results/checkpoint-2000/special_tokens_map.json\n",
            "Deleting older checkpoint [results/checkpoint-500] due to args.save_total_limit\n",
            "Saving model checkpoint to results/checkpoint-2500\n",
            "Configuration saved in results/checkpoint-2500/config.json\n",
            "Model weights saved in results/checkpoint-2500/pytorch_model.bin\n",
            "tokenizer config file saved in results/checkpoint-2500/tokenizer_config.json\n",
            "Special tokens file saved in results/checkpoint-2500/special_tokens_map.json\n",
            "Deleting older checkpoint [results/checkpoint-1000] due to args.save_total_limit\n",
            "Saving model checkpoint to results/checkpoint-3000\n",
            "Configuration saved in results/checkpoint-3000/config.json\n",
            "Model weights saved in results/checkpoint-3000/pytorch_model.bin\n",
            "tokenizer config file saved in results/checkpoint-3000/tokenizer_config.json\n",
            "Special tokens file saved in results/checkpoint-3000/special_tokens_map.json\n",
            "Deleting older checkpoint [results/checkpoint-1500] due to args.save_total_limit\n",
            "Saving model checkpoint to results/checkpoint-3500\n",
            "Configuration saved in results/checkpoint-3500/config.json\n",
            "Model weights saved in results/checkpoint-3500/pytorch_model.bin\n",
            "tokenizer config file saved in results/checkpoint-3500/tokenizer_config.json\n",
            "Special tokens file saved in results/checkpoint-3500/special_tokens_map.json\n",
            "Deleting older checkpoint [results/checkpoint-2000] due to args.save_total_limit\n",
            "Saving model checkpoint to results/checkpoint-4000\n",
            "Configuration saved in results/checkpoint-4000/config.json\n",
            "Model weights saved in results/checkpoint-4000/pytorch_model.bin\n",
            "tokenizer config file saved in results/checkpoint-4000/tokenizer_config.json\n",
            "Special tokens file saved in results/checkpoint-4000/special_tokens_map.json\n",
            "Deleting older checkpoint [results/checkpoint-2500] due to args.save_total_limit\n",
            "\n",
            "\n",
            "Training completed. Do not forget to share your model on huggingface.co/models =)\n",
            "\n",
            "\n"
          ]
        },
        {
          "output_type": "execute_result",
          "data": {
            "text/plain": [
              "TrainOutput(global_step=4384, training_loss=2.8161683883110102, metrics={'train_runtime': 3010.1358, 'train_samples_per_second': 46.555, 'train_steps_per_second': 1.456, 'total_flos': 2.136150707798016e+16, 'train_loss': 2.8161683883110102, 'epoch': 8.0})"
            ]
          },
          "metadata": {},
          "execution_count": 40
        }
      ]
    },
    {
      "cell_type": "markdown",
      "metadata": {
        "id": "V3C-4SfOPssY"
      },
      "source": [
        "Evaluate after fine-tuning"
      ]
    },
    {
      "cell_type": "code",
      "metadata": {
        "id": "_-QyUtCRH9DO",
        "colab": {
          "base_uri": "https://localhost:8080/",
          "height": 263
        },
        "outputId": "014a31cd-8bfa-4588-9c3d-298e959aec4a"
      },
      "source": [
        "trainer.evaluate()"
      ],
      "execution_count": null,
      "outputs": [
        {
          "output_type": "stream",
          "name": "stderr",
          "text": [
            "***** Running Evaluation *****\n",
            "  Num examples = 973\n",
            "  Batch size = 32\n"
          ]
        },
        {
          "output_type": "display_data",
          "data": {
            "text/plain": [
              "<IPython.core.display.HTML object>"
            ],
            "text/html": [
              "\n",
              "    <div>\n",
              "      \n",
              "      <progress value='62' max='31' style='width:300px; height:20px; vertical-align: middle;'></progress>\n",
              "      [31/31 1:22:36]\n",
              "    </div>\n",
              "    "
            ]
          },
          "metadata": {}
        },
        {
          "output_type": "execute_result",
          "data": {
            "text/plain": [
              "{'epoch': 8.0,\n",
              " 'eval_gen_len': 351.0,\n",
              " 'eval_loss': 3.6922292709350586,\n",
              " 'eval_rouge1': 17.8533,\n",
              " 'eval_rouge2': 7.0441,\n",
              " 'eval_rougeL': 13.0016,\n",
              " 'eval_rougeLsum': 16.6201,\n",
              " 'eval_runtime': 846.3294,\n",
              " 'eval_samples_per_second': 1.15,\n",
              " 'eval_steps_per_second': 0.037}"
            ]
          },
          "metadata": {},
          "execution_count": 41
        }
      ]
    },
    {
      "cell_type": "code",
      "metadata": {
        "id": "ClRTrG2ETUm3",
        "colab": {
          "base_uri": "https://localhost:8080/",
          "height": 586,
          "referenced_widgets": [
            "fa5a304fb100464585b9bf0586bab291",
            "f381aa6f169a4a9a8b236d8bdcca6706",
            "72cc47445ca44be5ab53b43b7f823aa7",
            "619a6a41586a422f86079ab98fd60427",
            "8f31d19260eb44a08020d56af6533fc3",
            "1af16d2b85ca4cba986631a16ab6b70c",
            "51341fe99d9b4c50b03476fbe6134d08",
            "deaee26037b94e639d5186716743dab9"
          ]
        },
        "outputId": "831c7f70-b825-4fbf-ce2e-01b726111033"
      },
      "source": [
        "if WANDB_INTEGRATION:\n",
        "    wandb_run.finish()"
      ],
      "execution_count": null,
      "outputs": [
        {
          "output_type": "stream",
          "name": "stdout",
          "text": [
            "\n"
          ]
        },
        {
          "output_type": "display_data",
          "data": {
            "text/plain": [
              "<IPython.core.display.HTML object>"
            ],
            "text/html": [
              "Waiting for W&B process to finish... <strong style=\"color:green\">(success).</strong>"
            ]
          },
          "metadata": {}
        },
        {
          "output_type": "display_data",
          "data": {
            "text/plain": [
              "VBox(children=(Label(value='0.001 MB of 0.001 MB uploaded (0.000 MB deduped)\\r'), FloatProgress(value=1.0, max…"
            ],
            "application/vnd.jupyter.widget-view+json": {
              "version_major": 2,
              "version_minor": 0,
              "model_id": "fa5a304fb100464585b9bf0586bab291"
            }
          },
          "metadata": {}
        },
        {
          "output_type": "display_data",
          "data": {
            "text/plain": [
              "<IPython.core.display.HTML object>"
            ],
            "text/html": [
              "<style>\n",
              "    table.wandb td:nth-child(1) { padding: 0 10px; text-align: right }\n",
              "    .wandb-row { display: flex; flex-direction: row; flex-wrap: wrap; width: 100% }\n",
              "    .wandb-col { display: flex; flex-direction: column; flex-basis: 100%; flex: 1; padding: 10px; }\n",
              "    </style>\n",
              "<div class=\"wandb-row\"><div class=\"wandb-col\"><h3>Run history:</h3><br/><table class=\"wandb\"><tr><td>eval/gen_len</td><td>█▁</td></tr><tr><td>eval/loss</td><td>█▁</td></tr><tr><td>eval/rouge1</td><td>█▁</td></tr><tr><td>eval/rouge2</td><td>█▁</td></tr><tr><td>eval/rougeL</td><td>█▁</td></tr><tr><td>eval/rougeLsum</td><td>█▁</td></tr><tr><td>eval/runtime</td><td>█▁</td></tr><tr><td>eval/samples_per_second</td><td>▁█</td></tr><tr><td>eval/steps_per_second</td><td>▁█</td></tr><tr><td>train/epoch</td><td>▁▂▃▄▅▆▆▇██</td></tr><tr><td>train/global_step</td><td>▁▂▃▃▄▅▆▇▇██</td></tr><tr><td>train/learning_rate</td><td>█▇▆▅▄▃▂▁</td></tr><tr><td>train/loss</td><td>█▆▅▄▃▂▂▁</td></tr><tr><td>train/total_flos</td><td>▁</td></tr><tr><td>train/train_loss</td><td>▁</td></tr><tr><td>train/train_runtime</td><td>▁</td></tr><tr><td>train/train_samples_per_second</td><td>▁</td></tr><tr><td>train/train_steps_per_second</td><td>▁</td></tr></table><br/></div><div class=\"wandb-col\"><h3>Run summary:</h3><br/><table class=\"wandb\"><tr><td>eval/gen_len</td><td>351.0</td></tr><tr><td>eval/loss</td><td>3.69223</td></tr><tr><td>eval/rouge1</td><td>17.8533</td></tr><tr><td>eval/rouge2</td><td>7.0441</td></tr><tr><td>eval/rougeL</td><td>13.0016</td></tr><tr><td>eval/rougeLsum</td><td>16.6201</td></tr><tr><td>eval/runtime</td><td>846.3294</td></tr><tr><td>eval/samples_per_second</td><td>1.15</td></tr><tr><td>eval/steps_per_second</td><td>0.037</td></tr><tr><td>train/epoch</td><td>8.0</td></tr><tr><td>train/global_step</td><td>4384</td></tr><tr><td>train/learning_rate</td><td>3e-05</td></tr><tr><td>train/loss</td><td>2.2354</td></tr><tr><td>train/total_flos</td><td>2.136150707798016e+16</td></tr><tr><td>train/train_loss</td><td>2.81617</td></tr><tr><td>train/train_runtime</td><td>3010.1358</td></tr><tr><td>train/train_samples_per_second</td><td>46.555</td></tr><tr><td>train/train_steps_per_second</td><td>1.456</td></tr></table><br/></div></div>"
            ]
          },
          "metadata": {}
        },
        {
          "output_type": "display_data",
          "data": {
            "text/plain": [
              "<IPython.core.display.HTML object>"
            ],
            "text/html": [
              "Synced <strong style=\"color:#cdcd00\">nemesis-unimatrix-2</strong>: <a href=\"https://wandb.ai/zeroranger/BART_GOVREP_FT/runs/16whxol4\" target=\"_blank\">https://wandb.ai/zeroranger/BART_GOVREP_FT/runs/16whxol4</a><br/>Synced 5 W&B file(s), 0 media file(s), 0 artifact file(s) and 0 other file(s)"
            ]
          },
          "metadata": {}
        },
        {
          "output_type": "display_data",
          "data": {
            "text/plain": [
              "<IPython.core.display.HTML object>"
            ],
            "text/html": [
              "Find logs at: <code>./wandb/run-20220405_230239-16whxol4/logs</code>"
            ]
          },
          "metadata": {}
        }
      ]
    },
    {
      "cell_type": "markdown",
      "metadata": {
        "id": "-gSLVnGL9bol"
      },
      "source": [
        "## Evaluation\n",
        "\n",
        "---"
      ]
    },
    {
      "cell_type": "markdown",
      "metadata": {
        "id": "hDwj24cfILS6"
      },
      "source": [
        "**Generate summaries from the fine-tuned model and compare them with those generated from the original, pre-trained one.**"
      ]
    },
    {
      "cell_type": "code",
      "metadata": {
        "id": "NV64-XdA_rOM",
        "colab": {
          "base_uri": "https://localhost:8080/"
        },
        "outputId": "b27afe8c-dc73-4f96-c61c-d3b12f3baaa0"
      },
      "source": [
        "def generate_summary(test_samples, model):\n",
        "    inputs = tokenizer(\n",
        "        test_samples[\"report\"],\n",
        "        padding=\"max_length\",\n",
        "        truncation=True,\n",
        "        max_length=encoder_max_length,\n",
        "        return_tensors=\"pt\",\n",
        "    )\n",
        "    input_ids = inputs.input_ids.to(model.device)\n",
        "    attention_mask = inputs.attention_mask.to(model.device)\n",
        "    outputs = model.generate(input_ids, attention_mask=attention_mask)\n",
        "    output_str = tokenizer.batch_decode(outputs, skip_special_tokens=True)\n",
        "    return outputs, output_str\n",
        "\n",
        "\n",
        "model_before_tuning = AutoModelForSeq2SeqLM.from_pretrained(model_name)\n",
        "\n",
        "test_samples = validation_data_txt.select(range(16))\n",
        "\n",
        "summaries_before_tuning = generate_summary(test_samples, model_before_tuning)[1]\n",
        "summaries_after_tuning = generate_summary(test_samples, model)[1]"
      ],
      "execution_count": null,
      "outputs": [
        {
          "output_type": "stream",
          "name": "stderr",
          "text": [
            "loading configuration file https://huggingface.co/facebook/bart-base/resolve/main/config.json from cache at /root/.cache/huggingface/transformers/f5310d276a6d1648d00c32fadc8bf7b4607e0fbd5b404fc4a0045960aa2bdfdb.a243ed957122436adb0b8d8e9d20f896f45c174b6324d625ca0a20a84f72a910\n",
            "Model config BartConfig {\n",
            "  \"_name_or_path\": \"facebook/bart-base\",\n",
            "  \"activation_dropout\": 0.1,\n",
            "  \"activation_function\": \"gelu\",\n",
            "  \"add_bias_logits\": false,\n",
            "  \"add_final_layer_norm\": false,\n",
            "  \"architectures\": [\n",
            "    \"BartModel\"\n",
            "  ],\n",
            "  \"attention_dropout\": 0.1,\n",
            "  \"bos_token_id\": 0,\n",
            "  \"classif_dropout\": 0.1,\n",
            "  \"classifier_dropout\": 0.0,\n",
            "  \"d_model\": 768,\n",
            "  \"decoder_attention_heads\": 12,\n",
            "  \"decoder_ffn_dim\": 3072,\n",
            "  \"decoder_layerdrop\": 0.0,\n",
            "  \"decoder_layers\": 6,\n",
            "  \"decoder_start_token_id\": 2,\n",
            "  \"dropout\": 0.1,\n",
            "  \"early_stopping\": true,\n",
            "  \"encoder_attention_heads\": 12,\n",
            "  \"encoder_ffn_dim\": 3072,\n",
            "  \"encoder_layerdrop\": 0.0,\n",
            "  \"encoder_layers\": 6,\n",
            "  \"eos_token_id\": 2,\n",
            "  \"forced_bos_token_id\": 0,\n",
            "  \"forced_eos_token_id\": 2,\n",
            "  \"gradient_checkpointing\": false,\n",
            "  \"id2label\": {\n",
            "    \"0\": \"LABEL_0\",\n",
            "    \"1\": \"LABEL_1\",\n",
            "    \"2\": \"LABEL_2\"\n",
            "  },\n",
            "  \"init_std\": 0.02,\n",
            "  \"is_encoder_decoder\": true,\n",
            "  \"label2id\": {\n",
            "    \"LABEL_0\": 0,\n",
            "    \"LABEL_1\": 1,\n",
            "    \"LABEL_2\": 2\n",
            "  },\n",
            "  \"max_position_embeddings\": 1024,\n",
            "  \"model_type\": \"bart\",\n",
            "  \"no_repeat_ngram_size\": 3,\n",
            "  \"normalize_before\": false,\n",
            "  \"normalize_embedding\": true,\n",
            "  \"num_beams\": 4,\n",
            "  \"num_hidden_layers\": 6,\n",
            "  \"pad_token_id\": 1,\n",
            "  \"scale_embedding\": false,\n",
            "  \"task_specific_params\": {\n",
            "    \"summarization\": {\n",
            "      \"length_penalty\": 1.0,\n",
            "      \"max_length\": 128,\n",
            "      \"min_length\": 12,\n",
            "      \"num_beams\": 4\n",
            "    },\n",
            "    \"summarization_cnn\": {\n",
            "      \"length_penalty\": 2.0,\n",
            "      \"max_length\": 142,\n",
            "      \"min_length\": 56,\n",
            "      \"num_beams\": 4\n",
            "    },\n",
            "    \"summarization_xsum\": {\n",
            "      \"length_penalty\": 1.0,\n",
            "      \"max_length\": 62,\n",
            "      \"min_length\": 11,\n",
            "      \"num_beams\": 6\n",
            "    }\n",
            "  },\n",
            "  \"torch_dtype\": \"float32\",\n",
            "  \"transformers_version\": \"4.17.0\",\n",
            "  \"use_cache\": true,\n",
            "  \"vocab_size\": 50265\n",
            "}\n",
            "\n",
            "loading weights file https://huggingface.co/facebook/bart-base/resolve/main/pytorch_model.bin from cache at /root/.cache/huggingface/transformers/486355ec722ef05fd480e999d4c763be56549ae930f6a3742ee721a5d2a05647.f2f355ad2775769afc60592b43a46d72ca548375e3a1d65f381a751e711cbadd\n",
            "All model checkpoint weights were used when initializing BartForConditionalGeneration.\n",
            "\n",
            "All the weights of BartForConditionalGeneration were initialized from the model checkpoint at facebook/bart-base.\n",
            "If your task is similar to the task the model of the checkpoint was trained on, you can already use BartForConditionalGeneration for predictions without further training.\n"
          ]
        }
      ]
    },
    {
      "cell_type": "code",
      "metadata": {
        "id": "D7IPtJLjCcmS",
        "colab": {
          "base_uri": "https://localhost:8080/"
        },
        "outputId": "5992bdf4-da3e-4252-ad4a-2509c14adbfd"
      },
      "source": [
        "print(\n",
        "    tabulate(\n",
        "        zip(\n",
        "            range(len(summaries_after_tuning)),\n",
        "            summaries_after_tuning,\n",
        "            summaries_before_tuning,\n",
        "        ),\n",
        "        headers=[\"Id\", \"Summary after\", \"Summary before\"],\n",
        "    )\n",
        ")\n",
        "print(\"\\nTarget summaries:\\n\")\n",
        "print(\n",
        "    tabulate(list(enumerate(test_samples[\"summary\"])), headers=[\"Id\", \"Target summary\"])\n",
        ")\n",
        "# print(\"\\nSource documents:\\n\")\n",
        "# print(tabulate(list(enumerate(test_samples[\"text\"])), headers=[\"Id\", \"Document\"]))"
      ],
      "execution_count": null,
      "outputs": [
        {
          "output_type": "stream",
          "name": "stdout",
          "text": [
            "  Id  Summary after                                                                                                                                                                                                                                                                                                                                                                                                                                                                                                                                                                                                                                                                                                                                                                                                                                                                                                                                                                                                                                                                                                                                                                                                                                                                                                                                                                                                                                                                                                                                Summary before\n",
            "----  -------------------------------------------------------------------------------------------------------------------------------------------------------------------------------------------------------------------------------------------------------------------------------------------------------------------------------------------------------------------------------------------------------------------------------------------------------------------------------------------------------------------------------------------------------------------------------------------------------------------------------------------------------------------------------------------------------------------------------------------------------------------------------------------------------------------------------------------------------------------------------------------------------------------------------------------------------------------------------------------------------------------------------------------------------------------------------------------------------------------------------------------------------------------------------------------------------------------------------------------------------------------------------------------------------------------------------------------------------------------------------------------------------------------------------------------------------------------------------------------------------------------------------------------  ----------------------------------------------------------------------------------------------------------------------------\n",
            "   0  FDA and USDA have responsibility for ensuring the safety of roughly 80 percent of the U.S. food supply, including $417 billion worth of domestic food and $49 billion in imported food annually. FDA and USDA are also responsible for ensuring food safety, but their inspection rates vary depending on the circumstances surrounding the and and. and.. and and and, and,... ( and and) and and of. and,, and., and and to. and ( and, of and and () and of, and of) and, ( and of and. of and, to and and: and, respectively, and (1) and. GAO, respectively. GA, respectively: and and the federal and and GAO and the and the) and the, and to and. (. and of ( and.) and (, and) of and of of and to, and is and,) and)..,. and the. and), and:. and to ( and (.. of,. of..). and is, and the of and ( of and)) and to the and of the federal, and for and and federal and, the federal. and federal, respectively; and and in and and its and and for the federal governments, respectively and and governments, and GA and and have and and are and and a and and). and and's and and- and and not and and is. and for. and: of and the ( and to: and. to and,: and of to and of: and ( ( and) the and, for and, in and of a and, is and and; and, are and,                                                                                                                                                                                                                                                                         In our prior work, we have found that technological innovation involves not only creating new ideas\n",
            "   1  The Environmental Protection Agency's (EPA) Federal Advisory Committee Management Division (FACA) is responsible for ensuring that EPA's advisory committees comply with applicable federal laws and regulations. The committee report accompanying the Consolidated Appropriations Act, 2012, directed GAO to review EPA's implementation of the Federal Advisory committee Management Act. and and and. and... and, and and,. and) and., and.) and and)..,.. of. and of and and of, and,, and of..). and ( and and: and. of and, of and. ( and, to and and () and,) and of the federal. and: (1, and (1) and:) and the federal, and:. and the and and to and,: and, ( and of: and of) and)) and (, and) of and), and to..: and and the. and to, and the, and- and and's and and). and.:.. (. and's, and is and and is. and is, and for and and for, and its and, respectively,, of.) of the congressional, and federal and and federal, respectively. and GAO, and GA, and's. and its. and a and and its, and in and and a, and; and, for and. to. and for. and-. and;. andant and and-, andant, and a. andO and andant.. to and.1 and andO. and have and and are and and;, and are. and are of and: of and of of and                                                                                                                                                                                                                                                                                                                      A variety of federal laws, regulations, and policies establish requirements and guidance for EPA to\n",
            "   2  According to the National Research Council, climate change poses serious risks to many of the physical and ecological systems on which society depends. Moreover, the effects and costs of extreme weather events such as floods and droughts will increase in significance as what are considered rare events become more common and intense because of climate change. and and and (1) and and, and and. and () and ( and and of and and to and and) and of. and, of and, (1. and of) and to. and to (1, and, to and to, and of the federal government, the United States, however, the federal and state and federal governments and governments and the federal governments, including federal and DOD, DOD and DOD and the congressional and federal and federal agencies and the national and,, and to of and of, and the and and the) and,. and. ( and of ( and,) and. of and (. and) of and to) and the of and.. and the, and (, and) to and of of and the governing and and governments, and federal government and the governments and and federal policies and the government, and its governments and to the federal agencies, governments and agencies, and their governments, governments, respectively, and governments. The United States and the nation's governments, however and, respectively and and for and and in and and is and, for and, in, and in, of, ( and the ( and ( of and) the federal, and for, and is, and a and and: and and a, and., and: ( and to: and, is and and by, and by and and are and and its  According to the National Research Council, although the exact details cannot be predicted with certainty,\n",
            "   3  Nursing homes must meet federal standards to participate in the Medicare and Medicaid programs. CMS, an agency within the Department of Health and Human Services (HHS), is responsible for ensuring the quality of care for these homes. GAO was asked to review CMS's nursing home standards. This report examines (1) and and and. and and, and and) and... and,. and.) and,, and., and). and ( and and () and (. and)) and the and and of and and to and and the. and the federal and state, and the state. and federal and federal, and federal government, and its and federal agencies, and of the federal government and the congressional and state and federal federal and and: (1, and, of and, the federal. and: and. of. and of, and to, and:) and of.. ( and,) and) the..)..,.. of and.: and and is. and to. and is and and federal) and:. and). and and their and and national and and state) and federal. federal and the national and federal governments and the government. and state governments, and GAO and the states, and their governments, respectively, and related agencies and their agencies and the) federal and, respectively. (1 and and for and and- and, to and, ( and of: ( and the, and (1. of the and,: and, for and. the and of of and of) and to the and) of and the of and), and for, and is, and a and and GA, and national.                                                                                                                                                                       Nursing homes are required to keep residents safe from harm, but when abuse is\n",
            "   4  Pursuant to a congressional request, GAO provided information on the Department of Energy's (DOE) management and cost of its Mixed Level Waste (HLW) reengineering project, focusing on: (1) the status of EM's IWTU reengineering program; (2) EM's and and and. and.. and (1. and and, and. (. and) and and (... ( and and: and and of. and,. and: () and ( and, of and and). and of: ( and () the (1, and, to and and to: (: and of) the federal and) the. and its. and the ( and its and of and, (1: and,, and of, and (: (.) and. of.. of and ( ( and) of and., and and the and,) and,: and.: and (, and:) and of of. of: and: of and of (. of) and)) and:. and to and, respectively, and the. (1 and and- and, for and and a and andant. of the federal, and to (1). and and for and of the national, and) national and and is and, the and and not and and). and. to. and is. and a. and-. and's and, is and and1.., of.) of, of, ( and.1. of ( and of- and andO. andant and and's ( and:: and to, and a, and is of and the, and's. and                                                                                                                                                                                                                                                                                                                                                                                                                                                                                               This section provides an overview of (1) the legal framework governing mixed HLW,\n",
            "   5  The federal government is increasingly reliant on information technology (IT) to communicate with the public. Agencies can use tools such as the internet and the Internet that can collect some identity information from commenters. In addition, agencies may choose to collect identity information by requiring commenters to fill in other fields, such as name, and... and. and and and, and and. of. and,.. ( and and) and., and,, and of.. of and and of, and to..) and, of and, to. and of and of) and and to, and ( and, in and and for and and is and and by. and other of the federal. and to and and in and of the, and by and and (1) and of of and. (. and)..,. and (..1. and: and, ( and. to and.). and the and and). and and:.. to.,,,. of,., of,, of. of ( and of: and and not. and is. and not, and for. and for, and the federal and and the. and federal, and not and, for and, respectively, and in, and at and and have. and by, and have and, including and and at. and in. and a and and ). and andclusions, and: of and (, and) of., to and,: and.1 and and a. and).. and-..). and.: and () and ( of and), and a, and is, and ).. and have, and emphasis and and emphasis, and                                                                                                                                                                                                                                                                                                                                    Consistent with the discretion afforded by the APA, Regulations.gov and agency-\n",
            "   6  Pursuant to a congressional request, GAO provided information on the Medicare hospice benefit, focusing on: (1) the extent to which Medicare beneficiaries with terminal illness receive hospice care; (2) the factors that contribute to the increase in hospice payments; and (3) beneficiaries' use and and.. GAO: and (1. and. and and) and and and, and,... and (. and,, and and () and, of and and of. and of, and ( and, to and and: and and to and, respectively, and of the federal and state and federal, and the federal, federal and federal and national and state. GA. and the congressional. and) the federal. and: ( and and the) and. of and,) and the.., and. ( and.) and of and.,,. and to, and), and to.. of..)) and)..: and, ( and of) and (, and:. and's and, the and and national, and national. and federal.. (. of, respectively. and GAO, and GA, and congressional, and federal governments and the national and federal federal, respectively: and of of the national, respectively; and, for and and for, and for and, including, and). and,: and. to and of: and:) and to ( and the, and's, and- and and a and and's. and a, and is and and-, and not and and is, andant and andant, and respectively,,, of, of the. and congressional and                                                                                                                                                                                                                                                                     To be eligible for the Medicare hospice benefit, an individual must be able to receive\n",
            "   7  IRS relies extensively on computerized systems to carry out its mission of collecting taxes, processing tax returns, and enforcing the nation's tax laws. Effective information security controls are essential to protecting financial and taxpayer information and systems from inadvertent or deliberate misuse, improper modification, or destruction. GAO was asked to review) and and and, and and (1) and. and and.. and,, and, of and and) and,. and ( and and of, and of. and.) and of and, (1, and () and to and and to (1 and, respectively, GAO, and the federal government and the government and federal agencies and the nation, IRS and its and its federal and state and federal governments, and to) and the national and federal and and the and and: and, to, and. of and. ( and, the federal and,) and (, and: ( and., and) of and of) and). and of: and and is and and). and and federal, and is. and the, and federal. and federal) and federal government, and national and and national, and state governments and and government and and private and federal officials, and their governments and federal federal governments and governments, respectively and to, respectively; and and GAO and the congressional and and their and and other, and GA and and's and andant and and ). and and- and and for and and not and andO and and a, and's, and a and and reported and and respectively, andant. and to. and) the and of the and,: and of ( and of of and) federal and federal ( and the.                  Federal agencies are dependent on computerized (cyber) information systems and electronic data to\n",
            "   8  The Child Care and Development Block Grant (CCDBG) Act, as amended, is the main federal law governing state child-care programs for low-income working families. The act was reauthorized in 2014, and the reauthorization included a focus on improving the overall quality of child- care services and and and. and and, and and ( and and) and... and,. and., and,, and.) and and to and and of. and of and and: and and the and, of and, ( and, to, and of, and (1) and of the federal and state and federal, and to. The federal government, including the federal government and the federal, state and state, and federal federal and federal and and federal government. and the, and: ( and. ( and of) and,) and (. and (, and). and) of and. of and () and), and a and and is and, the and and a, and is. and to,,, of.. of,,.. (. of the and federal. and federal) and the national, and state. and state governments and the state and and local governments, the federal governments, and states and the government, and national and federal agencies and the governing and federal governments and, for and and governing the federal federal, the. and national. and a. and:. and- and and for, and for and,: and, in and and in, and's and andO and and's, andO, and in and, a and of: and of of and of ( and the of and the ( and) federal and                                                                                                                                                                             The Child Care and Development Block Grant (CCDBG) Act, as amended,\n",
            "   9  Pursuant to a congressional request, GAO provided information on the Office of Management and Budget's (OMB) implementation of the Program Improvement Act of 1996, focusing on: (1) OMB's progress in implementing the PMIAA; (2) OPM's efforts to improve program and and and.. and. and and, and and) and and of...) and,. and,, and, of. and () and of and and (. and of, and. of and,) and. ( and and to, and of: and and: and, to and and the federal. and the congressional and congressional. and) the federal government and federal and state, and federal agencies and the government and and federal, and the and and congressional) and the. and: ( and, ( and., and ( and of) and) of and.)) and to and,: and.1. and to.. of. of, of and of the and of of and the, and:) and (1, and to) and: of,. of the federal and and national, and national and and state and federal governments and, respectively, the federal governments, respectively. and federal government, respectively; and, for and and for the federal agencies, and congressional, and) federal and federal of the national and, the and, in and and is and and- and and a and andant and and's and and). and andO..,,., of,,, of of.). and a, and is, and's, and for and, a and, is and of- and,'s and of (                                                                                                                                                                                                                                                 According to the Senate Committee on Homeland Security and Governmental Affairs report concerning PMIAA\n",
            "  10  abuse in nursing homes is often underreported by residents, family, staff, and the state survey agency. However, over the past 5 years, allegations of abuse have more than doubled—from 430 in 2013 to 875 in 2017. In light of the increased number and severity of abuse deficiencies, it is imperative) and and and. and and, and and) and.. and.) and,. and,, and)... ( and and of and and to and and () and)) and of, and, of. and the federal and state and federal, federal, and federal and federal. GAO, however, GAO and, respectively, CMS and the Congress, CMS, the federal agencies and the government and the nation, including the federal government, and GAO) and the governing and and the national and and: and and for and and is, and to. and ( and, to, and., and (. and of the and,) and (, and of) and to,..,, the and and federal federal and and GA and the congressional and and its and the states and the and federal governments, have and and their agencies, have. The federal agencies, are concerned, and its agencies, and their governments, are engaged, in efforts to improve care and policies and initiatives to improve the care and management of the federal federal government and, for the federal governments and, ( and. of and, in the federal. and: ( and of: and, the. and to ( and the, and for, and is and and- and and in, and:. and) the federal) and federal) federal and the ( and federal government.                                                                             In our June 2019 report, we found that, while abuse deficiencies cited in nursing homes\n",
            "  11  VA pays disability compensation to veterans with disabling conditions caused or aggravated by their military service. The benefit is based on an average reduction in earning capacity across a group of individuals with similar physical or mental impairments. Veterans may claim more than one medical condition, and VBA assigns a rating percentage for each condition determined to and and and. and and, and and) and... and., and.) and and ( and and of. and,, and,) and, of and and to and, ( and,. and of, and to. and to, and of and, respectively. GAO and the federal and state and federal and federal. GA. GA and, to the extent, V, and the number and size, and for and and the services and services, the federal, and: and and for, and (1. and (. and the and and: ( and. of and of) and (, and) of and. ( and of the and,: and, for and, the and of of and () and the, and is and and). and and ). and and a and and federal, respectively, respectively) and of services, and services and and services of the federal agencies and programs and programs, and their services and policies and policies. and services. and characteristics of the services, respectively; and, in and and its and the way, and a, and federal- and and is, and- and of: and.: and of ( and the of and the. and:. and), and). of and to ( and ( of and)) and) the and the national and and national, and in and, a and of federal and                                                                                                 VA pays monthly disability compensation to veterans with disabling conditions caused or aggravated by their military service\n",
            "  12  Foreign students may be admitted to the United States for an authorized period of stay. ICE, within the Department of Homeland Security (DHS), is responsible for monitoring foreign students' compliance with the Student and Exchange Visitor and Immigrant Status Indicator Technology (SEVP) program. This testimony discusses (1) and and and, and and (2) and. and and.. and,, and,) and,. and., and.) and of and and to and and) and the and and of. and of, and to. and to, and of the federal and state, and the federal, and federal. GAO and and the congressional and federal agencies, respectively, and (1 and, to and, respectively. GA, and GAO, respectively: and and for and and: and, of and. ( and and is. and ( and, ( and. of and, the and, for and. to and of) and to) and). and)) and (. and the, and), and a and and). and and a, and is and and in and and GA and and; and and ). and and by and and at and and emphasis, and: (1, and emphasis of the extent of and to the extent, and for federal and federal and national, and its and the extent. and for the and of of and of (1. and:) and for, and- and andO, andO. and is of and) of and () and:. and a. and-, and not and and have and and's and andant and and national and and not, and in, and have, and are and and                                                                                                                                                                                                                                   Foreign students interested in studying in the United States must first be admitted to an SEVP\n",
            "  13  Zika is a mosquito-borne illness that can cause adverse pregnancy outcomes, including microcephaly, which can cause severe brain defects, and severe birth defects. In 2015, the Centers for Disease Control and Prevention (CDC) reported that Zika was detected in Yap State, Federated States of Micrones) and and. and and and, and,, and... and,. and. of. and) and., and and to. and of and and of, and of) and, of and. ( and and (1) and ( and, to, and to and and in and and the and of the United States, GAO, and GAO and others, respectively. GAO) and the federal and federal and state and federal agencies and the congressional and state, and federal, and the national and and: and and). and (. and to,..) and of.. of and, ( and. to and.)..,,. of, of. of ( and (, and () and to ( and of of and of: and, respectively, and for and and GA and and federal. and federal governments, and its and and governments, respectively; and, the federal governments and governments and agencies, respectively and and their agencies and agencies and and national governments and and agencies. GA, respectively) and GA, and: (1, and) respectively, respectively). and and is and and for, and a and and). and, for. and the. and a, and- and andant and and a. and:. and is of and to of and the, and respectively, the and and reported and and way and and                                                                                                                                                             Zika is spread to people primarily through the bite of an infected mosquito but can also\n",
            "  14  Thailand is the world's eighth-largest catch of seafood and ninth-largest source of forced labor, according to the Department of Commerce's National Oceanic and Atmospheric Administration (NOAA). With an estimated 230,000 workers employed on U.S.-flagged vessels and processing facilities worldwide, this population has and and. and and and, and, of. and.. and,. and (. and of... of and and of, and and ( and,, and of and. of) and and) and, to and and to, and to. and to and, ( and and is and and: (1, and (1 and, respectively, and in and and for and and in, and for, and at and and the and, in, of and of of and, is, and. ( and of: and,) and of ( and.) and., and: and of) of. of, of,. of. (. of of of,, of of.) of and () and (, and is. and: of and to ( and) of, the and and are and and have and and at, and are. and in. and the way, and have. and have, of the way and, for and of the U..S. and not and and not, and not. and is, of: ( and ( ( and to: and andant and and a and and). and,: and.: and ( of and the, and the of and:. and a, and a of and is of of the and of is and of a and, are and, not and, a. and)                                                                                                                                                                                                                                                                                                                                                                                      Prevalence of Forced Labor in Thailand A 2020 report by the United Nation’\n",
            "  15  The Department of Defense's (DOD) Special Operations Command (SOCOM) has a unique structure and responsibilities in that it has both combatant command responsibilities and military service-like functions for organizing, training, and equipping SOF. In response to a mandate in the National Defense Authorization Act for Fiscal () and and and.. and. and, and and,... ( and and (. and and) and. (..) and ( and,, and,) and, of and and of. and of, and. of and, ( and of and (1, and of) and of (1 and, to and, respectively, and ( (1) and) of and of the congressional. and (2, and to and and: ( and (, and: and and to, and)..,. and) ( and.,,,. ( ( and), and the and and is and.). and:.. of,. of. (,, of,, (., and is. and to. and- and and). and, for and and for and, in and and in and of of, the ( and to) and to (1. and for, and for. and the (1 of, respectively and and-, and- ( and: of and)) and the, and a and and the. and is of and.- and,: and, is and andant and and have and and's and and a, and respectively,., (, ( (.) of, ( of, of ( and is, andant, and not and and respectively. and's, and's                                                                                                                                                                                                                                                                                                                                                                                                         SOCOM has a unique structure and responsibilities in that it has both combatant command\n",
            "\n",
            "Target summaries:\n",
            "\n",
            "  Id  Target summary\n",
            "----  ----------------------------------------------------------------------------------------------------------------------------------------------------------------------------------------------------------------------------------------------------------------------------------------------------------------------------------------------------------------------------------------------------------------------------------------------------------------------------------------------------------------------------------------------------------------------------------------------------------------------------------------------------------------------------------------------------------------------------------------------------------------------------------------------------------------------------------------------------------------------------------------------------------------------------------------------------------------------------------------------------------------------------------------------------------------------------------------------------------------------------------------------------------------------------------------------------------------------------------------------------------------------------------------------------------------------------------------------------------------------------------------------------------------------------------------------------------------------------------------------------------------------------------------------------------------------------------------------------------------------------------------------------------------------------------------------------------------------------------------------------------------------------------------------------------------------------------------------------------------------------------------------------------------------------------------------------------------------------------------------------------------------------------------------------------------------------------------------------------------------------------------------------------------------------------------------------------------------------------------------------------------------------------------------------------------------------------------------------------------------------------------------------------------------------------------------------------------------------------------------------------------------------------------------------------------------------------------------------------------------------------------------------------------------------------------------------------------------------------------------------------------------------------------------------------------------------------------------------------------------------------------------------------------------------------------------------------------------------------------------------------------------------------------------------------------------------------------------------------------------------------------------------------------------------------------------------------------------------------------------------------------------------------------------------------------------------------------------------------------------------------------------------------------------------------------------------------------------------------------------------------------------------------------------------------------------------------------------------------------------------------------------------------------------------------------------------------------------------------------------------------------------------------------------------------------------------------------------------------------------------------------------------------------------------------------------------------------------------------------------------------------------------------------------------------------------------------------------------------------------------------------------------------------------------------------------------------------------------------------------------------------------------------------------------------------------------------------------------------------------------------------------------------------------------------------------------------------------------------------------------------------------------------------------------------------------------------------------------------------------------------------------------------------------------------------------------------------------------------------------------------------------------------------------------------------------------------------------------------------------------------------------------------------------------------------------------------------------------------------------------------------------------------------------------------------------------------------------------------------------------------------------------------------------------------------------------------------------------------------------------------------------------------------------------------------------------------------------------------------------------------------------------------------------------------------------------------------------------------------------------------------------------------------------------------------------------------------------------------------------------------------------------------------------------------------------------------------------------------------------------------------------------------------------------------------------------------------------------------------------------------------------------------------------------------------------------------------------------------------------------------------------------------------------------------------------------------------------------------------------------------------------------------------------------------------------------------------------------------------------------------------------------------------------------------------------------------------------------------------------------------------------------------------------------------------------------------------------------------------------------------------------------------------------------------------------------------------------------------------------------------------------------------------------------------------------------------------------------------------------------------------------------------------------------------------------------------------------------------------------------------------------------------------------------------------------------------------------------------------------------------------------------------------------------------------------------------------------------------------------------------------------------------------------------------------------------------------------\n",
            "   0  Multiple firms have produced cell-cultured meat as part of their research and development. These products appear likely to become available to consumers in coming years. FDA and USDA are the primary agencies responsible for overseeing the safety of the nation's food supply. However, some stakeholders have expressed concern about the agencies' oversight of cell-cultured meat amidst a fragmented federal food safety oversight system. GAO was asked to review federal oversight of cell-cultured meat. This report (1) describes what is known about methods for commercially producing cell-cultured meat, and (2) examines the extent to which FDA and USDA are collaborating to provide regulatory oversight of cell-cultured meat. GAO conducted a literature review; reviewed documentation from FDA, USDA, and stakeholder groups; analyzed public comments submitted to the agencies; compared agency efforts with leading practices for interagency collaboration; and conducted site visits to selected cell-cultured meat firms. General information about the process of making cell-cultured meat—food products grown from the cells of livestock, poultry, and seafood—is available. However, no company is commercially producing cell-cultured meat. Specific information about the technology being used, eventual commercial production methods, and composition of the final products is not yet known. The general process contains five phases: biopsy, cell banking, growth, harvest, and food processing (see figure). The technology and methods to be used for commercial production are still in development, and producers, regulators, and consumers do not have clarity about many specifics about the process and final product. For example, it is unclear whether production methods and products will use or contain genetically-engineered cells or medications such as antibiotics. The Food and Drug Administration (FDA) and U.S. Department of Agriculture (USDA) have begun collaborating on regulatory oversight of cell-cultured meat. For example, in 2019, the agencies signed an interagency agreement and created three working groups to carry out the terms of the agreement. However, the agreement and working groups could more fully incorporate practices to enhance and sustain collaboration, such as defining outcomes. For example, the agreement identifies the development of labeling principles as an outcome, but does not describe how the agencies will track and monitor progress toward this outcome, and the working groups identify a lead agency but not members' roles. Also, agency officials said they decided FDA would oversee cell-cultured seafood other than catfish, but they have not formally announced or documented this decision. Developing and updating written guidance and agreements is also a leading practice for interagency collaboration. By fully incorporating leading practices into their efforts to collaborate, the agencies could minimize potential overlap and fragmentation, use resources in a more efficient manner, and better ensure the public and other key stakeholders have clarity about the agencies' oversight responsibilities. GAO recommends that FDA and USDA more fully incorporate leading practices for effective collaboration in the agencies' interagency agreement. FDA and USDA partially concurred and indicated a willingness to incorporate these practices in a more detailed agreement, which would also meet the intent of the recommendations. The agencies concurred with the four other recommendations.\n",
            "   1  Federal advisory committees provide advice to federal agencies on many topics. As of March 31, 2018, EPA managed 22 such committees. They advise the agency on such issues as developing regulations and managing research programs. Questions have been raised about EPA's process for appointing committee members after recent policy changes affecting who serves on the advisory committees. GAO was asked to review issues related to how EPA appoints advisory committee members. This report examines: (1) EPA's process for appointing advisory committee members, (2) the extent to which EPA followed its process for selecting members from October 2016 through March 2018, and (3) how, if at all, selected characteristics of EPA advisory committees changed after January 2017. GAO reviewed relevant federal laws, regulations, and guidance; reviewed documents from committees that appointed members over this period; analyzed information from the GSA's FACA database; and interviewed agency officials. Based on GAO's review of U.S. Environmental Protection Agency's (EPA) guidance, the agency's established process for appointing advisory committee members involves three main phases: soliciting nominations, evaluating candidates, and obtaining approvals. Each phase involves several steps. For example, a key step for evaluating candidates involves EPA staff's preparing documents that reflect staff recommendations on the best qualified and most appropriate candidates for achieving balanced committee membership, according to EPA guidance. EPA generally followed its established process for most of its 22 advisory committees; however, in fiscal year 2018, EPA did not follow a key step for appointing 20 committee members to two committees GAO reviewed: the EPA Science Advisory Board and Clean Air Scientific Advisory Committee, which advise the agency on environmental regulatory matters, among other things. The 2018 appointment packets for these two committees did not contain documents reflecting EPA staff rationales for proposed membership, as called for by EPA's established process. EPA developed guidance to implement the Federal Advisory Committee Act (FACA). By directing officials responsible for appointing committee members to follow a key step in its process to document staff rationales for proposed membership, the agency would have better assurance that it will (1) consistently meet FACA's purpose of encouraging uniform appointment procedures and (2) show how it made appointment decisions to achieve the best qualified and most appropriate candidates for balanced committee membership. EPA also did not consistently ensure that members appointed as special government employees (SGE)—who are expected to provide their best judgment free from conflicts of interest and are required by federal regulations to disclose their financial interests—met federal ethics requirements. For about 23 percent, or 17 of the 74 financial disclosure forms GAO reviewed, an ethics official had not signed and dated that the SGE filing the form was in compliance with federal ethics rules. EPA also did not periodically review its ethics program, as called for by federal regulations, such as through audits or spot-checks, to evaluate the quality of financial disclosure reviews for SGEs. Until EPA's Ethics Office evaluates the quality of financial disclosure reviews of SGEs as part of its periodic review of its ethics program, it will not have reasonable assurance that it will address noncompliance with federal ethics requirements and prevent conflicts of interest on its advisory committees. Based on GAO's review of the U.S. General Services Administration's (GSA) FACA database, there were notable changes to selected characteristics of EPA advisory committees (i.e. at least a 20 percentage point difference in the change to a characteristic after January 2017 compared to the period after January 2009). Of the four characteristics GAO reviewed—committee composition, regional affiliation, membership turnover, and number of meetings committees held—one or more of the first three changed notably for four of 18 EPA advisory committees after January 2017. GAO is recommending that EPA direct (1) officials responsible for appointing committee members to follow a key step in its appointment process to document staff rationales for proposed membership and (2) EPA's Ethics Office to evaluate the quality of financial disclosure reviews of SGEs appointed to advisory committees. EPA disagreed with the first and agreed with the second recommendation. GAO continues to believe that both are valid, as discussed in the report.\n",
            "   2  DOD manages a global real-estate portfolio with an almost $1.2 trillion estimated replacement value. Since 2010, DOD has identified climate change as a threat to its operations and installations. In January 2019, DOD stated that the effects of a changing climate are a national security issue with potential impacts to the department's missions, operational plans, and installations. GAO was asked to assess DOD's progress in developing a means to account for potentially damaging weather in its facilities project designs. GAO examined the extent to which DOD has taken steps to incorporate resilience to extreme weather and climate change effects into (1) selected installation master plans and related planning documents, and (2) selected individual installation facilities projects. GAO reviewed DOD documents related to increasing climate resilience, conducting installation master planning, and designing facilities projects. GAO visited or contacted a non-generalizable sample of 23 installations that had been associated with one or more climate vulnerabilities. Department of Defense (DOD) installations have not consistently assessed risks from extreme weather and climate change effects or consistently used projections to anticipate future climate conditions. For example, DOD's 2018 preliminary assessment of extreme weather and climate effects at installations was based on the installations' reported past experiences with extreme weather rather than an analysis of future vulnerabilities based on climate projections. Fifteen of the 23 installations GAO visited or contacted had considered some extreme weather and climate change effects in their plans as required by DOD guidance, but 8 had not. For example, Fort Irwin, California, worked with the U.S. Army Corps of Engineers to improve stormwater drainage after intense flash flooding caused significant damage to base infrastructure. By contrast, Joint Base Pearl Harbor-Hickam, Hawaii, did not include such considerations in its plans, although it is located in an area subject to tropical storms and where further sea level rise is anticipated. GAO also found that most of the installations had not used climate projections, because they lack guidance on how to incorporate projections into their master plans. Not assessing risks or using climate projections in installation planning may expose DOD facilities to greater-than-anticipated damage or degradation as a result of extreme weather or climate-related effects. Eleven of the 23 installations we reviewed had designed one or more individual facilities projects to increase the resilience of the facilities to extreme weather and climate change effects. However, project designs generally did not consider climate projections, according to installation officials. These officials told us that DOD lacks guidance on how to use climate projections that involve multiple future scenarios and different time periods. Until DOD updates its facilities design standards to require installations to consider climate projections in project designs, identify authoritative sources for them to use, and provide guidance on how to use projections, installation project designers may continue to exclude consideration of climate projections from facilities project designs, potentially making investments that are planned without consideration of climate-related risks. GAO is making eight recommendations, including that the military departments work together to update master planning criteria to require an assessment of extreme weather and climate change risks and to incorporate DOD guidance on the use of climate projections into facilities design standards. GAO also recommends that DOD issue guidance on incorporating climate projections into installation master planning and facilities project designs. DOD concurred with all eight of GAO's recommendations.\n",
            "   3  Nursing homes provide care to about 1.4 million nursing home residents—a vulnerable population of elderly and disabled individuals. CMS, an agency within the Department of Health and Human Services (HHS), defines standards nursing homes must meet to participate in the Medicare and Medicaid programs. GAO was asked to review abuse of residents in nursing homes. Among other objectives, this report: (1) determines the trends and types of abuse in recent years, and (2) evaluates CMS oversight intended to ensure residents are free from abuse. GAO reviewed CMS's policies, analyzed CMS data on abuse deficiencies from 2013 through 2017, the most recent data at the time of our review, and interviewed officials from CMS and state survey agencies in five states, as well as other key stakeholders in those states such as ombudsmen and law enforcement officials. The states were selected for variation in factors such as number of nursing homes and role of other state agencies in abuse investigations. The Centers for Medicare & Medicaid Services (CMS) is responsible for ensuring nursing homes meet federal quality standards, including that residents are free from abuse. CMS enters into agreements with state survey agencies to conduct surveys of the state's homes and to investigate complaints and incidents. GAO analysis of CMS data found that, while relatively rare, abuse deficiencies cited in nursing homes more than doubled, increasing from 430 in 2013 to 875 in 2017, with the largest increase in severe cases. GAO also reviewed a representative sample of abuse deficiency narratives from 2016 through 2017. Physical and mental/verbal abuse occurred most often in nursing homes, followed by sexual abuse, and staff were more often the perpetrators of the abuse deficiencies cited. CMS cannot readily access information on abuse or perpetrator type in its data and, therefore, lacks key information critical to taking appropriate actions. GAO also found gaps in CMS oversight, including: Gaps in CMS processes that can result in delayed and missed referrals. Federal law requires nursing home staff to immediately report to law enforcement and the state survey agency reasonable suspicions of a crime that results in serious bodily injury to a resident. However, there is no equivalent requirement that the state survey agency make a timely referral for complaints it receives directly or through surveys it conducts. CMS also does not conduct oversight to ensure that state survey agencies are correctly referring abuse cases to law enforcement. Insufficient information collected on facility-reported incidents. CMS has not issued guidance on what nursing homes should include when they self-report abuse incidents to the state survey agencies. Officials from all of the state survey agencies in GAO's review said the facility-reported incidents can lack information needed to prioritize investigations and may result in state survey agencies not responding as quickly as needed. GAO is making six recommendations, including that CMS: require state survey agencies to submit data on abuse and perpetrator type; require state survey agencies to immediately refer to law enforcement any suspicion of a crime; and develop guidance on what abuse information nursing homes should self-report. HHS concurred with all of GAO's recommendations and identified actions it will take to implement them.\n",
            "   4  Decades of defense activities at DOE's Idaho National Laboratory produced two forms of waste that EM has managed as HLW: liquid SBW and granular calcine waste. Under an agreement with the state, DOE must treat the waste to prepare it for removal from Idaho by 2035. Construction on the IWTU, EM's facility to treat such waste, was completed in 2012, but initial testing of the SBW treatment process revealed design problems. EM has since been working to reengineer the IWTU. Total project construction and reengineering expenditures have reached nearly $1 billion as of February 2019. GAO was asked to review EM's efforts to treat and dispose of the SBW and calcine waste. This report examines (1) the extent to which EM's management of the IWTU follows selected project management best practices; (2) challenges EM faces in disposing of the SBW; and (3) challenges EM faces in treating and disposing of the calcine waste. GAO reviewed agency documents and IWTU project data from March 2017 through February 2018, analyzed EM project management efforts against selected project management best practices for cost and schedule, and interviewed DOE officials. The Department of Energy's (DOE) Office of Environmental Management (EM) has not fully followed selected project management best practices in managing the reengineering of the Integrated Waste Treatment Unit (IWTU), shown in the figure, to treat 900,000 gallons of liquid sodium-bearing waste (SBW) that must be solidified for disposal. EM's cost and schedule estimates for IWTU reengineering did not fully meet selected best practices for cost (i.e., did not account for all costs) and schedule estimates (e.g., did not have a valid critical path). For example, EM did not follow best practices for a comprehensive cost estimate because EM did not include both government and contractor costs over the entire project. As of February 2019, EM has experienced approximately $64 million in added costs and a more than 1-year delay in IWTU reengineering. Without fully following best practices for cost and schedule estimates, EM is at risk of future cost overruns and delays in meeting its target disposal milestones. Based on GAO's review of EM documents, EM faces challenges with its plans for SBW disposal at its preferred disposal site, the Waste Isolation Pilot Plant (WIPP), an underground repository for waste contaminated by nuclear elements, near Carlsbad, New Mexico. These challenges include a statutory prohibition on the disposal of high-level waste (HLW) at WIPP. Further, EM does not have a strategy or timeline to address these challenges or to identify an alternative disposal pathway. Without such a strategy or timeline, EM risks not meeting its commitments with Idaho to prepare the SBW for removal from the state by 2035. EM faces challenges implementing its selected technology to further treat 1.2 million gallons of granular calcine waste and selecting a potential waste disposal pathway. For example, DOE has identified challenges with retrofitting the IWTU for calcine waste treatment. As a result, EM is deferring further development of its plans to treat the calcine waste. EM officials said that the agency is making progress toward calcine waste disposal by testing options for removing the waste from its storage bins, a precursor to treating or packaging the waste for disposal. However, EM does not have a strategy or timeline for determining its next steps for the treatment and disposal of calcine waste. Such a strategy could help EM in seeking alternatives to its selected treatment technology and provide assurance that it will meet its commitments with Idaho for removing calcine waste from the state by the end of 2035. GAO is making five recommendations, including that DOE develop a strategy for the disposal of the waste. DOE generally agreed with all of these recommendations.\n",
            "   5  Federal agencies publish on average 3,700 proposed rules yearly and are generally required to provide interested persons (commenters) an opportunity to comment on these rules. In recent years, some high-profile rulemakings have received extremely large numbers of comments, raising questions about how agencies manage the identity information associated with comments. While the APA does not require the disclosure of identifying information from a commenter, agencies may choose to collect this information. This testimony summarizes GAO's June 2019 report on public comment posting practices (GAO-19-483). In that report, GAO examined (1) the identity information collected by comment websites; (2) the guidance agencies have related to the identity of commenters; (3) how 10 selected agencies treat identity information; and (4) the extent to which the selected agencies clearly communicate their practices associated with identity information. The 10 agencies were selected on the basis of the volume of public comments they received on rulemakings. For this testimony, GAO obtained updates on the status of recommendations made to the selected agencies. The Administrative Procedure Act (APA) governs the process by which many federal agencies develop and issue regulations, which includes the public comment process (see figure below). In June 2019, GAO found that Regulations.gov and agency-specific comment websites collect some identity information—such as name, email, or address—from commenters who choose to provide it during the public comment process. The APA does not require commenters to disclose identity information when submitting comments. In addition, agencies have no obligation under the APA to verify the identity of such parties during the rulemaking process, and all selected agencies accept anonymous comments in practice. GAO found in the June 2019 report that seven of 10 selected agencies have some internal guidance associated with the identity of commenters, but the substance of this guidance varies. This reflects the differences in the way that the selected agencies handle commenter identity information internally. GAO also found that the selected agencies' practices for posting public comments to comment websites vary considerably, particularly for duplicate comments (identical or near-identical comment text but varied identity information). For example, one agency posts a single example of duplicate comments and indicates the total number of comments received, but only the example is available to public users of Regulations.gov. In contrast, other agencies post all comments individually. As a result, identity information submitted with comments is inconsistently presented on public websites. The APA allows agencies discretion in how they post comments, but GAO found that some of the selected agencies do not clearly communicate their practices for how comments and identity information are posted. GAO's key practices for transparently reporting government data state that federal government websites should disclose data sources and limitations to help public users make informed decisions about how to use the data. If not, public users of the comment websites could reach inaccurate conclusions about who submitted a particular comment, or how many individuals commented on an issue. In June 2019, GAO made recommendations to eight of the selected agencies regarding implementing and communicating public comment posting policies. The agencies generally agreed with the recommendations and identified actions they planned to take in response. Since the June 2019 report, one agency has implemented GAO's recommendation and seven agencies have identified additional planned actions.\n",
            "   6  Since 2000, there has been substantial growth in Medicare payments for hospice services and the number of Medicare beneficiaries using hospice. This growth has been accompanied by an increase in the number of providers (primarily an increase in for-profit providers), reaching approximately 4,500 providers by 2017. GAO was asked to review aspects of Medicare's hospice program. This report, among other things, (1) compares quality scores and other potential indicators of quality for for-profit and non-profit hospices; and (2) examines opportunities for strengthening CMS's oversight of hospice providers. GAO analyzed CMS data on hospice care for 2014 through 2017—the latest years for which full-year data were available at the time of GAO's analysis—and reviewed research on hospice care. GAO interviewed CMS officials, researchers, provider associations, a survey agency association, and a non-generalizable sample of hospice providers selected in part through referrals from other stakeholders. GAO also reviewed relevant statutes, regulations, documents, and enforcement data. Medicare's hospice benefit provides palliative care to beneficiaries with terminal illnesses and a life expectancy of 6 months or less. GAO's review of 2017 data from the Centers for Medicare & Medicaid Services (CMS) found that for-profit and non-profit hospices had, on average, similar scores on CMS's current quality measures that indicate hospice performance in areas such as pain assessment and discussion of beneficiary treatment preferences. However, for-profits were more often among the subset of providers with the lowest scores on certain quality measures GAO reviewed. In addition to analyzing providers' scores on CMS quality measures, GAO analyzed provider performance on other indicators, identified by researchers, that could signal quality issues and found performance varied among for-profit and non-profit hospices. One of the other quality indicators GAO analyzed was the rate of beneficiaries discharged from hospice prior to death, which in some cases could indicate dissatisfaction with care leading to the beneficiary's decision to leave the hospice provider. In addition, GAO examined the number of provider visits to give medical and emotional support within the last few days of a beneficiary's life. With regard to these indicators, for 2017, GAO found the following, among other things: 472 hospice providers (462 for-profits and 10 non-profits) had a high rate of discharging beneficiaries prior to death (50 percent or more were discharged). According to research, a high discharge rate could, in some cases, be an indicator of poor quality of care or of provider misuse of the benefit, in that the hospice may be enrolling beneficiares who are not eligible for hospice care. 83 providers (80 for-profits and 3 non-profits) did not have hospice staff (such as nurses, physicians, or nurse practitioners) visit beneficiaries within the last 3 days of their life—a critical time in providing quality care, according to researchers GAO interviewed. CMS's oversight of the quality of care provided by hospice providers consists primarily of inspections—called surveys—of hospice providers. GAO found that, while CMS instructs surveyors to review previous survey findings and complaints, CMS does not instruct surveyors to use information on providers' performance on quality measures or other potential indicators of quality as part of the survey process. For example, CMS does not instruct surveyors to consider whether a hospice provided staff visits during beneficiaries' last week of life. According to research, this information could be used to enhance the survey process. GAO also found that CMS is limited to one enforcement option—termination of the Medicare provider agreement—which CMS uses rarely and generally only when providers fail to correct within the required time frame the most serious violations of federal health and safety requirements. According to two researchers, additional remedies, such as civil monetary penalties, could enhance CMS's oversight by addressing performance problems that do not merit termination and incentivize agencies to improve quality of care. CMS uses a range of remedies for other provider types, such as home health agencies and nursing homes, but lacks authority to impose such additional sanctions on hospices. CMS should incorporate the use of additional information that could be used to identify quality of care issues into its survey process for hospice oversight. Congress should consider giving CMS authority to establish additional enforcement remedies for hospices that do not meet federal health and safety requirements. The Department of Health and Human Services concurred with GAO's recommendation.\n",
            "   7  Third-party providers, such as paid tax return preparers and tax preparation software providers, greatly impact IRS’s administration of the tax system. If these third parties do not properly secure taxpayers’ personal and financial information, taxpayers will be vulnerable to identity theft refund fraud and their sensitive personal information will be at risk of unauthorized disclosure. IRS estimates that it paid out at least $110 million in identity theft tax refund fraud during 2017, and at least $1.6 billion in identity theft tax refund fraud during 2016. GAO was asked to review IRS’s efforts to track, monitor, and deter theft of taxpayer information from third parties. Among other things, this report assesses what is known about the taxpayer information security requirements for the systems used by third-party providers, IRS’s processes for monitoring compliance with these requirements, and IRS’s requirements for third-party security incident reporting. GAO analyzed IRS’s information security requirements, standards, and guidance for third-party providers and compared them to relevant laws, regulations, and leading practices, such as NIST guidance and Standards for Internal Control in the Federal Government . GAO reviewed IRS’s monitoring procedures and its requirements and processes for third-party reporting of security incidents, and compared them to Internal Control Standards and GAO’s A Framework for Managing Fraud Risk in Federal Programs . GAO also interviewed IRS and tax industry group officials. Federal law and guidance require that the Internal Revenue Service (IRS) protect the confidentiality, integrity, and availability of the sensitive financial and taxpayer information that resides on its systems. However, taxpayer information held by third-party providers—such as paid tax return preparers and tax preparation software providers—generally falls outside of these requirements, according to IRS officials. In 2018, about 90 percent of individual taxpayers had their tax returns electronically filed by paid preparers or used tax preparation software to prepare and file their own returns. IRS seeks to help safeguard electronic tax return filing for various types of third-party providers through requirements under its Authorized e-file Provider program. However, IRS’s efforts do not provide assurance that taxpayers’ information is being adequately protected. Paid Preparers. IRS has not developed minimum information security requirements for the systems used by paid preparers or Authorized e-file Providers. According to IRS’s Office of Chief Counsel, IRS does not have the explicit authority to regulate security for these systems. Instead, the Internal Revenue Code gives IRS broad authority to administer and supervise the internal revenue laws. The Department of the Treasury has previously requested additional authority to regulate the competency of all paid preparers; GAO has also suggested that Congress consider granting IRS this authority. Congress has not yet provided such authority. Neither the Department of the Treasury request nor the GAO suggestion included granting IRS authority to regulate the security of paid preparers’ systems. Having such authority would enable IRS to establish minimum requirements. Further, having explicit authority to establish security standards for Authorized e-file Providers’ systems may help IRS better ensure the protection of taxpayers’ information. Tax Software Providers. As part of a public-private partnership between IRS and the tax preparation industry, 15 tax software providers voluntarily adhere to a set of about 140 information security controls developed using guidance from the National Institute of Standards and Technology (NIST). However, these controls are not required, and these providers represent only about one-third of all tax software providers. Additionally, IRS established six security, privacy, and business standards for providers of software that allows individuals to prepare their own tax returns (as opposed to software that paid preparers use). However, IRS has not substantially updated these standards since 2010, and they are, at least in part, outdated. For example, IRS cites an outdated encryption standard that NIST recommends not using due to its many known weaknesses. A key factor contributing to missed opportunities to address third-party cybersecurity is IRS’s lack of centralized leadership. Consequently, IRS is less able to ensure that third-party providers adequately protect taxpayers’ information, which may result in identity theft refund fraud. IRS monitors compliance with its electronic tax return filing program requirements for those paid preparers who electronically file returns; however, IRS’s monitoring has a limited focus on cybersecurity issues. For example, the monitoring techniques largely focus on physical security (e.g., locked filing cabinets) rather than verifying that preparers have an information security policy consistent with NIST-recommended controls. Without effective monitoring of cybersecurity controls, IRS has limited assurance that those paid preparers’ systems have adequate controls in place to protect clients’ data. IRS recently began collecting information on high-risk security incidents, such as hackers infiltrating third-party provider systems. Reported incidents increased from 2017 to 2018, the only years for which IRS has data. However, IRS does not have a full picture of the scope of incidents because of inconsistent reporting requirements, including no reporting requirements for paid preparers. GAO suggests that Congress consider providing IRS with explicit authority to establish security requirements for paid preparers’ and Authorized e-file Providers’ systems. GAO is also making eight recommendations, including that the Commissioner of Internal Revenue Develop a governance structure or other form of centralized leadership to coordinate all aspects of IRS’s efforts to protect taxpayer information while at third-party providers. Require all tax software providers to adhere to prescribed information security controls. Regularly review and update security standards for tax software providers. Update IRS’s monitoring programs to include basic cybersecurity issues. Standardize incident reporting requirements for all types of third-party providers. IRS agreed with three recommendations, including the above recommendations to regularly review and update security standards for tax software providers, and standardize incident reporting requirements. IRS disagreed with five recommendations—including the other three listed above—generally citing the lack of clear and explicit authority it would need to establish security requirements for the information systems of paid preparers and Authorized e-file Providers. GAO believes that IRS can implement these recommendations without additional statutory authority.\n",
            "   8  The CCDF is administered as a block grant to the states by OCC, an agency within the Department of Health and Human Services (HHS). Recent reports by the HHS Office of the Inspector General show that OCC's monitoring of CCDF state program-integrity efforts remains a challenge. CCDF has also been designated as a program susceptible to significant improper payments, as defined by the Office of Management and Budget. GAO was asked to review CCDF program-integrity efforts. This report discusses, among other things, the extent to which OCC provides oversight of (1) states' CCDF program-integrity activities, including encouraging that all requested information is included within State Plans; and (2) improper-payment risks and relevant corrective actions in states' CCDF programs. GAO analyzed 51 approved CCDF State Plans, including from the District of Columbia, for the fiscal years 2019–2021 grant period. GAO also reviewed OCC policies and procedures and compared them to relevant laws, regulations, and Standards for Internal Control in the Federal Government , and interviewed relevant federal officials. The Child Care and Development Fund (CCDF) provided states more than $8 billion in federal funds in fiscal year 2019. The Office of Child Care (OCC) oversees the integrity of the CCDF, which subsidizes child care for low-income families. A key part of OCC's oversight includes reviewing and approving State Plans. OCC requested but did not require states to describe in their State Plans the results of their program-integrity activities, which describe the processes that states use to identify fraud risk. Further, OCC has not defined or communicated what information it considers to be the “results” of program-integrity activities to the states and its own staff. Without defining and communicating its informational needs, OCC may continue to lack quality information that could help ensure states' accountability over their program-integrity activities. OCC oversees states' improper payment risks through a process that includes a requirement for states to submit corrective action plans (CAP) when they estimate their annual payment error rates are at or above 10 percent. Since 2013, seven states have submitted 14 CAPs. These CAPs describe states' proposed actions for reducing improper payments. However, OCC does not have documented criteria to guide its review and approval of the CAPs to ensure the proposed corrective actions are aimed at root causes of improper payments and are effectively implemented. Without developing this guidance, OCC does not have assurance that proposed corrective actions are specifically aimed at root causes of improper payments, leaving the CCDF program at continued risk of improper payments. GAO is making nine recommendations, including that OCC define and communicate its informational needs on the results of states' program-integrity activities, and that OCC develop criteria to guide the review of CAPs to ensure that proposed corrective actions are aimed at root causes of improper payments and are effectively implemented. HHS concurred with our recommendations and provided technical comments, which GAO incorporated as appropriate.\n",
            "   9  PMIAA requires OMB to adopt program management standards and guidelines government-wide; OPM is to establish new—or revise existing—occupational standards for program and project management. PMIAA includes a provision for GAO, no later than 3 years after the enactment of the act, to issue a report examining the implementation and effectiveness of certain provisions of the act on federal program and project management. This report (1) describes steps taken by OMB, OPM, and agencies to implement PMIAA; (2) assesses OMB's efforts to address issues on GAO's High-Risk List using PMIAA; and (3) examines the extent to which OMB provided methods for agencies to measure and assess the results of PMIAA. GAO reviewed documents from and conducted interviews with OMB and OPM. GAO surveyed all 24 CFO Act agencies, and selected five agencies to illustrate implementation efforts. GAO also interviewed subject matter specialists from academia and the private sector regarding their views on how program and project management practices applied to PMIAA. The Office of Management and Budget (OMB) has begun to implement all requirements of the Program Management Improvement Accountabilitiy Act of 2016 (PMIAA), but further efforts are needed to fully implement the law. OMB released its 5-year strategic plan for PMIAA and developed program management standards. However, the standards are not detailed compared with accepted program and project management standards, and OMB's governance structure is insufficient for developing and maintaining these standards over time. In 2019, OMB conducted ten reviews of agency program portfolios—organized groupings of programs whose coordination in implementation enables agencies to achieve their objectives. Each review addressed one or two portfolios per agency. Further, OMB's required portfolio reviews of high-risk areas were limited to only five out of 35 areas on GAO's High-Risk List. OMB could establish measures to track agencies' progress. Although not required by PMIAA, this is a good practice for demonstrating improvement. As required by PMIAA, the Office of Personnel Management (OPM) developed competencies for program and project managers and updated the program management job series. Further, OPM is developing a career path for program and project managers by the end of 2019. OPM also plans to create a unique job identifier code in 2020 so that agencies can more completely identify their program management workforce. The Program Management Policy Council (PMPC), established by PMIAA and chaired by OMB's Deputy Director for Management, met for the first time in September 2018 and met twice in 2019 to discuss PMIAA implementation with Chief Financial Officers (CFO) Act agencies. All CFO Act agencies designated a Program Management Improvement Officer to participate in the PMPC. However, the PMPC has neither addressed GAO high-risk areas nor advised OMB on how to address high-risk areas, as required by the PMIAA. GAO is making eight recommendations that OMB further develop the standards to include more detail, create a governance structure for program management standards, hold meetings on all High-Risk List areas, and establish measures to track agencies' progress in program management. OMB neither agreed nor disagreed with the recommendations and stated that it would consider them when making future updates to its program management policies and guidance.\n",
            "  10  Nationwide, about 1.4 million elderly or disabled individuals receive care in more than 15,500 nursing homes. CMS, an agency within the Department of Health and Human Services (HHS), defines standards nursing homes must meet to participate in the Medicare and Medicaid programs. Nursing home residents often have physical or cognitive limitations that can leave them particularly vulnerable to abuse. Abuse of nursing home residents can occur in many forms—including physical, mental, verbal, and sexual—and can be committed by staff, residents, or others in the nursing home. Any incident of abuse is a serious occurrence and can result in potentially devastating consequences for residents, including lasting mental anguish, serious injury, or death. This statement summarizes GAO's June 2019 report, GAO-19-433 . Specifically, it describes: (1) the trends and types of abuse in recent years, and (2) CMS's oversight intended to ensure residents are free from abuse. It also includes a brief summary of findings and recommendations from this June 2019 report and prior GAO reports that examined the health and welfare of the elderly in multiple settings, and the status, as of November 2019, of HHS's efforts to implement the recommendations GAO made. The Centers for Medicare & Medicaid Services (CMS) is responsible for ensuring nursing homes meet federal quality standards, including that residents are free from abuse. CMS enters into agreements with state survey agencies to conduct surveys of the state's homes and to investigate complaints and incidents. GAO's June 2019 report found that, while abuse deficiencies cited in nursing homes were relatively rare from 2013 through 2017, they more than doubled during that time, increasing from 430 in 2013 to 875 in 2017, with the largest increase in severe cases. In light of the increased number and severity of abuse deficiencies, it is imperative that CMS have strong nursing home oversight in place to protect residents from abuse. However, GAO found oversight gaps that may limit the agency's ability to do so. Specifically, GAO found: (1) Information on abuse and perpetrator types is not readily available. CMS's data do not allow for the type of abuse or perpetrator to be readily identified by the agency. Specifically, CMS does not require the state survey agencies to record abuse and perpetrator type and, when this information is recorded, it cannot be easily analyzed by CMS. GAO made a recommendation that CMS require state survey agencies to submit data on abuse and perpetrator type and HHS concurred. As of November 2019, HHS had not implemented the recommendation. (2) Facility-reported incidents lack key information. Despite federal law requiring nursing homes to self-report allegations of abuse and covered individuals to report reasonable suspicions of crimes against residents, CMS has not provided guidance to nursing homes on what information they should include in facility-reported incidents, contributing to a lack of information for state survey agencies and delays in their investigations. GAO made a recommendation that CMS develop guidance on what abuse information nursing homes should self-report and HHS concurred. As of November 2019, HHS had not implemented the recommendation. (3) Gaps exist in the CMS process for state survey agency referrals to law enforcement. GAO found gaps in CMS's process for referring incidents of abuse to law enforcement. These gaps may limit CMS's ability to ensure that nursing homes meet federal requirements for residents to be free from abuse. Specifically, GAO identified issues related to (1) referring abuse to law enforcement in a timely manner, (2) tracking abuse referrals, (3) defining what it means to substantiate an allegation of abuse—that is, the determination by the state survey agency that evidence supports the abuse allegation, and (4) sharing information with law enforcement. GAO made four recommendations to address these gaps and HHS concurred. As of November 2019, HHS had not implemented these recommendations.\n",
            "  11  VA receives billions of dollars per year to provide health care and disability compensation to promote the wellness of veterans with service-connected conditions. VA studies veterans' health through research and assesses changes in service-connected conditions through its reevaluation process. GAO was asked to review VA's efforts to study and gauge the health outcomes of veterans with service-connected conditions. This report examines the extent to which (1) veterans used VA health care services to treat service-connected conditions, and what is known about their health outcomes; (2) VA uses information on reevaluations to help manage the program; and (3) VA's procedures position it to determine when to conduct a reevaluation. GAO reviewed fiscal year 2018 VA health care data; selected studies; VA data on completed reevaluations from fiscal years 2013-2018; and relevant federal laws, regulations, and program guidance. GAO also interviewed staff at four VA regional offices (selected for variation in claims workload and location) and VA officials at the agency's central office. In fiscal year 2018, about 54 percent of veterans receiving Department of Veterans Affairs (VA) disability compensation had at least one VA outpatient visit to treat an injury or illness that VA deemed was incurred or aggravated during military service (i.e., a service-connected condition). However, the health outcomes of veterans with service-connected conditions, such as changes in the severity of symptoms or the incidence of mortality, are not well understood. Information about health outcomes is central to ensuring veterans' wellness and assessing improvement in their disability status. According to VA researchers GAO spoke with and academic studies GAO reviewed, various challenges have limited research on this population. For example, data reside in different VA systems and use different identifiers for medical conditions, hindering use of the data. While VA has begun to consider ways to analyze health outcomes, it has not yet established a plan for this effort, including the scope, specific activities, and timeframes for addressing the identified research challenges. VA does not glean information from the results of reevaluations to help manage its disability compensation program. Disability reevaluations help VA gauge whether veterans' service-connected conditions have changed, and whether disability compensation should be modified to reflect those changes (see figure). However, VA does not fully use key management information, such as: trends in how frequently certain conditions are reevaluated, including those required by VA regulations to be reevaluated; and outcomes of reevaluation decisions for individual conditions (i.e., whether conditions worsened or improved). Both trend and outcome information could help VA better target its resources toward reevaluating conditions more likely to change. VA recently updated its procedures manual to specify which staff may determine whether a veteran's condition should be reevaluated, but has not clearly defined skill sets and training needed to consistently implement these procedures. Specifically, the updated procedures do not indicate the knowledge, skills, and abilities staff need to determine when to conduct reevaluations. Further, VA has not ensured that training aligns with these needed skillsets. Without improving procedures and training, VA is at risk of conducting unnecessary reevaluations and burdening veterans. GAO is making five recommendations, including that VA develop a plan to address challenges to studying health outcomes, use information on reevaluations to improve program management, and improve procedures and training for reevaluations. VA agreed with two recommendations and agreed in principle with the other three, but its proposed actions do not fully address GAO's concerns.\n",
            "  12  As of March 2018, more than 1.2 million foreign students in the United States were enrolled in 8,774 schools certified by SEVP. ICE is responsible for managing SEVP, which certifies schools to enroll foreign students. Various ICE offices have a role in preventing, detecting, and responding to potential fraud in the program. GAO was asked to review potential vulnerabilities to fraud in SEVP. GAO examined, among other things, the extent to which ICE (1) implemented controls to address fraud risks in the school certification and recertification processes and (2) implemented fraud risk controls related to DSO training. GAO analyzed ICE policies and documentation, including fraud risk guidance and procedures for school certification and recertification; analyzed 2013 through 2017 recertification data; and interviewed officials from five ICE field offices that GAO selected based on their experience investigating program fraud. GAO also interviewed officials from 17 selected schools located near these ICE field offices. This is a public version of a sensitive report that GAO issued in November 2018. Information that DHS deemed sensitive has been omitted. The Department of Homeland Security's (DHS) U.S. Immigration and Customs Enforcement (ICE) has identified several fraud risks to the Student and Exchange Visitor Program (SEVP). As shown in the figure below, these include risks associated with school owners and designated school officials (DSO) who help ICE oversee students in the program. These fraud risks may occur as schools apply to become SEVP-certified, accept foreign students, and apply for recertification every 2 years. ICE has implemented controls to address fraud risks related to school certification, but long-standing delays in recertifying these schools exacerbate fraud risks. By statute and regulation, ICE must conduct recertification reviews every 2 years to ensure that schools continue to meet program requirements—an important fraud risk control. Between 2013 and 2017, ICE recertified about 12,900 schools. However, according to ICE officials, they have been unable to meet the 2-year time frame and, as of June 2018, had 3,281 recertification petitions waiting for review. To help manage its queue, ICE has lengthened the period between recertification reviews by extending schools' certification expiration dates by 180 days, which is inconsistent with its regulation and may allow fraudulent schools to operate longer without detection. Although ICE is taking steps to increase resources for recertification, it is unclear whether these steps will ensure recertification is conducted consistently with ICE regulations. ICE relies on DSOs to, among other things, update and maintain foreign-student data in ICE's foreign-student information system and report suspected fraud to ICE. However, ICE does not provide DSOs with training that addresses fraud risks to the program. In June 2018, ICE officials stated that they plan to develop this fraud training for DSOs, but do not have documented plans or timelines for when it would be completed. By developing these plans, the agency would be better positioned to ensure that DSOs receive the training needed to address potential fraud in the program. GAO is making seven recommendations, including that ICE (1) notify schools 180 days prior to the 2-year certification expiration date, as required, and evaluate whether additional resources for recertification are needed, and (2) develop a plan to implement fraud-specific training for DSOs. ICE concurred with all of GAO's recommendations.\n",
            "  13  The World Health Organization (WHO) declared the Zika virus a public health emergency of international concern in February 2016. According to WHO, as of March 2017, 79 countries and territories—including 48 in the Western Hemisphere—reported evidence of ongoing Zika transmission. In April 2016, USAID and State repurposed $215 million for Zika from funds appropriated for Ebola. Subsequently, the Zika Response and Preparedness Appropriations Act, 2016, provided over $175 million in supplemental funding to USAID and State to support Zika response efforts overseas. The act also included a provision for GAO to review the status of USAID and State actions to respond to Zika. In March 2019, the Centers for Disease Control and Prevention downgraded its international travel warning for Zika. This report examines (1) the status of USAID and State funding for U.S. Zika response overseas, (2) activities supported by these funds, and (3) implementation challenges, if any, and responses to any challenges. GAO reviewed information from U.S. agencies and met with U.S. and host country officials in Washington, D.C. GAO also conducted fieldwork in a nongeneralizable sample of countries in Latin America and the Caribbean where agencies implemented key response activities. The U.S. Agency for International Development (USAID) and the Department of State (State) obligated $385 million of the total $390 million available for international Zika response and disbursed $264 million as of September 2018. USAID obligated 95 percent of the total funding. USAID and State provided some country information to Congress but did not provide, or take steps to track, funding on a country basis. According to USAID officials, tracking funding information by country would be helpful in the future. The ability to compile funding by country when responding to future infectious disease outbreaks would enable USAID to provide additional information to key decision makers to better support spending oversight and inform budgetary and planning decisions. In response to the Zika outbreak, USAID and State supported a broad range of activities overseas, including mosquito control, research efforts, and medical evacuations. In one activity, USAID implementing partners monitored mosquito populations; in another, they researched methods to reduce Zika virus transmission rates. USAID implementing partners reported various outputs from selected activities. For example, an implementing partner reported that its awareness campaign on Zika prevention reached more than 5 million people. USAID faced sustainability and timeliness challenges in implementing its Zika response. According to agency and other officials, one-time funding and a short time frame posed a challenge related to sustainability of Zika response activities. In response, USAID worked to align activities with those of host governments and other organizations so they could continue in the long term. However, USAID's emergency response planning did not fully address the challenge of timely implementation of response activities in countries without bilateral USAID health programs. Twenty-two of 26 countries with Zika response activities did not have bilateral USAID health programs when the Zika outbreak began. As a result, response activities took additional time to deploy in some countries where USAID first had to establish relationships with key host country officials. Although USAID developed an infectious disease response plan in 2018, the plan does not provide guidance on how to address the timely implementation challenge in countries without bilateral health programs. By improving its planning, such as by adding such guidance in its 2018 plan, USAID would be better positioned to respond quickly to future disease outbreaks. USAID should (1) take steps to ensure it is able to compile funding information by country for future infectious disease emergency responses and (2) take steps to improve its infectious disease response planning. USAID concurred with GAO's recommendations.\n",
            "  14  The United States, which relies on imports for most of the seafood it consumes, imported about $40 billion in fishery products in 2018. Seafood imports often involve complex supply chains, which may include forced labor. A 2017 United Nations report estimated that there are 24.9 million people in forced labor around the world, 12 percent of whom work in the agriculture and fishing sectors. Section 307 of the Tariff Act of 1930, as amended in 2016, prohibits the importation of goods, including seafood, produced or manufactured, wholly or in part, in any foreign country by forced labor, among other things. GAO was asked to review CBP's enforcement of section 307. This report examines (1) the process CBP uses to enforce section 307 for seafood imports and the results of its civil enforcement actions; and (2) the external sources of information CBP uses to help carry out enforcement of section 307 for seafood imports and stakeholder perspectives on CBP's communication of its information needs. GAO reviewed laws and CBP documents pertaining to section 307 enforcement and interviewed officials from CBP, other federal agencies, and 18 NGO stakeholders. GAO selected NGOs with various goals and missions related to seafood and forced labor. The Department of Homeland Security's U.S. Customs and Border Protection (CBP) uses a four-phase process to enforce section 307 of the Tariff Act of 1930, which prohibits imports produced with forced labor, including seafood. CBP's Forced Labor Division, established in 2018, largely carries out this process. In phase 1, CBP assesses leads when deciding to initiate a case involving potential forced labor. In phase 2, CBP investigates cases using a variety of information to determine whether evidentiary standards have been met. In phase 3, CBP reviews information for legal sufficiency and, in phase 4, may take action at a port of entry to detain imports in violation by issuing a withhold release order. Between 2016 and March 2020, CBP issued one order for seafood, prohibiting tuna shipments from a specific fishing vessel from entering U.S. commerce. CBP uses information from external sources to help enforce section 307 for seafood imports but may miss opportunities to obtain key information from stakeholders. CBP officials said they use media reports and information from federal agencies and stakeholders to develop forced labor cases. For example, CBP initiated the case that resulted in the seafood order based partly on media reports and investigated it using vessel data from the Department of Commerce. CBP officials said that stakeholders such as nongovernmental organizations (NGOs) often have firsthand accounts of forced labor—valuable information for investigations. However, most stakeholders told GAO that they do not have a clear understanding of the information CBP needs to investigate seafood cases because CBP has not communicated such information. For example, CBP's website provides general information about what individuals can submit if forced labor is suspected but does not provide specific types of information that could be useful. With better communication to stakeholders about the types of information it needs to develop forced labor cases, CBP may be able to improve its enforcement efforts. GAO recommends that CBP better communicate to stakeholders the types of information stakeholders could collect and submit to CBP to help the agency initiate and investigate forced labor cases related to seafood and, as appropriate, other goods. CBP agreed with GAO's recommendation.\n",
            "  15  As DOD increased its reliance on special operations forces, SOCOM's budget has increased from $5.2 billion in 2005 to $12.3 billion in 2018. Section 922 of the NDAA for Fiscal Year 2017 included provisions to enhance the Assistant Secretary of Defense for Special Operations and Low-Intensity Conflict's responsibilities to be similar to those of a military department secretary regarding the organization, training, and equipping of special operations forces. The Joint Explanatory Statement accompanying the fiscal year 2018 NDAA included a provision for GAO to assess DOD's actions in response to section 922. This report assesses (1) the extent to which DOD has identified and taken actions to implement section 922; (2) what, if any, challenges it faces in completing implementation; and (3) the extent to which its hiring approach for the office of the ASD-SO/LIC has incorporated strategic workforce planning principles. GAO reviewed relevant documents and interviewed DOD officials. Since 2017 the Department of Defense (DOD) has made recommendations, developed actions, and taken steps to address requirements in section 922 of the National Defense Authorization Act (NDAA) for Fiscal Year 2017 to expand the Assistant Secretary of Defense for Special Operations and Low-Intensity Conflict's (ASD-SO/LIC) roles and responsibilities. DOD officials noted that they have taken an incremental implementation approach to addressing section 922. In 2018, DOD identified 166 recommendations to change the ASD-SO/LIC's oversight of special operations forces (SOF). These recommendations were used to develop 87 actions that were necessary to implement section 922. Since February 2019, DOD has implemented 56 of these actions. For example, the Deputy Secretary of Defense approved a new Special Operations Policy and Oversight Council directive that identified the ASD-SO/LIC as the lead for that council. The Deputy Secretary of Defense also delegated the ASD-SO/LIC with authority to approve waivers to hire civilian personnel during a civilian hiring freeze. Although the office of the ASD-SO/LIC has taken many actions to implement section 922, DOD faces two key challenges in completing its implementation of the ASD-SO/LIC's new roles and responsibilities: Lack of time frames . As of February 2019, 28 out of 31 unimplemented actions associated with section 922 did not have clear time frames for implementation. According to ASD-SO/LIC and U.S. Special Operations Command (SOCOM) officials, they did not prioritize establishing time frames because they took an incremental approach to implementing actions and addressed them on a case-by-case basis. Without clear time frames for implementation, ASD-SO/LIC and SOCOM may be less effective in implementing section 922. Unclear guidance . Current guidance about ASD-SO/LIC responsibilities is outdated: for example, it states that the ASD-SO/LIC shall report directly to the Under Secretary of Defense for Policy. However, section 922 states that special operation forces-related administrative matters are managed directly by the Secretary of Defense to the ASD-SO/LIC. The special operations force enterprise is a complex system, and unless roles and responsibilities are clarified in guidance, other DOD stakeholders, such as the military services, may not know the extent of the ASD-SO/LIC's and SOCOM's authorities and responsibilities. DOD officials expressed some concerns that until these matters are clarified in guidance, it will remain unclear whether the ASD-SO/LIC and SOCOM should work together—for example, on personnel issues—and how their relationships with stakeholders with oversight authority will be managed. DOD partially concurred, and based on its comments, GAO modified one recommendation. The office of the ASD-SO/LIC has made efforts to develop a workforce plan, including commissioning a manpower study and taking steps to develop a hiring plan; however, these efforts do not fully incorporate some leading principles for a strategic workforce plan. For example, ASD-SO/LIC did not share the hiring plan with its staff, including key officials from the office of the ASD-SO/LIC and SOCOM. Without completing a comprehensive strategic workforce plan that includes key principles, the office of the ASD-SO/LIC may not know what gaps exist in skills and competencies in order to develop effective workforce strategies to fill those gaps. These issues could put the office of the ASD-SO/LIC at risk of hiring personnel who may not adequately meet its needs as defined by section 922. GAO is making three recommendations to DOD to establish time frames for section 922 actions; update applicable guidance to clarify roles and responsibilities for the ASD-SO/LIC and SOCOM; and develop a strategic workforce plan that incorporates key principles. DOD partially concurred with the recommendations and GAO continues to believe the recommendations are valid, as discussed in the report. GAO also modified one recommendation to address DOD concerns regarding its applicability.\n"
          ]
        }
      ]
    },
    {
      "cell_type": "code",
      "source": [
        "from google.colab import files\n",
        "\n",
        "torch.save(model.state_dict(), 'checkpoint.pth')\n",
        "\n",
        "# download checkpoint file\n",
        "files.download('checkpoint.pth')"
      ],
      "metadata": {
        "colab": {
          "base_uri": "https://localhost:8080/",
          "height": 17
        },
        "id": "TY6z5gEv363F",
        "outputId": "11b0072d-b54d-4411-ab76-9b19472e320d"
      },
      "execution_count": null,
      "outputs": [
        {
          "output_type": "display_data",
          "data": {
            "text/plain": [
              "<IPython.core.display.Javascript object>"
            ],
            "application/javascript": [
              "\n",
              "    async function download(id, filename, size) {\n",
              "      if (!google.colab.kernel.accessAllowed) {\n",
              "        return;\n",
              "      }\n",
              "      const div = document.createElement('div');\n",
              "      const label = document.createElement('label');\n",
              "      label.textContent = `Downloading \"${filename}\": `;\n",
              "      div.appendChild(label);\n",
              "      const progress = document.createElement('progress');\n",
              "      progress.max = size;\n",
              "      div.appendChild(progress);\n",
              "      document.body.appendChild(div);\n",
              "\n",
              "      const buffers = [];\n",
              "      let downloaded = 0;\n",
              "\n",
              "      const channel = await google.colab.kernel.comms.open(id);\n",
              "      // Send a message to notify the kernel that we're ready.\n",
              "      channel.send({})\n",
              "\n",
              "      for await (const message of channel.messages) {\n",
              "        // Send a message to notify the kernel that we're ready.\n",
              "        channel.send({})\n",
              "        if (message.buffers) {\n",
              "          for (const buffer of message.buffers) {\n",
              "            buffers.push(buffer);\n",
              "            downloaded += buffer.byteLength;\n",
              "            progress.value = downloaded;\n",
              "          }\n",
              "        }\n",
              "      }\n",
              "      const blob = new Blob(buffers, {type: 'application/binary'});\n",
              "      const a = document.createElement('a');\n",
              "      a.href = window.URL.createObjectURL(blob);\n",
              "      a.download = filename;\n",
              "      div.appendChild(a);\n",
              "      a.click();\n",
              "      div.remove();\n",
              "    }\n",
              "  "
            ]
          },
          "metadata": {}
        },
        {
          "output_type": "display_data",
          "data": {
            "text/plain": [
              "<IPython.core.display.Javascript object>"
            ],
            "application/javascript": [
              "download(\"download_e01be726-c403-414d-9792-ba19b2b2bde8\", \"checkpoint.pth\", 557979897)"
            ]
          },
          "metadata": {}
        }
      ]
    },
    {
      "cell_type": "code",
      "source": [
        "from tensorflow.python.client import device_lib\n",
        "device_lib.list_local_devices()"
      ],
      "metadata": {
        "id": "9uAixSzKZVyv"
      },
      "execution_count": null,
      "outputs": []
    },
    {
      "cell_type": "code",
      "source": [
        ""
      ],
      "metadata": {
        "id": "_QPoOscLoUhq"
      },
      "execution_count": null,
      "outputs": []
    }
  ]
}